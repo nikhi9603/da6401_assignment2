{
  "metadata": {
    "kernelspec": {
      "name": "python3",
      "display_name": "Python 3"
    },
    "language_info": {
      "name": "python",
      "version": "3.11.11",
      "mimetype": "text/x-python",
      "codemirror_mode": {
        "name": "ipython",
        "version": 3
      },
      "pygments_lexer": "ipython3",
      "nbconvert_exporter": "python",
      "file_extension": ".py"
    },
    "colab": {
      "provenance": []
    },
    "kaggle": {
      "accelerator": "gpu",
      "dataSources": [
        {
          "sourceId": 11450933,
          "sourceType": "datasetVersion",
          "datasetId": 7174491
        },
        {
          "sourceId": 11461644,
          "sourceType": "datasetVersion",
          "datasetId": 7182005
        }
      ],
      "dockerImageVersionId": 31012,
      "isInternetEnabled": true,
      "language": "python",
      "sourceType": "notebook",
      "isGpuEnabled": true
    }
  },
  "nbformat_minor": 0,
  "nbformat": 4,
  "cells": [
    {
      "cell_type": "markdown",
      "source": [
        "## Installation"
      ],
      "metadata": {
        "id": "vGLMBeNg-CHh"
      }
    },
    {
      "cell_type": "code",
      "source": [
        "pip install wandb numpy pandas matplotlib torch torchvision"
      ],
      "metadata": {
        "id": "TDRNq2wV9Yxr"
      },
      "outputs": [],
      "execution_count": null
    },
    {
      "cell_type": "markdown",
      "source": [
        "## Dataset"
      ],
      "metadata": {
        "id": "2pKvVtLV-TqH",
        "jp-MarkdownHeadingCollapsed": true
      }
    },
    {
      "cell_type": "code",
      "source": [
        "from google.colab import drive\n",
        "drive.mount('/content/drive')"
      ],
      "metadata": {
        "id": "zftJw42q-LCj",
        "outputId": "c22b7702-c68d-4154-d2a9-92b3d6f0002b",
        "colab": {
          "base_uri": "https://localhost:8080/"
        }
      },
      "outputs": [
        {
          "output_type": "stream",
          "name": "stdout",
          "text": [
            "Mounted at /content/drive\n"
          ]
        }
      ],
      "execution_count": 1
    },
    {
      "cell_type": "code",
      "source": [
        "#!unzip /content/drive/MyDrive/DL_Assignment2/Dataset/nature_12K.zip -d /content/drive/MyDrive/DL_Assignment2/Dataset"
      ],
      "metadata": {
        "id": "Vk6BRhrcAydF"
      },
      "outputs": [],
      "execution_count": null
    },
    {
      "cell_type": "code",
      "source": [
        "import os\n",
        "os.chdir(\"/content/drive/MyDrive/DL_Assignment2/partB\")"
      ],
      "metadata": {
        "id": "ahgdQt7t8MLG"
      },
      "execution_count": 20,
      "outputs": []
    },
    {
      "cell_type": "markdown",
      "source": [
        "## Libraries"
      ],
      "metadata": {
        "id": "4cSWu4KFCJLE"
      }
    },
    {
      "cell_type": "code",
      "source": [
        "%%writefile libraries.py\n",
        "import torch\n",
        "import os\n",
        "from torchvision import datasets, transforms\n",
        "from sklearn.model_selection import train_test_split, StratifiedShuffleSplit\n",
        "from torch.utils.data import Subset, DataLoader\n",
        "import numpy as np\n",
        "import torch.nn as nn\n",
        "import torch.optim as optim\n",
        "import wandb\n",
        "from torchvision.models import efficientnet_v2_s, EfficientNet_V2_S_Weights\n",
        "import gc\n",
        "from PIL import Image"
      ],
      "metadata": {
        "id": "6a0b6a18CMBf",
        "outputId": "efb59215-f406-48a2-9963-65d9e4a12686",
        "trusted": true,
        "execution": {
          "iopub.status.busy": "2025-04-19T11:59:53.269885Z",
          "iopub.execute_input": "2025-04-19T11:59:53.270524Z",
          "iopub.status.idle": "2025-04-19T12:00:03.635215Z",
          "shell.execute_reply.started": "2025-04-19T11:59:53.270499Z",
          "shell.execute_reply": "2025-04-19T12:00:03.634344Z"
        },
        "colab": {
          "base_uri": "https://localhost:8080/"
        }
      },
      "outputs": [
        {
          "output_type": "stream",
          "name": "stdout",
          "text": [
            "Writing libraries.py\n"
          ]
        }
      ],
      "execution_count": 34
    },
    {
      "cell_type": "markdown",
      "source": [
        "## Dataset loader"
      ],
      "metadata": {
        "id": "lF5ZbaMoGFGm",
        "_kg_hide-input": true
      }
    },
    {
      "cell_type": "code",
      "source": [
        "%%writefile data_loader.py\n",
        "import torch\n",
        "from torch.utils.data import Subset, DataLoader\n",
        "from torchvision import datasets, transforms\n",
        "from sklearn.model_selection import train_test_split, StratifiedShuffleSplit\n",
        "import os\n",
        "from torchvision.models import efficientnet_v2_s, EfficientNet_V2_S_Weights\n",
        "from PIL import Image\n",
        "import numpy as np\n",
        "\n",
        "def validationDataSplit(train_dataset):\n",
        "  classLabels = [label for _,label in train_dataset.samples]\n",
        "  num_classes = len(np.unique(classLabels))\n",
        "\n",
        "  sss = StratifiedShuffleSplit(n_splits=1, test_size=0.2, random_state=42)\n",
        "  train_indices, val_indices = next(sss.split(train_dataset.samples, classLabels))\n",
        "\n",
        "  train_subset = Subset(train_dataset, train_indices)\n",
        "  val_subset = Subset(train_dataset, val_indices)\n",
        "  return train_subset, val_subset, num_classes\n",
        "\n",
        "\n",
        "def load_data(base_dir, isDataAug, batch_size):\n",
        "  train_dir = os.path.join(base_dir, 'train')\n",
        "  test_dir = os.path.join(base_dir, 'val')\n",
        "\n",
        "  train_transform, test_transform = None, None\n",
        "\n",
        "  # model_transforms = EfficientNet_V2_S_Weights.IMAGENET1K_V1.transforms()\n",
        "  # print(model_transforms)\n",
        "\n",
        "  if isDataAug == False:\n",
        "    train_transform = transforms.Compose([\n",
        "      transforms.Resize(384, interpolation=Image.BILINEAR),\n",
        "      transforms.CenterCrop(384),\n",
        "      transforms.ToTensor(),\n",
        "      transforms.Normalize(mean=[0.485, 0.456, 0.406], std=[0.229, 0.224, 0.225])])\n",
        "  else:\n",
        "    train_transform = transforms.Compose([\n",
        "      transforms.Resize(384, interpolation=Image.BILINEAR),\n",
        "      transforms.CenterCrop(384),\n",
        "      transforms.RandomHorizontalFlip(),\n",
        "      transforms.RandomRotation(10),\n",
        "      transforms.ToTensor(),\n",
        "      transforms.Normalize(mean=[0.485, 0.456, 0.406], std=[0.229, 0.224, 0.225])])\n",
        "\n",
        "  test_transform = transforms.Compose([\n",
        "      transforms.Resize(384, interpolation=Image.BILINEAR),\n",
        "      transforms.CenterCrop(384),\n",
        "      transforms.ToTensor(),\n",
        "      transforms.Normalize(mean=[0.485, 0.456, 0.406], std=[0.229, 0.224, 0.225])])\n",
        "\n",
        "  train_dataset = datasets.ImageFolder(train_dir, transform=train_transform)\n",
        "  test_dataset = datasets.ImageFolder(test_dir, transform=test_transform)\n",
        "  train_dataset, val_dataset, num_classes = validationDataSplit(train_dataset)\n",
        "\n",
        "  # print(f\"inp: {train_dataset[0][0].shape} {train_dataset[0][1]}\")\n",
        "\n",
        "  train_loader = DataLoader(train_dataset,shuffle=True,num_workers=2,batch_size=batch_size,pin_memory=True)\n",
        "  test_loader = DataLoader(test_dataset,shuffle=True,num_workers=2,batch_size=64,pin_memory=True)\n",
        "  val_loader = DataLoader(val_dataset,shuffle=True,num_workers=2,batch_size=64,pin_memory=True)\n",
        "\n",
        "  return train_loader, test_loader, val_loader, num_classes"
      ],
      "metadata": {
        "id": "17mDOMKWGIGJ",
        "trusted": true,
        "execution": {
          "iopub.status.busy": "2025-04-19T12:00:43.478438Z",
          "iopub.execute_input": "2025-04-19T12:00:43.478709Z",
          "iopub.status.idle": "2025-04-19T12:00:43.488423Z",
          "shell.execute_reply.started": "2025-04-19T12:00:43.478689Z",
          "shell.execute_reply": "2025-04-19T12:00:43.487626Z"
        },
        "_kg_hide-input": false,
        "colab": {
          "base_uri": "https://localhost:8080/"
        },
        "outputId": "1bd5b169-8986-48e9-d9ad-b59910f1ad02"
      },
      "outputs": [
        {
          "output_type": "stream",
          "name": "stdout",
          "text": [
            "Overwriting data_loader.py\n"
          ]
        }
      ],
      "execution_count": 35
    },
    {
      "cell_type": "markdown",
      "source": [
        "## Training CNN"
      ],
      "metadata": {
        "id": "eHcPcof_tmdc"
      }
    },
    {
      "cell_type": "code",
      "source": [
        "%%writefile neural_network.py\n",
        "import numpy as np\n",
        "import torch.nn as nn\n",
        "import torch.optim as optim\n",
        "import torch\n",
        "from torchvision.models import efficientnet_v2_s, EfficientNet_V2_S_Weights\n",
        "\n",
        "class ConvolutionalNeuralNetwork(nn.Module):\n",
        "  activationFunctionsMap = {\"ReLU\": nn.ReLU, \"GELU\": nn.GELU, \"SiLU\": nn.SiLU}\n",
        "  # optimizersMap = {\"sgd\": optim.SGD, \"rmsprop\": optim.RMSprop, \"adam\": optim.Adam}\n",
        "\n",
        "  def __init__(self, num_classes,\n",
        "               num_filters, filter_sizes,\n",
        "               activationFun, optimizer,\n",
        "               n_neurons_denseLayer,\n",
        "               isBatchNormalization, dropout,\n",
        "               learning_rate=0.001,\n",
        "               momentum=0.5, beta = 0.9,\n",
        "               beta1=0.9, beta2=0.99,\n",
        "               epsilon=1e-8, weight_decay=0.0001):\n",
        "    super(ConvolutionalNeuralNetwork, self).__init__()\n",
        "    self.num_classes = num_classes\n",
        "    self.num_filters = num_filters\n",
        "    self.filter_sizes = filter_sizes\n",
        "    self.activationFun = ConvolutionalNeuralNetwork.activationFunctionsMap[activationFun]\n",
        "    # self.optimizer = ConvolutionalNeuralNetwork.optimizersMap[optimizer]\n",
        "\n",
        "    self.n_neurons_denseLayer = n_neurons_denseLayer\n",
        "    self.isBatchNormalization = isBatchNormalization\n",
        "    self.dropout = dropout\n",
        "\n",
        "    self.lr = learning_rate\n",
        "    self.momentum = momentum\n",
        "    self.betas = (beta1, beta2)\n",
        "    self.eps = epsilon\n",
        "    self.alpha = beta\n",
        "    self.weight_decay = weight_decay\n",
        "    # self.count = 0\n",
        "    # self.cached_inputs = None    # dataloader shuffling within batches to cache (else needs to make shuffle = False)\n",
        "\n",
        "    self.defineModel()\n",
        "\n",
        "    trainable_parameters = [p for p in self.parameters() if p.requires_grad == True]\n",
        "\n",
        "    if(optimizer == \"sgd\"):\n",
        "      self.optimizer = optim.SGD(trainable_parameters, lr=self.lr, momentum=self.momentum, weight_decay=self.weight_decay)\n",
        "    elif(optimizer == \"rmsprop\"):\n",
        "      self.optimizer = optim.RMSprop(trainable_parameters, lr=self.lr, alpha=self.alpha, eps=self.eps, weight_decay=self.weight_decay)\n",
        "    elif(optimizer == \"adam\"):\n",
        "      self.optimizer = optim.Adam(trainable_parameters, lr=self.lr, betas=self.betas, eps=self.eps, weight_decay=self.weight_decay)\n",
        "    # print(trainable_parameters)\n",
        "\n",
        "  def defineModel(self):\n",
        "    self.model = efficientnet_v2_s(weights=\"IMAGENET1K_V1\")\n",
        "\n",
        "    # Freezing all layers except the last layer\n",
        "    for param in self.model.parameters():\n",
        "        param.requires_grad = False\n",
        "\n",
        "    # Replacing last layer (its a classifier at the end containing dropout followed by linear layer)\n",
        "    num_in_features_last_layer = self.model.classifier[1].in_features\n",
        "    self.model.classifier[1] = nn.Linear(num_in_features_last_layer, self.num_classes)\n",
        "\n",
        "    # last layer is trainable\n",
        "    for name, param in self.model.classifier[1].named_parameters():\n",
        "        param.requires_grad = True\n",
        "\n",
        "  def forward(self, inputs):\n",
        "    return self.model(inputs)\n",
        "\n",
        "  def backward(self, outputs, labels):\n",
        "    loss = nn.CrossEntropyLoss()(outputs, labels)\n",
        "    loss.backward()\n",
        "\n",
        "  def updateWeights(self):\n",
        "    self.optimizer.step()"
      ],
      "metadata": {
        "id": "RVUtdV4T2bAx",
        "trusted": true,
        "execution": {
          "iopub.status.busy": "2025-04-19T12:00:51.019429Z",
          "iopub.execute_input": "2025-04-19T12:00:51.019960Z",
          "iopub.status.idle": "2025-04-19T12:00:51.028449Z",
          "shell.execute_reply.started": "2025-04-19T12:00:51.019934Z",
          "shell.execute_reply": "2025-04-19T12:00:51.027723Z"
        },
        "colab": {
          "base_uri": "https://localhost:8080/"
        },
        "outputId": "fa9650d3-ba3a-4928-e394-734ddd138e06"
      },
      "outputs": [
        {
          "output_type": "stream",
          "name": "stdout",
          "text": [
            "Overwriting neural_network.py\n"
          ]
        }
      ],
      "execution_count": 36
    },
    {
      "cell_type": "markdown",
      "source": [
        "## Accuracy Calculation"
      ],
      "metadata": {
        "id": "7tBFe9Sw9M38"
      }
    },
    {
      "cell_type": "code",
      "source": [
        "%%writefile accuracy_calculation.py\n",
        "import torch\n",
        "import torch.nn as nn\n",
        "from torch.utils.data import Subset, DataLoader\n",
        "\n",
        "\n",
        "def findOutputs(device, cnn, inputDataLoader, isTestData=False):\n",
        "  cnn.eval()  # setting the model to evaluation model\n",
        "  outputs = []\n",
        "  total_loss = 0.0\n",
        "  n_correct = 0\n",
        "  n_correct_top5 = 0\n",
        "  n_correct_top2 = 0\n",
        "  n_samples = 0\n",
        "\n",
        "  with torch.no_grad():\n",
        "    for batch_idx, (x_batch, y_batch) in enumerate(inputDataLoader):\n",
        "      x_batch, y_batch = x_batch.to(device), y_batch.to(device)\n",
        "      batch_outputs = cnn(x_batch)\n",
        "\n",
        "      loss = nn.CrossEntropyLoss()(batch_outputs, y_batch)\n",
        "      total_loss += loss.item() * x_batch.size(0)\n",
        "\n",
        "      y_pred_batch = torch.argmax(batch_outputs, dim=1)\n",
        "      n_correct += (y_pred_batch == y_batch).sum().item()\n",
        "      n_samples += x_batch.size(0)\n",
        "\n",
        "      if isTestData == True:\n",
        "          y_pred_batch_top5 = torch.topk(batch_outputs, 5, dim=1).indices\n",
        "          n_correct_top5 += y_pred_batch_top5.eq(y_batch.view(-1, 1)).sum().item()\n",
        "\n",
        "          y_pred_batch_top2 = torch.topk(batch_outputs, 2, dim=1).indices\n",
        "          n_correct_top2 += y_pred_batch_top2.eq(y_batch.view(-1, 1)).sum().item()\n",
        "      outputs.append(batch_outputs)\n",
        "\n",
        "  outputs = torch.cat(outputs)\n",
        "  accuracy = (n_correct * 100.0) / n_samples\n",
        "  avg_loss = total_loss / n_samples\n",
        "\n",
        "  top5_accuracy = None\n",
        "  top2_accuracy = None\n",
        "  if isTestData == True:\n",
        "      top5_accuracy = (n_correct_top5 * 100.0) / n_samples\n",
        "      top2_accuracy = (n_correct_top2 * 100.0) / n_samples\n",
        "  return outputs, accuracy, avg_loss, top5_accuracy, top2_accuracy"
      ],
      "metadata": {
        "colab": {
          "base_uri": "https://localhost:8080/"
        },
        "id": "2yHbKA9a9Uh9",
        "outputId": "2afa7199-a87a-4c6e-a9fb-4f08ece192f2"
      },
      "execution_count": 37,
      "outputs": [
        {
          "output_type": "stream",
          "name": "stdout",
          "text": [
            "Overwriting accuracy_calculation.py\n"
          ]
        }
      ]
    },
    {
      "cell_type": "markdown",
      "source": [
        "## Training (ArgParser included)"
      ],
      "metadata": {
        "id": "HRVbxYBV9tCC"
      }
    },
    {
      "cell_type": "code",
      "source": [
        "%%writefile train_local.py\n",
        "import os\n",
        "import gc\n",
        "import wandb\n",
        "import torch\n",
        "from neural_network import *\n",
        "from data_loader import *\n",
        "from accuracy_calculation import *\n",
        "import numpy as np\n",
        "import torch.nn as nn\n",
        "import matplotlib.pyplot as plt\n",
        "\n",
        "device = torch.device(\"cuda\" if torch.cuda.is_available() else \"cpu\")\n",
        "print(device)\n",
        "os.environ[\"PYTORCH_CUDA_ALLOC_CONF\"] = \"expandable_segments:True\"\n",
        "\n",
        "def trainNeuralNetwork_local(args):\n",
        "  wandb.login()\n",
        "  wandb.init(mode=\"online\")\n",
        "  wandb.init(project=args.wandb_project, entity=args.wandb_entity)\n",
        "  if args.isDataAug == \"True\":\n",
        "    isDataAug = True\n",
        "  else:\n",
        "    isDataAug = False\n",
        "\n",
        "  train_loader, test_loader, val_loader, num_classes = load_data(args.base_dir, isDataAug, args.batch_size)\n",
        "  activationFun = \"SiLU\"    # have no effect since using pre-trained model\n",
        "  optimizer = args.optimizer\n",
        "  learning_rate = args.learning_rate\n",
        "  momentum = args.momentum\n",
        "  beta = args.beta\n",
        "  beta1 = args.beta1\n",
        "  beta2 = args.beta2\n",
        "  epsilon = args.epsilon\n",
        "  weight_decay = args.weight_decay\n",
        "  dropout = 0   # have no effect since using pre-trained model\n",
        "  num_filters = [32, 32,32,32,32]   # have no effect since using pre-trained model\n",
        "  filter_sizes = [3,3,3,3,3]   # have no effect since using pre-trained model\n",
        "  n_neurons_denseLayer = 128  # have no effect since using pre-trained model\n",
        "  isBatchNormalization = False  # have no effect since using pre-trained model\n",
        "\n",
        "  wandb.run.name = f\"{activationFun}_{optimizer}_{dropout}_{n_neurons_denseLayer}_DataAug-{isDataAug}_BatchNorm-{isBatchNormalization}\"\n",
        "  best_val_accuracy = 0.0\n",
        "  best_accuracy_epoch = -1\n",
        "\n",
        "  cnn = ConvolutionalNeuralNetwork(num_classes,\n",
        "                                   num_filters, filter_sizes,\n",
        "                                   activationFun, optimizer,\n",
        "                                   n_neurons_denseLayer,\n",
        "                                   isBatchNormalization, dropout,\n",
        "                                   learning_rate,\n",
        "                                   momentum, beta,\n",
        "                                   beta1, beta2,\n",
        "                                   epsilon, weight_decay)\n",
        "  cnn.to(device)\n",
        "\n",
        "  epochs = args.epochs\n",
        "  for epochNum in range(epochs):\n",
        "    print(f\"Epoch {epochNum}:\")\n",
        "    for batch_idx, (x_batch, y_batch) in enumerate(train_loader):\n",
        "      if(batch_idx % 40 == 0):\n",
        "        print(f\"Batch idx {batch_idx} running\")\n",
        "        # break\n",
        "      x_batch, y_batch = x_batch.to(device), y_batch.to(device)\n",
        "      cnn.optimizer.zero_grad()\n",
        "      outputs = cnn(x_batch)\n",
        "      cnn.backward(outputs, y_batch)\n",
        "      cnn.updateWeights()\n",
        "      del x_batch, y_batch, outputs\n",
        "\n",
        "    # Validation accuracy\n",
        "    val_outputs, val_accuracy, val_loss, _, _ = findOutputs(device, cnn, val_loader)\n",
        "    print(f\"validation: loss={val_loss}, accuracy={val_accuracy}\")\n",
        "\n",
        "    # Train accuracy\n",
        "    train_outputs, train_accuracy, train_loss, _, _ = findOutputs(device, cnn, train_loader)\n",
        "    print(f\"training: loss={train_loss}, accuracy={train_accuracy}\")\n",
        "\n",
        "    if val_accuracy > best_val_accuracy:\n",
        "      best_val_accuracy = val_accuracy\n",
        "      best_accuracy_epoch = epochNum\n",
        "\n",
        "    wandb.log({\n",
        "        \"epoch\": epochNum + 1,\n",
        "        \"val_loss\": val_loss,\n",
        "        \"val_accuracy\": val_accuracy,\n",
        "        \"train_loss\": train_loss,\n",
        "        \"train_accuracy\": train_accuracy\n",
        "        },commit=True)\n",
        "    del val_outputs, train_outputs\n",
        "    gc.collect()\n",
        "    torch.cuda.empty_cache()\n",
        "\n",
        "  wandb.log({\n",
        "      \"best_acc_epoch\": best_accuracy_epoch,\n",
        "      \"best_val_accuracy\": best_val_accuracy\n",
        "  })\n",
        "\n",
        "  test_outputs, test_accuracy, test_loss, test_top5_accuracy, test_top2_accuracy = findOutputs(device, cnn, test_loader, True)\n",
        "  print(f\"testing: loss={test_loss}, top1_accuracy={test_accuracy}, top5_accuracy = {test_top5_accuracy}, top2_accuracy = {test_top2_accuracy}\")\n",
        "\n",
        "  wandb.log({\n",
        "      \"test_loss\": test_loss,\n",
        "      \"test_top1_accuracy\": test_accuracy,\n",
        "      \"test_top5_accuracy\": test_top5_accuracy,\n",
        "      \"test_top2_accuracy\": test_top2_accuracy\n",
        "  })\n",
        "  del cnn,train_loader, test_loader, val_loader\n",
        "  gc.collect()\n",
        "  torch.cuda.empty_cache()\n",
        "\n",
        "  wandb.finish()"
      ],
      "metadata": {
        "colab": {
          "base_uri": "https://localhost:8080/"
        },
        "id": "PK2_r37R-Q7C",
        "outputId": "6f54f006-b691-47f9-9816-236994d087b9"
      },
      "execution_count": 40,
      "outputs": [
        {
          "output_type": "stream",
          "name": "stdout",
          "text": [
            "Overwriting train_local.py\n"
          ]
        }
      ]
    },
    {
      "cell_type": "markdown",
      "source": [
        "### ArgParser"
      ],
      "metadata": {
        "id": "4M3KX7iS_KF9"
      }
    },
    {
      "cell_type": "code",
      "source": [
        "%%writefile argument_parser.py\n",
        "import argparse\n",
        "\n",
        "def parse_arguments():\n",
        "    parser = argparse.ArgumentParser()\n",
        "\n",
        "    parser.add_argument(\"-wp\", \"--wandb_project\", type=str, default=\"DA6401_Assignment2\",\n",
        "                        help=\"Project name used to track experiments in Weights & Biases dashboard\")\n",
        "    parser.add_argument(\"-we\", \"--wandb_entity\", type=str, default=\"nikhithaa-iit-madras\",\n",
        "                        help=\"Wandb Entity used to track experiments in the Weights & Biases dashboard.\")\n",
        "    parser.add_argument(\"-bd\", \"--base_dir\", type=str, default=\"inaturalist_12K\",\n",
        "                        help=\"Base directory where dataset (train/val folders) are present\")\n",
        "    parser.add_argument(\"-e\", \"--epochs\", type=int, default=10,\n",
        "                        help=\"Number of epochs to train neural network\")\n",
        "    parser.add_argument(\"-b\", \"--batch_size\", type=int, default=32,\n",
        "                        help=\"Batch size used to train neural network\")\n",
        "    parser.add_argument(\"-o\", \"--optimizer\", type=str, choices=[\"sgd\", \"rmsprop\", \"adam\"], default=\"sgd\",\n",
        "                        help=\"Choose one among these optimizers: ['sgd', 'rmsprop', 'adam']\")\n",
        "    parser.add_argument(\"-lr\", \"--learning_rate\", type=float, default=0.001,\n",
        "                        help=\"Learning rate used to optimize model parameters\")\n",
        "    parser.add_argument(\"-m\", \"--momentum\", type=float, default=0.9,\n",
        "                        help=\"Momentum used by momentum and nag optimizers\")\n",
        "    parser.add_argument(\"-beta\", \"--beta\", type=float, default=0.9,\n",
        "                        help=\"Beta used by rmsprop optimizer\")\n",
        "    parser.add_argument(\"-beta1\", \"--beta1\", type=float, default=0.9,\n",
        "                        help=\"Beta1 used by adam and nadam optimizers\")\n",
        "    parser.add_argument(\"-beta2\", \"--beta2\", type=float, default=0.999,\n",
        "                        help=\"Beta2 used by adam and nadam optimizers\")\n",
        "    parser.add_argument(\"-eps\", \"--epsilon\", type=float, default=0.00000001,\n",
        "                        help=\"Epsilon used by optimizers\")\n",
        "    parser.add_argument(\"-w_d\", \"--weight_decay\", type=float, default=0.0001,\n",
        "                        help=\"Weight decay used by optimizers\")\n",
        "    parser.add_argument(\"-da\", \"--isDataAug\", type=str, default=\"False\",\n",
        "                        help=\"Whether to use data augmentation or not\")\n",
        "\n",
        "    return parser.parse_args()"
      ],
      "metadata": {
        "colab": {
          "base_uri": "https://localhost:8080/"
        },
        "outputId": "6f629b99-7e73-45ae-b5cc-28f872f1628c",
        "id": "FrpYnWuW_EwN"
      },
      "execution_count": 41,
      "outputs": [
        {
          "output_type": "stream",
          "name": "stdout",
          "text": [
            "Overwriting argument_parser.py\n"
          ]
        }
      ]
    },
    {
      "cell_type": "markdown",
      "source": [
        "### Main File"
      ],
      "metadata": {
        "id": "kZceMl85_ROc"
      }
    },
    {
      "cell_type": "code",
      "source": [
        "%%writefile main.py\n",
        "from train_local import *\n",
        "from argument_parser import *\n",
        "import libraries\n",
        "\n",
        "if __name__==\"__main__\":\n",
        "  args = parse_arguments()\n",
        "  trainNeuralNetwork_local(args)"
      ],
      "metadata": {
        "colab": {
          "base_uri": "https://localhost:8080/"
        },
        "id": "WjQ5k67r_TRQ",
        "outputId": "79a43436-a4fc-4ee6-d40d-81c8bc058d19"
      },
      "execution_count": 42,
      "outputs": [
        {
          "output_type": "stream",
          "name": "stdout",
          "text": [
            "Overwriting main.py\n"
          ]
        }
      ]
    },
    {
      "cell_type": "markdown",
      "source": [
        "### Running"
      ],
      "metadata": {
        "id": "FHrFGHggAGsp"
      }
    },
    {
      "cell_type": "code",
      "source": [
        "# change epochs\n",
        "!python3 main.py -wp DA6401_Assignment2 -we nikhithaa-iit-madras -b 32 -beta1 0.9 -beta2 0.999 -lr 0.001 -e 1 --base_dir ../Dataset/inaturalist_12K -o sgd -w_d 0  -da True"
      ],
      "metadata": {
        "id": "TrdaC2cKAIxM"
      },
      "execution_count": null,
      "outputs": []
    },
    {
      "cell_type": "markdown",
      "source": [
        "## Training sweep"
      ],
      "metadata": {
        "id": "I11yfN59_X3Y"
      }
    },
    {
      "cell_type": "code",
      "source": [
        "%%writefile train_sweep.py\n",
        "# import libraries\n",
        "from neural_network import *\n",
        "from data_loader import *\n",
        "from accuracy_calculation import *\n",
        "import numpy as np\n",
        "import torch.nn as nn\n",
        "import wandb\n",
        "import gc\n",
        "import os\n",
        "import torch\n",
        "\n",
        "device = torch.device(\"cuda\" if torch.cuda.is_available() else \"cpu\")\n",
        "print(device)\n",
        "os.environ[\"PYTORCH_CUDA_ALLOC_CONF\"] = \"expandable_segments:True\"\n",
        "\n",
        "def trainNeuralNetwork_sweep():\n",
        "  wandb.init(mode=\"online\")\n",
        "  args = wandb.config\n",
        "  train_loader, test_loader, val_loader, num_classes = load_data(args[\"base_dir\"], args[\"isDataAug\"], args[\"batch_size\"])\n",
        "  activationFun = args[\"activation\"]\n",
        "  optimizer = args[\"optimizer\"]\n",
        "  learning_rate = args[\"learning_rate\"]\n",
        "  momentum = args[\"momentum\"]\n",
        "  beta = args[\"beta\"]\n",
        "  beta1 = args[\"beta1\"]\n",
        "  beta2 = args[\"beta2\"]\n",
        "  epsilon = args[\"epsilon\"]\n",
        "  weight_decay = args[\"weight_decay\"]\n",
        "  dropout = args[\"dropout\"]\n",
        "  num_filters = args[\"num_filters\"]\n",
        "  filter_sizes = args[\"filter_sizes\"]\n",
        "  n_neurons_denseLayer = args[\"n_neurons_denseLayer\"]\n",
        "  isBatchNormalization = args[\"isBatchNormalization\"]\n",
        "  isDataAug = args[\"isDataAug\"]\n",
        "\n",
        "  wandb.run.name = f\"{activationFun}_{optimizer}_{dropout}_{n_neurons_denseLayer}_DataAug-{isDataAug}_BatchNorm-{isBatchNormalization}\"\n",
        "  best_val_accuracy = 0.0\n",
        "  best_accuracy_epoch = -1\n",
        "\n",
        "  cnn = ConvolutionalNeuralNetwork(num_classes,\n",
        "                                   num_filters, filter_sizes,\n",
        "                                   activationFun, optimizer,\n",
        "                                   n_neurons_denseLayer,\n",
        "                                   isBatchNormalization, dropout,\n",
        "                                   learning_rate,\n",
        "                                   momentum, beta,\n",
        "                                   beta1, beta2,\n",
        "                                   epsilon, weight_decay)\n",
        "  cnn.to(device)\n",
        "\n",
        "  epochs = args[\"epochs\"]\n",
        "  for epochNum in range(epochs):\n",
        "    print(f\"Epoch {epochNum}:\")\n",
        "    for batch_idx, (x_batch, y_batch) in enumerate(train_loader):\n",
        "      if(batch_idx % 40 == 0):\n",
        "        print(f\"Batch idx {batch_idx} running\")\n",
        "      x_batch, y_batch = x_batch.to(device), y_batch.to(device)\n",
        "      cnn.optimizer.zero_grad()\n",
        "      outputs = cnn(x_batch)\n",
        "      cnn.backward(outputs, y_batch)\n",
        "      cnn.updateWeights()\n",
        "      del x_batch, y_batch, outputs\n",
        "\n",
        "    # Validation accuracy\n",
        "    val_outputs, val_accuracy, val_loss, _, _ = findOutputs(device, cnn, val_loader)\n",
        "    # wandb.run.summary[\"metric_name\"] = val_accuracy\n",
        "    print(f\"validation: loss={val_loss}, accuracy={val_accuracy}\")\n",
        "\n",
        "    # Train accuracy\n",
        "    train_outputs, train_accuracy, train_loss, _, _ = findOutputs(device, cnn, train_loader)\n",
        "    print(f\"training: loss={train_loss}, accuracy={train_accuracy}\")\n",
        "\n",
        "    if val_accuracy > best_val_accuracy:\n",
        "      best_val_accuracy = val_accuracy\n",
        "      best_accuracy_epoch = epochNum\n",
        "\n",
        "    wandb.log({\n",
        "        \"epoch\": epochNum + 1,\n",
        "        \"val_loss\": val_loss,\n",
        "        \"val_accuracy\": val_accuracy,\n",
        "        \"train_loss\": train_loss,\n",
        "        \"train_accuracy\": train_accuracy\n",
        "        },commit=True)\n",
        "    del val_outputs, train_outputs\n",
        "    gc.collect()\n",
        "    torch.cuda.empty_cache()\n",
        "\n",
        "  wandb.log({\n",
        "      \"best_acc_epoch\": best_accuracy_epoch,\n",
        "      \"best_val_accuracy\": best_val_accuracy\n",
        "  })\n",
        "\n",
        "  test_outputs, test_accuracy, test_loss, test_top5_accuracy, test_top2_accuracy = findOutputs(device, cnn, test_loader, True)\n",
        "  print(f\"testing: loss={test_loss}, top1_accuracy={test_accuracy}, top5_accuracy = {test_top5_accuracy}, top2_accuracy = {test_top2_accuracy}\")\n",
        "\n",
        "  wandb.log({\n",
        "      \"test_loss\": test_loss,\n",
        "      \"test_top1_accuracy\": test_accuracy,\n",
        "      \"test_top5_accuracy\": test_top5_accuracy,\n",
        "      \"test_top2_accuracy\": test_top2_accuracy\n",
        "  })\n",
        "  del cnn,train_loader, test_loader, val_loader\n",
        "  gc.collect()\n",
        "  torch.cuda.empty_cache()\n",
        "\n",
        "  wandb.finish()"
      ],
      "metadata": {
        "id": "zEGF79uTtolO",
        "trusted": true,
        "execution": {
          "iopub.status.busy": "2025-04-19T12:01:00.662205Z",
          "iopub.execute_input": "2025-04-19T12:01:00.662481Z",
          "iopub.status.idle": "2025-04-19T12:01:00.678199Z",
          "shell.execute_reply.started": "2025-04-19T12:01:00.662459Z",
          "shell.execute_reply": "2025-04-19T12:01:00.677354Z"
        },
        "colab": {
          "base_uri": "https://localhost:8080/"
        },
        "outputId": "ecbb16cb-27b6-4b7e-e58e-6637d03aa1f5"
      },
      "outputs": [
        {
          "output_type": "stream",
          "name": "stdout",
          "text": [
            "Overwriting train_sweep.py\n"
          ]
        }
      ],
      "execution_count": 43
    },
    {
      "cell_type": "markdown",
      "source": [
        "###  Main Sweep"
      ],
      "metadata": {
        "id": "PC5F4sxR_lDW"
      }
    },
    {
      "cell_type": "code",
      "source": [
        "%%writefile main_sweep.py\n",
        "from train_sweep import *\n",
        "# import libraries\n",
        "import wandb\n",
        "\n",
        "sweep_configuration = {\n",
        "    \"method\": \"random\",\n",
        "    \"name\" : \"finetune_final_sweep\",\n",
        "    \"parameters\": {\n",
        "        \"num_filters\": {'values': [[32, 32, 32, 32, 32]]},  # have no effect since using pre-trained model\n",
        "        \"filter_sizes\": {'values': [[3, 3, 3, 3, 3]]},        # have no effect since using pre-trained model\n",
        "        \"activation\": {\"values\": [\"ReLU\"]},   # have no effect since using pre-trained model\n",
        "        \"optimizer\": {\"values\": [\"adam\", \"rmsprop\", \"sgd\"]},\n",
        "        \"learning_rate\": {\"values\": [1e-3, 1e-4]},\n",
        "        \"weight_decay\": {\"values\": [0.0001, 0.0005]},\n",
        "        \"momentum\": {\"values\": [0.9]},\n",
        "        \"beta\": {\"values\": [0.9]},\n",
        "        \"beta1\": {\"values\":[0.9]},\n",
        "        \"beta2\": {\"values\": [0.999]},\n",
        "        \"epsilon\": {\"values\": [1e-8]},\n",
        "        # \"base_dir\": {\"values\":[\"/content/drive/MyDrive/DL_Assignment2/Dataset/inaturalist_12K/\"]},\n",
        "        \"base_dir\": {\"values\": [\"../Dataset/inaturalist_12K\"]},\n",
        "        \"isDataAug\": {\"values\": [\"False\", \"True\"]},\n",
        "        \"isBatchNormalization\": {\"values\": [\"False\"]},  # have no effect since using pre-trained model\n",
        "        \"dropout\": {\"values\": [0]},            # have no effect since using pre-trained model\n",
        "        \"n_neurons_denseLayer\": {\"values\": [128]},   # have no effect since using pre-trained model\n",
        "        \"batch_size\": {\"values\": [32,64]},\n",
        "        \"epochs\": {\"values\": [5,10]}\n",
        "    }\n",
        "}\n",
        "\n",
        "if __name__==\"__main__\":\n",
        "  wandb.login()\n",
        "  wandb_id = wandb.sweep(sweep_configuration, project=\"DA6401_Assignment2\")\n",
        "  wandb.agent(wandb_id, function=trainNeuralNetwork_sweep)"
      ],
      "metadata": {
        "colab": {
          "base_uri": "https://localhost:8080/"
        },
        "id": "z6B7KhhG_n1Q",
        "outputId": "0386ee90-285d-454d-ff38-0d361b750aee"
      },
      "execution_count": 44,
      "outputs": [
        {
          "output_type": "stream",
          "name": "stdout",
          "text": [
            "Overwriting main_sweep.py\n"
          ]
        }
      ]
    },
    {
      "cell_type": "markdown",
      "source": [
        "### Running"
      ],
      "metadata": {
        "id": "JGmU6TSk_7Vf"
      }
    },
    {
      "cell_type": "code",
      "source": [
        "!python3 main_sweep.py"
      ],
      "metadata": {
        "id": "9d2PnDVM_-qh"
      },
      "execution_count": null,
      "outputs": []
    },
    {
      "cell_type": "code",
      "source": [
        "# wandb.login(key=\"x\")\n",
        "# wandb_id = wandb.sweep(sweep_configuration, project=\"DA6401_Assignment2\")\n",
        "# wandb.agent(wandb_id, function=trainNeuralNetwork_sweep)"
      ],
      "metadata": {
        "id": "RIw7bCO8CUU7",
        "trusted": true,
        "execution": {
          "iopub.status.busy": "2025-04-19T12:01:03.882216Z",
          "iopub.execute_input": "2025-04-19T12:01:03.882804Z",
          "iopub.status.idle": "2025-04-19T18:36:27.782257Z",
          "shell.execute_reply.started": "2025-04-19T12:01:03.882779Z",
          "shell.execute_reply": "2025-04-19T18:36:27.779688Z"
        },
        "outputId": "f7724f0f-608f-4ec3-8241-498ff2103e10"
      },
      "outputs": [
        {
          "name": "stderr",
          "text": "\u001b[34m\u001b[1mwandb\u001b[0m: \u001b[33mWARNING\u001b[0m If you're specifying your api key in code, ensure this code is not shared publicly.\n\u001b[34m\u001b[1mwandb\u001b[0m: \u001b[33mWARNING\u001b[0m Consider setting the WANDB_API_KEY environment variable, or running `wandb login` from the command line.\n\u001b[34m\u001b[1mwandb\u001b[0m: Appending key for api.wandb.ai to your netrc file: /root/.netrc\n\u001b[34m\u001b[1mwandb\u001b[0m: Currently logged in as: \u001b[33mnikhithaa\u001b[0m (\u001b[33mnikhithaa-iit-madras\u001b[0m) to \u001b[32mhttps://api.wandb.ai\u001b[0m. Use \u001b[1m`wandb login --relogin`\u001b[0m to force relogin\n",
          "output_type": "stream"
        },
        {
          "name": "stdout",
          "text": "Create sweep with ID: 0kqsutes\nSweep URL: https://wandb.ai/nikhithaa-iit-madras/DA6401_Assignment2/sweeps/0kqsutes\n",
          "output_type": "stream"
        },
        {
          "name": "stderr",
          "text": "\u001b[34m\u001b[1mwandb\u001b[0m: Agent Starting Run: 3ypawy7j with config:\n\u001b[34m\u001b[1mwandb\u001b[0m: \tactivation: ReLU\n\u001b[34m\u001b[1mwandb\u001b[0m: \tbase_dir: /kaggle/input/inaturalist/inaturalist_12K\n\u001b[34m\u001b[1mwandb\u001b[0m: \tbatch_size: 32\n\u001b[34m\u001b[1mwandb\u001b[0m: \tbeta: 0.9\n\u001b[34m\u001b[1mwandb\u001b[0m: \tbeta1: 0.9\n\u001b[34m\u001b[1mwandb\u001b[0m: \tbeta2: 0.999\n\u001b[34m\u001b[1mwandb\u001b[0m: \tdropout: 0\n\u001b[34m\u001b[1mwandb\u001b[0m: \tepochs: 10\n\u001b[34m\u001b[1mwandb\u001b[0m: \tepsilon: 1e-08\n\u001b[34m\u001b[1mwandb\u001b[0m: \tfilter_sizes: [3, 3, 3, 3, 3]\n\u001b[34m\u001b[1mwandb\u001b[0m: \tisBatchNormalization: False\n\u001b[34m\u001b[1mwandb\u001b[0m: \tisDataAug: False\n\u001b[34m\u001b[1mwandb\u001b[0m: \tlearning_rate: 0.0001\n\u001b[34m\u001b[1mwandb\u001b[0m: \tmomentum: 0.9\n\u001b[34m\u001b[1mwandb\u001b[0m: \tn_neurons_denseLayer: 128\n\u001b[34m\u001b[1mwandb\u001b[0m: \tnum_filters: [32, 32, 32, 32, 32]\n\u001b[34m\u001b[1mwandb\u001b[0m: \toptimizer: adam\n\u001b[34m\u001b[1mwandb\u001b[0m: \tweight_decay: 0.0005\n\u001b[34m\u001b[1mwandb\u001b[0m: Using wandb-core as the SDK backend.  Please refer to https://wandb.me/wandb-core for more information.\n",
          "output_type": "stream"
        },
        {
          "output_type": "display_data",
          "data": {
            "text/plain": "<IPython.core.display.HTML object>",
            "text/html": "Tracking run with wandb version 0.19.6"
          },
          "metadata": {}
        },
        {
          "output_type": "display_data",
          "data": {
            "text/plain": "<IPython.core.display.HTML object>",
            "text/html": "Run data is saved locally in <code>/kaggle/working/wandb/run-20250419_120116-3ypawy7j</code>"
          },
          "metadata": {}
        },
        {
          "output_type": "display_data",
          "data": {
            "text/plain": "<IPython.core.display.HTML object>",
            "text/html": "Syncing run <strong><a href='https://wandb.ai/nikhithaa-iit-madras/DA6401_Assignment2/runs/3ypawy7j' target=\"_blank\">jumping-sweep-1</a></strong> to <a href='https://wandb.ai/nikhithaa-iit-madras/DA6401_Assignment2' target=\"_blank\">Weights & Biases</a> (<a href='https://wandb.me/developer-guide' target=\"_blank\">docs</a>)<br>Sweep page: <a href='https://wandb.ai/nikhithaa-iit-madras/DA6401_Assignment2/sweeps/0kqsutes' target=\"_blank\">https://wandb.ai/nikhithaa-iit-madras/DA6401_Assignment2/sweeps/0kqsutes</a>"
          },
          "metadata": {}
        },
        {
          "output_type": "display_data",
          "data": {
            "text/plain": "<IPython.core.display.HTML object>",
            "text/html": " View project at <a href='https://wandb.ai/nikhithaa-iit-madras/DA6401_Assignment2' target=\"_blank\">https://wandb.ai/nikhithaa-iit-madras/DA6401_Assignment2</a>"
          },
          "metadata": {}
        },
        {
          "output_type": "display_data",
          "data": {
            "text/plain": "<IPython.core.display.HTML object>",
            "text/html": " View sweep at <a href='https://wandb.ai/nikhithaa-iit-madras/DA6401_Assignment2/sweeps/0kqsutes' target=\"_blank\">https://wandb.ai/nikhithaa-iit-madras/DA6401_Assignment2/sweeps/0kqsutes</a>"
          },
          "metadata": {}
        },
        {
          "output_type": "display_data",
          "data": {
            "text/plain": "<IPython.core.display.HTML object>",
            "text/html": " View run at <a href='https://wandb.ai/nikhithaa-iit-madras/DA6401_Assignment2/runs/3ypawy7j' target=\"_blank\">https://wandb.ai/nikhithaa-iit-madras/DA6401_Assignment2/runs/3ypawy7j</a>"
          },
          "metadata": {}
        },
        {
          "name": "stderr",
          "text": "Downloading: \"https://download.pytorch.org/models/efficientnet_v2_s-dd5fe13b.pth\" to /root/.cache/torch/hub/checkpoints/efficientnet_v2_s-dd5fe13b.pth\n100%|██████████| 82.7M/82.7M [00:00<00:00, 178MB/s] \n",
          "output_type": "stream"
        },
        {
          "name": "stdout",
          "text": "Epoch 0:\nBatch idx 0 running\nBatch idx 40 running\nBatch idx 80 running\nBatch idx 120 running\nBatch idx 160 running\nBatch idx 200 running\nBatch idx 240 running\nvalidation: loss=1.6043938837051392, accuracy=74.85\ntraining: loss=1.6057432772353495, accuracy=74.34679334916865\nEpoch 1:\nBatch idx 0 running\nBatch idx 40 running\nBatch idx 80 running\nBatch idx 120 running\nBatch idx 160 running\nBatch idx 200 running\nBatch idx 240 running\nvalidation: loss=1.1927816009521484, accuracy=79.25\ntraining: loss=1.2003781593714764, accuracy=78.08476059507439\nEpoch 2:\nBatch idx 0 running\nBatch idx 40 running\nBatch idx 80 running\nBatch idx 120 running\nBatch idx 160 running\nBatch idx 200 running\nBatch idx 240 running\nvalidation: loss=0.9676698985099792, accuracy=81.05\ntraining: loss=0.9807530491631364, accuracy=79.73496687085886\nEpoch 3:\nBatch idx 0 running\nBatch idx 40 running\nBatch idx 80 running\nBatch idx 120 running\nBatch idx 160 running\nBatch idx 200 running\nBatch idx 240 running\nvalidation: loss=0.8348743572235108, accuracy=82.1\ntraining: loss=0.8492240069776583, accuracy=80.38504813101638\nEpoch 4:\nBatch idx 0 running\nBatch idx 40 running\nBatch idx 80 running\nBatch idx 120 running\nBatch idx 160 running\nBatch idx 200 running\nBatch idx 240 running\nvalidation: loss=0.752090425491333, accuracy=82.45\ntraining: loss=0.7706505765034446, accuracy=81.24765595699462\nEpoch 5:\nBatch idx 0 running\nBatch idx 40 running\nBatch idx 80 running\nBatch idx 120 running\nBatch idx 160 running\nBatch idx 200 running\nBatch idx 240 running\nvalidation: loss=0.6934299287796021, accuracy=82.7\ntraining: loss=0.7077528364823183, accuracy=81.79772471558945\nEpoch 6:\nBatch idx 0 running\nBatch idx 40 running\nBatch idx 80 running\nBatch idx 120 running\nBatch idx 160 running\nBatch idx 200 running\nBatch idx 240 running\nvalidation: loss=0.6549613265991211, accuracy=83.2\ntraining: loss=0.6598601680291356, accuracy=82.84785598199775\nEpoch 7:\nBatch idx 0 running\nBatch idx 40 running\nBatch idx 80 running\nBatch idx 120 running\nBatch idx 160 running\nBatch idx 200 running\nBatch idx 240 running\nvalidation: loss=0.6246720018386841, accuracy=83.65\ntraining: loss=0.6338597482361634, accuracy=82.84785598199775\nEpoch 8:\nBatch idx 0 running\nBatch idx 40 running\nBatch idx 80 running\nBatch idx 120 running\nBatch idx 160 running\nBatch idx 200 running\nBatch idx 240 running\nvalidation: loss=0.5998406565189361, accuracy=84.15\ntraining: loss=0.6026211394296763, accuracy=83.34791848981122\nEpoch 9:\nBatch idx 0 running\nBatch idx 40 running\nBatch idx 80 running\nBatch idx 120 running\nBatch idx 160 running\nBatch idx 200 running\nBatch idx 240 running\nvalidation: loss=0.5951847558021546, accuracy=83.9\ntraining: loss=0.583641651660625, accuracy=83.56044505563196\ntesting: loss=0.5996026268005371, top1_accuracy=83.3, top5_accuracy = 98.45, top2_accuracy = 92.85\n",
          "output_type": "stream"
        },
        {
          "output_type": "display_data",
          "data": {
            "text/plain": "<IPython.core.display.HTML object>",
            "text/html": ""
          },
          "metadata": {}
        },
        {
          "output_type": "display_data",
          "data": {
            "text/plain": "<IPython.core.display.HTML object>",
            "text/html": "<br>    <style><br>        .wandb-row {<br>            display: flex;<br>            flex-direction: row;<br>            flex-wrap: wrap;<br>            justify-content: flex-start;<br>            width: 100%;<br>        }<br>        .wandb-col {<br>            display: flex;<br>            flex-direction: column;<br>            flex-basis: 100%;<br>            flex: 1;<br>            padding: 10px;<br>        }<br>    </style><br><div class=\"wandb-row\"><div class=\"wandb-col\"><h3>Run history:</h3><br/><table class=\"wandb\"><tr><td>best_acc_epoch</td><td>▁</td></tr><tr><td>best_val_accuracy</td><td>▁</td></tr><tr><td>epoch</td><td>▁▂▃▃▄▅▆▆▇█</td></tr><tr><td>test_loss</td><td>▁</td></tr><tr><td>test_top1_accuracy</td><td>▁</td></tr><tr><td>test_top2_accuracy</td><td>▁</td></tr><tr><td>test_top5_accuracy</td><td>▁</td></tr><tr><td>train_accuracy</td><td>▁▄▅▆▆▇▇▇██</td></tr><tr><td>train_loss</td><td>█▅▄▃▂▂▂▁▁▁</td></tr><tr><td>val_accuracy</td><td>▁▄▆▆▇▇▇███</td></tr><tr><td>val_loss</td><td>█▅▄▃▂▂▁▁▁▁</td></tr></table><br/></div><div class=\"wandb-col\"><h3>Run summary:</h3><br/><table class=\"wandb\"><tr><td>best_acc_epoch</td><td>8</td></tr><tr><td>best_val_accuracy</td><td>84.15</td></tr><tr><td>epoch</td><td>10</td></tr><tr><td>test_loss</td><td>0.5996</td></tr><tr><td>test_top1_accuracy</td><td>83.3</td></tr><tr><td>test_top2_accuracy</td><td>92.85</td></tr><tr><td>test_top5_accuracy</td><td>98.45</td></tr><tr><td>train_accuracy</td><td>83.56045</td></tr><tr><td>train_loss</td><td>0.58364</td></tr><tr><td>val_accuracy</td><td>83.9</td></tr><tr><td>val_loss</td><td>0.59518</td></tr></table><br/></div></div>"
          },
          "metadata": {}
        },
        {
          "output_type": "display_data",
          "data": {
            "text/plain": "<IPython.core.display.HTML object>",
            "text/html": " View run <strong style=\"color:#cdcd00\">adam_32_10_0.0001_DataAug-False</strong> at: <a href='https://wandb.ai/nikhithaa-iit-madras/DA6401_Assignment2/runs/3ypawy7j' target=\"_blank\">https://wandb.ai/nikhithaa-iit-madras/DA6401_Assignment2/runs/3ypawy7j</a><br> View project at: <a href='https://wandb.ai/nikhithaa-iit-madras/DA6401_Assignment2' target=\"_blank\">https://wandb.ai/nikhithaa-iit-madras/DA6401_Assignment2</a><br>Synced 5 W&B file(s), 0 media file(s), 0 artifact file(s) and 0 other file(s)"
          },
          "metadata": {}
        },
        {
          "output_type": "display_data",
          "data": {
            "text/plain": "<IPython.core.display.HTML object>",
            "text/html": "Find logs at: <code>./wandb/run-20250419_120116-3ypawy7j/logs</code>"
          },
          "metadata": {}
        },
        {
          "name": "stderr",
          "text": "\u001b[34m\u001b[1mwandb\u001b[0m: Sweep Agent: Waiting for job.\n\u001b[34m\u001b[1mwandb\u001b[0m: Job received.\n\u001b[34m\u001b[1mwandb\u001b[0m: Agent Starting Run: vzleiau3 with config:\n\u001b[34m\u001b[1mwandb\u001b[0m: \tactivation: ReLU\n\u001b[34m\u001b[1mwandb\u001b[0m: \tbase_dir: /kaggle/input/inaturalist/inaturalist_12K\n\u001b[34m\u001b[1mwandb\u001b[0m: \tbatch_size: 64\n\u001b[34m\u001b[1mwandb\u001b[0m: \tbeta: 0.9\n\u001b[34m\u001b[1mwandb\u001b[0m: \tbeta1: 0.9\n\u001b[34m\u001b[1mwandb\u001b[0m: \tbeta2: 0.999\n\u001b[34m\u001b[1mwandb\u001b[0m: \tdropout: 0\n\u001b[34m\u001b[1mwandb\u001b[0m: \tepochs: 10\n\u001b[34m\u001b[1mwandb\u001b[0m: \tepsilon: 1e-08\n\u001b[34m\u001b[1mwandb\u001b[0m: \tfilter_sizes: [3, 3, 3, 3, 3]\n\u001b[34m\u001b[1mwandb\u001b[0m: \tisBatchNormalization: False\n\u001b[34m\u001b[1mwandb\u001b[0m: \tisDataAug: False\n\u001b[34m\u001b[1mwandb\u001b[0m: \tlearning_rate: 0.0001\n\u001b[34m\u001b[1mwandb\u001b[0m: \tmomentum: 0.9\n\u001b[34m\u001b[1mwandb\u001b[0m: \tn_neurons_denseLayer: 128\n\u001b[34m\u001b[1mwandb\u001b[0m: \tnum_filters: [32, 32, 32, 32, 32]\n\u001b[34m\u001b[1mwandb\u001b[0m: \toptimizer: rmsprop\n\u001b[34m\u001b[1mwandb\u001b[0m: \tweight_decay: 0.0005\n",
          "output_type": "stream"
        },
        {
          "output_type": "display_data",
          "data": {
            "text/plain": "<IPython.core.display.HTML object>",
            "text/html": "Tracking run with wandb version 0.19.6"
          },
          "metadata": {}
        },
        {
          "output_type": "display_data",
          "data": {
            "text/plain": "<IPython.core.display.HTML object>",
            "text/html": "Run data is saved locally in <code>/kaggle/working/wandb/run-20250419_123118-vzleiau3</code>"
          },
          "metadata": {}
        },
        {
          "output_type": "display_data",
          "data": {
            "text/plain": "<IPython.core.display.HTML object>",
            "text/html": "Syncing run <strong><a href='https://wandb.ai/nikhithaa-iit-madras/DA6401_Assignment2/runs/vzleiau3' target=\"_blank\">playful-sweep-2</a></strong> to <a href='https://wandb.ai/nikhithaa-iit-madras/DA6401_Assignment2' target=\"_blank\">Weights & Biases</a> (<a href='https://wandb.me/developer-guide' target=\"_blank\">docs</a>)<br>Sweep page: <a href='https://wandb.ai/nikhithaa-iit-madras/DA6401_Assignment2/sweeps/0kqsutes' target=\"_blank\">https://wandb.ai/nikhithaa-iit-madras/DA6401_Assignment2/sweeps/0kqsutes</a>"
          },
          "metadata": {}
        },
        {
          "output_type": "display_data",
          "data": {
            "text/plain": "<IPython.core.display.HTML object>",
            "text/html": " View project at <a href='https://wandb.ai/nikhithaa-iit-madras/DA6401_Assignment2' target=\"_blank\">https://wandb.ai/nikhithaa-iit-madras/DA6401_Assignment2</a>"
          },
          "metadata": {}
        },
        {
          "output_type": "display_data",
          "data": {
            "text/plain": "<IPython.core.display.HTML object>",
            "text/html": " View sweep at <a href='https://wandb.ai/nikhithaa-iit-madras/DA6401_Assignment2/sweeps/0kqsutes' target=\"_blank\">https://wandb.ai/nikhithaa-iit-madras/DA6401_Assignment2/sweeps/0kqsutes</a>"
          },
          "metadata": {}
        },
        {
          "output_type": "display_data",
          "data": {
            "text/plain": "<IPython.core.display.HTML object>",
            "text/html": " View run at <a href='https://wandb.ai/nikhithaa-iit-madras/DA6401_Assignment2/runs/vzleiau3' target=\"_blank\">https://wandb.ai/nikhithaa-iit-madras/DA6401_Assignment2/runs/vzleiau3</a>"
          },
          "metadata": {}
        },
        {
          "name": "stdout",
          "text": "Epoch 0:\nBatch idx 0 running\nBatch idx 40 running\nBatch idx 80 running\nBatch idx 120 running\nvalidation: loss=1.785241639137268, accuracy=69.7\ntraining: loss=1.7862850385302975, accuracy=69.63370421302663\nEpoch 1:\nBatch idx 0 running\nBatch idx 40 running\nBatch idx 80 running\nBatch idx 120 running\nvalidation: loss=1.390060715675354, accuracy=77.25\ntraining: loss=1.3956595001138439, accuracy=75.97199649956245\nEpoch 2:\nBatch idx 0 running\nBatch idx 40 running\nBatch idx 80 running\nBatch idx 120 running\nvalidation: loss=1.118051746368408, accuracy=79.2\ntraining: loss=1.1313009003517494, accuracy=78.07225903237905\nEpoch 3:\nBatch idx 0 running\nBatch idx 40 running\nBatch idx 80 running\nBatch idx 120 running\nvalidation: loss=0.9451105127334595, accuracy=81.3\ntraining: loss=0.952979837049319, accuracy=79.87248406050756\nEpoch 4:\nBatch idx 0 running\nBatch idx 40 running\nBatch idx 80 running\nBatch idx 120 running\nvalidation: loss=0.8197017173767089, accuracy=82.4\ntraining: loss=0.8409446288845154, accuracy=80.84760595074384\nEpoch 5:\nBatch idx 0 running\nBatch idx 40 running\nBatch idx 80 running\nBatch idx 120 running\nvalidation: loss=0.7467409524917602, accuracy=82.85\ntraining: loss=0.7709248194636099, accuracy=81.04763095386923\nEpoch 6:\nBatch idx 0 running\nBatch idx 40 running\nBatch idx 80 running\nBatch idx 120 running\nvalidation: loss=0.6948026142120362, accuracy=83.05\ntraining: loss=0.7104708960405334, accuracy=81.92274034254282\nEpoch 7:\nBatch idx 0 running\nBatch idx 40 running\nBatch idx 80 running\nBatch idx 120 running\nvalidation: loss=0.6604130487442017, accuracy=83.45\ntraining: loss=0.6742025998804417, accuracy=82.31028878609827\nEpoch 8:\nBatch idx 0 running\nBatch idx 40 running\nBatch idx 80 running\nBatch idx 120 running\nvalidation: loss=0.6309362878799438, accuracy=83.55\ntraining: loss=0.6435644068126605, accuracy=82.42280285035629\nEpoch 9:\nBatch idx 0 running\nBatch idx 40 running\nBatch idx 80 running\nBatch idx 120 running\nvalidation: loss=0.6122002799510956, accuracy=83.4\ntraining: loss=0.6128882987899532, accuracy=83.11038879859983\ntesting: loss=0.6190123033523559, top1_accuracy=82.7, top5_accuracy = 98.4, top2_accuracy = 92.65\n",
          "output_type": "stream"
        },
        {
          "output_type": "display_data",
          "data": {
            "text/plain": "<IPython.core.display.HTML object>",
            "text/html": ""
          },
          "metadata": {}
        },
        {
          "output_type": "display_data",
          "data": {
            "text/plain": "<IPython.core.display.HTML object>",
            "text/html": "<br>    <style><br>        .wandb-row {<br>            display: flex;<br>            flex-direction: row;<br>            flex-wrap: wrap;<br>            justify-content: flex-start;<br>            width: 100%;<br>        }<br>        .wandb-col {<br>            display: flex;<br>            flex-direction: column;<br>            flex-basis: 100%;<br>            flex: 1;<br>            padding: 10px;<br>        }<br>    </style><br><div class=\"wandb-row\"><div class=\"wandb-col\"><h3>Run history:</h3><br/><table class=\"wandb\"><tr><td>best_acc_epoch</td><td>▁</td></tr><tr><td>best_val_accuracy</td><td>▁</td></tr><tr><td>epoch</td><td>▁▂▃▃▄▅▆▆▇█</td></tr><tr><td>test_loss</td><td>▁</td></tr><tr><td>test_top1_accuracy</td><td>▁</td></tr><tr><td>test_top2_accuracy</td><td>▁</td></tr><tr><td>test_top5_accuracy</td><td>▁</td></tr><tr><td>train_accuracy</td><td>▁▄▅▆▇▇▇███</td></tr><tr><td>train_loss</td><td>█▆▄▃▂▂▂▁▁▁</td></tr><tr><td>val_accuracy</td><td>▁▅▆▇▇█████</td></tr><tr><td>val_loss</td><td>█▆▄▃▂▂▁▁▁▁</td></tr></table><br/></div><div class=\"wandb-col\"><h3>Run summary:</h3><br/><table class=\"wandb\"><tr><td>best_acc_epoch</td><td>8</td></tr><tr><td>best_val_accuracy</td><td>83.55</td></tr><tr><td>epoch</td><td>10</td></tr><tr><td>test_loss</td><td>0.61901</td></tr><tr><td>test_top1_accuracy</td><td>82.7</td></tr><tr><td>test_top2_accuracy</td><td>92.65</td></tr><tr><td>test_top5_accuracy</td><td>98.4</td></tr><tr><td>train_accuracy</td><td>83.11039</td></tr><tr><td>train_loss</td><td>0.61289</td></tr><tr><td>val_accuracy</td><td>83.4</td></tr><tr><td>val_loss</td><td>0.6122</td></tr></table><br/></div></div>"
          },
          "metadata": {}
        },
        {
          "output_type": "display_data",
          "data": {
            "text/plain": "<IPython.core.display.HTML object>",
            "text/html": " View run <strong style=\"color:#cdcd00\">rmsprop_64_10_0.0001_DataAug-False</strong> at: <a href='https://wandb.ai/nikhithaa-iit-madras/DA6401_Assignment2/runs/vzleiau3' target=\"_blank\">https://wandb.ai/nikhithaa-iit-madras/DA6401_Assignment2/runs/vzleiau3</a><br> View project at: <a href='https://wandb.ai/nikhithaa-iit-madras/DA6401_Assignment2' target=\"_blank\">https://wandb.ai/nikhithaa-iit-madras/DA6401_Assignment2</a><br>Synced 5 W&B file(s), 0 media file(s), 0 artifact file(s) and 0 other file(s)"
          },
          "metadata": {}
        },
        {
          "output_type": "display_data",
          "data": {
            "text/plain": "<IPython.core.display.HTML object>",
            "text/html": "Find logs at: <code>./wandb/run-20250419_123118-vzleiau3/logs</code>"
          },
          "metadata": {}
        },
        {
          "name": "stderr",
          "text": "\u001b[34m\u001b[1mwandb\u001b[0m: Agent Starting Run: fkfpbwwy with config:\n\u001b[34m\u001b[1mwandb\u001b[0m: \tactivation: ReLU\n\u001b[34m\u001b[1mwandb\u001b[0m: \tbase_dir: /kaggle/input/inaturalist/inaturalist_12K\n\u001b[34m\u001b[1mwandb\u001b[0m: \tbatch_size: 32\n\u001b[34m\u001b[1mwandb\u001b[0m: \tbeta: 0.9\n\u001b[34m\u001b[1mwandb\u001b[0m: \tbeta1: 0.9\n\u001b[34m\u001b[1mwandb\u001b[0m: \tbeta2: 0.999\n\u001b[34m\u001b[1mwandb\u001b[0m: \tdropout: 0\n\u001b[34m\u001b[1mwandb\u001b[0m: \tepochs: 5\n\u001b[34m\u001b[1mwandb\u001b[0m: \tepsilon: 1e-08\n\u001b[34m\u001b[1mwandb\u001b[0m: \tfilter_sizes: [3, 3, 3, 3, 3]\n\u001b[34m\u001b[1mwandb\u001b[0m: \tisBatchNormalization: False\n\u001b[34m\u001b[1mwandb\u001b[0m: \tisDataAug: True\n\u001b[34m\u001b[1mwandb\u001b[0m: \tlearning_rate: 0.001\n\u001b[34m\u001b[1mwandb\u001b[0m: \tmomentum: 0.9\n\u001b[34m\u001b[1mwandb\u001b[0m: \tn_neurons_denseLayer: 128\n\u001b[34m\u001b[1mwandb\u001b[0m: \tnum_filters: [32, 32, 32, 32, 32]\n\u001b[34m\u001b[1mwandb\u001b[0m: \toptimizer: rmsprop\n\u001b[34m\u001b[1mwandb\u001b[0m: \tweight_decay: 0.0001\n",
          "output_type": "stream"
        },
        {
          "output_type": "display_data",
          "data": {
            "text/plain": "<IPython.core.display.HTML object>",
            "text/html": "Tracking run with wandb version 0.19.6"
          },
          "metadata": {}
        },
        {
          "output_type": "display_data",
          "data": {
            "text/plain": "<IPython.core.display.HTML object>",
            "text/html": "Run data is saved locally in <code>/kaggle/working/wandb/run-20250419_125919-fkfpbwwy</code>"
          },
          "metadata": {}
        },
        {
          "output_type": "display_data",
          "data": {
            "text/plain": "<IPython.core.display.HTML object>",
            "text/html": "Syncing run <strong><a href='https://wandb.ai/nikhithaa-iit-madras/DA6401_Assignment2/runs/fkfpbwwy' target=\"_blank\">swept-sweep-3</a></strong> to <a href='https://wandb.ai/nikhithaa-iit-madras/DA6401_Assignment2' target=\"_blank\">Weights & Biases</a> (<a href='https://wandb.me/developer-guide' target=\"_blank\">docs</a>)<br>Sweep page: <a href='https://wandb.ai/nikhithaa-iit-madras/DA6401_Assignment2/sweeps/0kqsutes' target=\"_blank\">https://wandb.ai/nikhithaa-iit-madras/DA6401_Assignment2/sweeps/0kqsutes</a>"
          },
          "metadata": {}
        },
        {
          "output_type": "display_data",
          "data": {
            "text/plain": "<IPython.core.display.HTML object>",
            "text/html": " View project at <a href='https://wandb.ai/nikhithaa-iit-madras/DA6401_Assignment2' target=\"_blank\">https://wandb.ai/nikhithaa-iit-madras/DA6401_Assignment2</a>"
          },
          "metadata": {}
        },
        {
          "output_type": "display_data",
          "data": {
            "text/plain": "<IPython.core.display.HTML object>",
            "text/html": " View sweep at <a href='https://wandb.ai/nikhithaa-iit-madras/DA6401_Assignment2/sweeps/0kqsutes' target=\"_blank\">https://wandb.ai/nikhithaa-iit-madras/DA6401_Assignment2/sweeps/0kqsutes</a>"
          },
          "metadata": {}
        },
        {
          "output_type": "display_data",
          "data": {
            "text/plain": "<IPython.core.display.HTML object>",
            "text/html": " View run at <a href='https://wandb.ai/nikhithaa-iit-madras/DA6401_Assignment2/runs/fkfpbwwy' target=\"_blank\">https://wandb.ai/nikhithaa-iit-madras/DA6401_Assignment2/runs/fkfpbwwy</a>"
          },
          "metadata": {}
        },
        {
          "name": "stdout",
          "text": "Epoch 0:\nBatch idx 0 running\nBatch idx 40 running\nBatch idx 80 running\nBatch idx 120 running\nBatch idx 160 running\nBatch idx 200 running\nBatch idx 240 running\nvalidation: loss=0.608590871334076, accuracy=83.5\ntraining: loss=0.6096150889920061, accuracy=82.98537317164646\nEpoch 1:\nBatch idx 0 running\nBatch idx 40 running\nBatch idx 80 running\nBatch idx 120 running\nBatch idx 160 running\nBatch idx 200 running\nBatch idx 240 running\nvalidation: loss=0.5072252478599548, accuracy=84.65\ntraining: loss=0.48909813187646634, accuracy=84.69808726090761\nEpoch 2:\nBatch idx 0 running\nBatch idx 40 running\nBatch idx 80 running\nBatch idx 120 running\nBatch idx 160 running\nBatch idx 200 running\nBatch idx 240 running\nvalidation: loss=0.469897602558136, accuracy=84.85\ntraining: loss=0.4412837703927098, accuracy=86.08576072009001\nEpoch 3:\nBatch idx 0 running\nBatch idx 40 running\nBatch idx 80 running\nBatch idx 120 running\nBatch idx 160 running\nBatch idx 200 running\nBatch idx 240 running\nvalidation: loss=0.46009657382965086, accuracy=86.0\ntraining: loss=0.4100176569021766, accuracy=87.04838104763095\nEpoch 4:\nBatch idx 0 running\nBatch idx 40 running\nBatch idx 80 running\nBatch idx 120 running\nBatch idx 160 running\nBatch idx 200 running\nBatch idx 240 running\nvalidation: loss=0.4610660161972046, accuracy=85.5\ntraining: loss=0.39070909384906793, accuracy=87.63595449431179\ntesting: loss=0.4680890662670136, top1_accuracy=84.9, top5_accuracy = 98.65, top2_accuracy = 93.25\n",
          "output_type": "stream"
        },
        {
          "output_type": "display_data",
          "data": {
            "text/plain": "<IPython.core.display.HTML object>",
            "text/html": ""
          },
          "metadata": {}
        },
        {
          "output_type": "display_data",
          "data": {
            "text/plain": "<IPython.core.display.HTML object>",
            "text/html": "<br>    <style><br>        .wandb-row {<br>            display: flex;<br>            flex-direction: row;<br>            flex-wrap: wrap;<br>            justify-content: flex-start;<br>            width: 100%;<br>        }<br>        .wandb-col {<br>            display: flex;<br>            flex-direction: column;<br>            flex-basis: 100%;<br>            flex: 1;<br>            padding: 10px;<br>        }<br>    </style><br><div class=\"wandb-row\"><div class=\"wandb-col\"><h3>Run history:</h3><br/><table class=\"wandb\"><tr><td>best_acc_epoch</td><td>▁</td></tr><tr><td>best_val_accuracy</td><td>▁</td></tr><tr><td>epoch</td><td>▁▃▅▆█</td></tr><tr><td>test_loss</td><td>▁</td></tr><tr><td>test_top1_accuracy</td><td>▁</td></tr><tr><td>test_top2_accuracy</td><td>▁</td></tr><tr><td>test_top5_accuracy</td><td>▁</td></tr><tr><td>train_accuracy</td><td>▁▄▆▇█</td></tr><tr><td>train_loss</td><td>█▄▃▂▁</td></tr><tr><td>val_accuracy</td><td>▁▄▅█▇</td></tr><tr><td>val_loss</td><td>█▃▁▁▁</td></tr></table><br/></div><div class=\"wandb-col\"><h3>Run summary:</h3><br/><table class=\"wandb\"><tr><td>best_acc_epoch</td><td>3</td></tr><tr><td>best_val_accuracy</td><td>86</td></tr><tr><td>epoch</td><td>5</td></tr><tr><td>test_loss</td><td>0.46809</td></tr><tr><td>test_top1_accuracy</td><td>84.9</td></tr><tr><td>test_top2_accuracy</td><td>93.25</td></tr><tr><td>test_top5_accuracy</td><td>98.65</td></tr><tr><td>train_accuracy</td><td>87.63595</td></tr><tr><td>train_loss</td><td>0.39071</td></tr><tr><td>val_accuracy</td><td>85.5</td></tr><tr><td>val_loss</td><td>0.46107</td></tr></table><br/></div></div>"
          },
          "metadata": {}
        },
        {
          "output_type": "display_data",
          "data": {
            "text/plain": "<IPython.core.display.HTML object>",
            "text/html": " View run <strong style=\"color:#cdcd00\">rmsprop_32_5_0.001_DataAug-True</strong> at: <a href='https://wandb.ai/nikhithaa-iit-madras/DA6401_Assignment2/runs/fkfpbwwy' target=\"_blank\">https://wandb.ai/nikhithaa-iit-madras/DA6401_Assignment2/runs/fkfpbwwy</a><br> View project at: <a href='https://wandb.ai/nikhithaa-iit-madras/DA6401_Assignment2' target=\"_blank\">https://wandb.ai/nikhithaa-iit-madras/DA6401_Assignment2</a><br>Synced 5 W&B file(s), 0 media file(s), 0 artifact file(s) and 0 other file(s)"
          },
          "metadata": {}
        },
        {
          "output_type": "display_data",
          "data": {
            "text/plain": "<IPython.core.display.HTML object>",
            "text/html": "Find logs at: <code>./wandb/run-20250419_125919-fkfpbwwy/logs</code>"
          },
          "metadata": {}
        },
        {
          "name": "stderr",
          "text": "\u001b[34m\u001b[1mwandb\u001b[0m: Agent Starting Run: guv0ufvg with config:\n\u001b[34m\u001b[1mwandb\u001b[0m: \tactivation: ReLU\n\u001b[34m\u001b[1mwandb\u001b[0m: \tbase_dir: /kaggle/input/inaturalist/inaturalist_12K\n\u001b[34m\u001b[1mwandb\u001b[0m: \tbatch_size: 32\n\u001b[34m\u001b[1mwandb\u001b[0m: \tbeta: 0.9\n\u001b[34m\u001b[1mwandb\u001b[0m: \tbeta1: 0.9\n\u001b[34m\u001b[1mwandb\u001b[0m: \tbeta2: 0.999\n\u001b[34m\u001b[1mwandb\u001b[0m: \tdropout: 0\n\u001b[34m\u001b[1mwandb\u001b[0m: \tepochs: 10\n\u001b[34m\u001b[1mwandb\u001b[0m: \tepsilon: 1e-08\n\u001b[34m\u001b[1mwandb\u001b[0m: \tfilter_sizes: [3, 3, 3, 3, 3]\n\u001b[34m\u001b[1mwandb\u001b[0m: \tisBatchNormalization: False\n\u001b[34m\u001b[1mwandb\u001b[0m: \tisDataAug: True\n\u001b[34m\u001b[1mwandb\u001b[0m: \tlearning_rate: 0.0001\n\u001b[34m\u001b[1mwandb\u001b[0m: \tmomentum: 0.9\n\u001b[34m\u001b[1mwandb\u001b[0m: \tn_neurons_denseLayer: 128\n\u001b[34m\u001b[1mwandb\u001b[0m: \tnum_filters: [32, 32, 32, 32, 32]\n\u001b[34m\u001b[1mwandb\u001b[0m: \toptimizer: rmsprop\n\u001b[34m\u001b[1mwandb\u001b[0m: \tweight_decay: 0.0005\n",
          "output_type": "stream"
        },
        {
          "output_type": "display_data",
          "data": {
            "text/plain": "<IPython.core.display.HTML object>",
            "text/html": "Tracking run with wandb version 0.19.6"
          },
          "metadata": {}
        },
        {
          "output_type": "display_data",
          "data": {
            "text/plain": "<IPython.core.display.HTML object>",
            "text/html": "Run data is saved locally in <code>/kaggle/working/wandb/run-20250419_131324-guv0ufvg</code>"
          },
          "metadata": {}
        },
        {
          "output_type": "display_data",
          "data": {
            "text/plain": "<IPython.core.display.HTML object>",
            "text/html": "Syncing run <strong><a href='https://wandb.ai/nikhithaa-iit-madras/DA6401_Assignment2/runs/guv0ufvg' target=\"_blank\">sage-sweep-4</a></strong> to <a href='https://wandb.ai/nikhithaa-iit-madras/DA6401_Assignment2' target=\"_blank\">Weights & Biases</a> (<a href='https://wandb.me/developer-guide' target=\"_blank\">docs</a>)<br>Sweep page: <a href='https://wandb.ai/nikhithaa-iit-madras/DA6401_Assignment2/sweeps/0kqsutes' target=\"_blank\">https://wandb.ai/nikhithaa-iit-madras/DA6401_Assignment2/sweeps/0kqsutes</a>"
          },
          "metadata": {}
        },
        {
          "output_type": "display_data",
          "data": {
            "text/plain": "<IPython.core.display.HTML object>",
            "text/html": " View project at <a href='https://wandb.ai/nikhithaa-iit-madras/DA6401_Assignment2' target=\"_blank\">https://wandb.ai/nikhithaa-iit-madras/DA6401_Assignment2</a>"
          },
          "metadata": {}
        },
        {
          "output_type": "display_data",
          "data": {
            "text/plain": "<IPython.core.display.HTML object>",
            "text/html": " View sweep at <a href='https://wandb.ai/nikhithaa-iit-madras/DA6401_Assignment2/sweeps/0kqsutes' target=\"_blank\">https://wandb.ai/nikhithaa-iit-madras/DA6401_Assignment2/sweeps/0kqsutes</a>"
          },
          "metadata": {}
        },
        {
          "output_type": "display_data",
          "data": {
            "text/plain": "<IPython.core.display.HTML object>",
            "text/html": " View run at <a href='https://wandb.ai/nikhithaa-iit-madras/DA6401_Assignment2/runs/guv0ufvg' target=\"_blank\">https://wandb.ai/nikhithaa-iit-madras/DA6401_Assignment2/runs/guv0ufvg</a>"
          },
          "metadata": {}
        },
        {
          "name": "stdout",
          "text": "Epoch 0:\nBatch idx 0 running\nBatch idx 40 running\nBatch idx 80 running\nBatch idx 120 running\nBatch idx 160 running\nBatch idx 200 running\nBatch idx 240 running\nvalidation: loss=1.5743275833129884, accuracy=76.45\ntraining: loss=1.5851237391036574, accuracy=74.95936992124015\nEpoch 1:\nBatch idx 0 running\nBatch idx 40 running\nBatch idx 80 running\nBatch idx 120 running\nBatch idx 160 running\nBatch idx 200 running\nBatch idx 240 running\nvalidation: loss=1.104970362663269, accuracy=80.2\ntraining: loss=1.1175462271455139, accuracy=78.67233404175522\nEpoch 2:\nBatch idx 0 running\nBatch idx 40 running\nBatch idx 80 running\nBatch idx 120 running\nBatch idx 160 running\nBatch idx 200 running\nBatch idx 240 running\nvalidation: loss=0.8715408978462219, accuracy=81.65\ntraining: loss=0.8871059924800003, accuracy=79.97249656207026\nEpoch 3:\nBatch idx 0 running\nBatch idx 40 running\nBatch idx 80 running\nBatch idx 120 running\nBatch idx 160 running\nBatch idx 200 running\nBatch idx 240 running\nvalidation: loss=0.7391255903244018, accuracy=82.9\ntraining: loss=0.7660107679897017, accuracy=81.34766845855732\nEpoch 4:\nBatch idx 0 running\nBatch idx 40 running\nBatch idx 80 running\nBatch idx 120 running\nBatch idx 160 running\nBatch idx 200 running\nBatch idx 240 running\nvalidation: loss=0.6843689033985138, accuracy=82.55\ntraining: loss=0.6911544496155572, accuracy=82.26028253531692\nEpoch 5:\nBatch idx 0 running\nBatch idx 40 running\nBatch idx 80 running\nBatch idx 120 running\nBatch idx 160 running\nBatch idx 200 running\nBatch idx 240 running\nvalidation: loss=0.6334269030094146, accuracy=83.9\ntraining: loss=0.6425070603842555, accuracy=82.64783097887236\nEpoch 6:\nBatch idx 0 running\nBatch idx 40 running\nBatch idx 80 running\nBatch idx 120 running\nBatch idx 160 running\nBatch idx 200 running\nBatch idx 240 running\nvalidation: loss=0.5915259010791779, accuracy=84.0\ntraining: loss=0.6044160630169743, accuracy=83.08538567320915\nEpoch 7:\nBatch idx 0 running\nBatch idx 40 running\nBatch idx 80 running\nBatch idx 120 running\nBatch idx 160 running\nBatch idx 200 running\nBatch idx 240 running\nvalidation: loss=0.5554245948791504, accuracy=84.9\ntraining: loss=0.579580383787216, accuracy=83.39792474059257\nEpoch 8:\nBatch idx 0 running\nBatch idx 40 running\nBatch idx 80 running\nBatch idx 120 running\nBatch idx 160 running\nBatch idx 200 running\nBatch idx 240 running\nvalidation: loss=0.5424311344623566, accuracy=85.4\ntraining: loss=0.5584405342002617, accuracy=83.89798724840605\nEpoch 9:\nBatch idx 0 running\nBatch idx 40 running\nBatch idx 80 running\nBatch idx 120 running\nBatch idx 160 running\nBatch idx 200 running\nBatch idx 240 running\nvalidation: loss=0.5363662710189819, accuracy=85.45\ntraining: loss=0.5353804030393359, accuracy=84.36054506813352\ntesting: loss=0.5486105144023895, top1_accuracy=84.05, top5_accuracy = 98.55, top2_accuracy = 93.45\n",
          "output_type": "stream"
        },
        {
          "output_type": "display_data",
          "data": {
            "text/plain": "<IPython.core.display.HTML object>",
            "text/html": ""
          },
          "metadata": {}
        },
        {
          "output_type": "display_data",
          "data": {
            "text/plain": "<IPython.core.display.HTML object>",
            "text/html": "<br>    <style><br>        .wandb-row {<br>            display: flex;<br>            flex-direction: row;<br>            flex-wrap: wrap;<br>            justify-content: flex-start;<br>            width: 100%;<br>        }<br>        .wandb-col {<br>            display: flex;<br>            flex-direction: column;<br>            flex-basis: 100%;<br>            flex: 1;<br>            padding: 10px;<br>        }<br>    </style><br><div class=\"wandb-row\"><div class=\"wandb-col\"><h3>Run history:</h3><br/><table class=\"wandb\"><tr><td>best_acc_epoch</td><td>▁</td></tr><tr><td>best_val_accuracy</td><td>▁</td></tr><tr><td>epoch</td><td>▁▂▃▃▄▅▆▆▇█</td></tr><tr><td>test_loss</td><td>▁</td></tr><tr><td>test_top1_accuracy</td><td>▁</td></tr><tr><td>test_top2_accuracy</td><td>▁</td></tr><tr><td>test_top5_accuracy</td><td>▁</td></tr><tr><td>train_accuracy</td><td>▁▄▅▆▆▇▇▇██</td></tr><tr><td>train_loss</td><td>█▅▃▃▂▂▁▁▁▁</td></tr><tr><td>val_accuracy</td><td>▁▄▅▆▆▇▇███</td></tr><tr><td>val_loss</td><td>█▅▃▂▂▂▁▁▁▁</td></tr></table><br/></div><div class=\"wandb-col\"><h3>Run summary:</h3><br/><table class=\"wandb\"><tr><td>best_acc_epoch</td><td>9</td></tr><tr><td>best_val_accuracy</td><td>85.45</td></tr><tr><td>epoch</td><td>10</td></tr><tr><td>test_loss</td><td>0.54861</td></tr><tr><td>test_top1_accuracy</td><td>84.05</td></tr><tr><td>test_top2_accuracy</td><td>93.45</td></tr><tr><td>test_top5_accuracy</td><td>98.55</td></tr><tr><td>train_accuracy</td><td>84.36055</td></tr><tr><td>train_loss</td><td>0.53538</td></tr><tr><td>val_accuracy</td><td>85.45</td></tr><tr><td>val_loss</td><td>0.53637</td></tr></table><br/></div></div>"
          },
          "metadata": {}
        },
        {
          "output_type": "display_data",
          "data": {
            "text/plain": "<IPython.core.display.HTML object>",
            "text/html": " View run <strong style=\"color:#cdcd00\">rmsprop_32_10_0.0001_DataAug-True</strong> at: <a href='https://wandb.ai/nikhithaa-iit-madras/DA6401_Assignment2/runs/guv0ufvg' target=\"_blank\">https://wandb.ai/nikhithaa-iit-madras/DA6401_Assignment2/runs/guv0ufvg</a><br> View project at: <a href='https://wandb.ai/nikhithaa-iit-madras/DA6401_Assignment2' target=\"_blank\">https://wandb.ai/nikhithaa-iit-madras/DA6401_Assignment2</a><br>Synced 5 W&B file(s), 0 media file(s), 0 artifact file(s) and 0 other file(s)"
          },
          "metadata": {}
        },
        {
          "output_type": "display_data",
          "data": {
            "text/plain": "<IPython.core.display.HTML object>",
            "text/html": "Find logs at: <code>./wandb/run-20250419_131324-guv0ufvg/logs</code>"
          },
          "metadata": {}
        },
        {
          "name": "stderr",
          "text": "\u001b[34m\u001b[1mwandb\u001b[0m: Agent Starting Run: svox8ltp with config:\n\u001b[34m\u001b[1mwandb\u001b[0m: \tactivation: ReLU\n\u001b[34m\u001b[1mwandb\u001b[0m: \tbase_dir: /kaggle/input/inaturalist/inaturalist_12K\n\u001b[34m\u001b[1mwandb\u001b[0m: \tbatch_size: 64\n\u001b[34m\u001b[1mwandb\u001b[0m: \tbeta: 0.9\n\u001b[34m\u001b[1mwandb\u001b[0m: \tbeta1: 0.9\n\u001b[34m\u001b[1mwandb\u001b[0m: \tbeta2: 0.999\n\u001b[34m\u001b[1mwandb\u001b[0m: \tdropout: 0\n\u001b[34m\u001b[1mwandb\u001b[0m: \tepochs: 5\n\u001b[34m\u001b[1mwandb\u001b[0m: \tepsilon: 1e-08\n\u001b[34m\u001b[1mwandb\u001b[0m: \tfilter_sizes: [3, 3, 3, 3, 3]\n\u001b[34m\u001b[1mwandb\u001b[0m: \tisBatchNormalization: False\n\u001b[34m\u001b[1mwandb\u001b[0m: \tisDataAug: False\n\u001b[34m\u001b[1mwandb\u001b[0m: \tlearning_rate: 0.001\n\u001b[34m\u001b[1mwandb\u001b[0m: \tmomentum: 0.9\n\u001b[34m\u001b[1mwandb\u001b[0m: \tn_neurons_denseLayer: 128\n\u001b[34m\u001b[1mwandb\u001b[0m: \tnum_filters: [32, 32, 32, 32, 32]\n\u001b[34m\u001b[1mwandb\u001b[0m: \toptimizer: adam\n\u001b[34m\u001b[1mwandb\u001b[0m: \tweight_decay: 0.0005\n",
          "output_type": "stream"
        },
        {
          "output_type": "display_data",
          "data": {
            "text/plain": "<IPython.core.display.HTML object>",
            "text/html": "Tracking run with wandb version 0.19.6"
          },
          "metadata": {}
        },
        {
          "output_type": "display_data",
          "data": {
            "text/plain": "<IPython.core.display.HTML object>",
            "text/html": "Run data is saved locally in <code>/kaggle/working/wandb/run-20250419_134059-svox8ltp</code>"
          },
          "metadata": {}
        },
        {
          "output_type": "display_data",
          "data": {
            "text/plain": "<IPython.core.display.HTML object>",
            "text/html": "Syncing run <strong><a href='https://wandb.ai/nikhithaa-iit-madras/DA6401_Assignment2/runs/svox8ltp' target=\"_blank\">fancy-sweep-5</a></strong> to <a href='https://wandb.ai/nikhithaa-iit-madras/DA6401_Assignment2' target=\"_blank\">Weights & Biases</a> (<a href='https://wandb.me/developer-guide' target=\"_blank\">docs</a>)<br>Sweep page: <a href='https://wandb.ai/nikhithaa-iit-madras/DA6401_Assignment2/sweeps/0kqsutes' target=\"_blank\">https://wandb.ai/nikhithaa-iit-madras/DA6401_Assignment2/sweeps/0kqsutes</a>"
          },
          "metadata": {}
        },
        {
          "output_type": "display_data",
          "data": {
            "text/plain": "<IPython.core.display.HTML object>",
            "text/html": " View project at <a href='https://wandb.ai/nikhithaa-iit-madras/DA6401_Assignment2' target=\"_blank\">https://wandb.ai/nikhithaa-iit-madras/DA6401_Assignment2</a>"
          },
          "metadata": {}
        },
        {
          "output_type": "display_data",
          "data": {
            "text/plain": "<IPython.core.display.HTML object>",
            "text/html": " View sweep at <a href='https://wandb.ai/nikhithaa-iit-madras/DA6401_Assignment2/sweeps/0kqsutes' target=\"_blank\">https://wandb.ai/nikhithaa-iit-madras/DA6401_Assignment2/sweeps/0kqsutes</a>"
          },
          "metadata": {}
        },
        {
          "output_type": "display_data",
          "data": {
            "text/plain": "<IPython.core.display.HTML object>",
            "text/html": " View run at <a href='https://wandb.ai/nikhithaa-iit-madras/DA6401_Assignment2/runs/svox8ltp' target=\"_blank\">https://wandb.ai/nikhithaa-iit-madras/DA6401_Assignment2/runs/svox8ltp</a>"
          },
          "metadata": {}
        },
        {
          "name": "stdout",
          "text": "Epoch 0:\nBatch idx 0 running\nBatch idx 40 running\nBatch idx 80 running\nBatch idx 120 running\nvalidation: loss=0.6847695045471192, accuracy=82.75\ntraining: loss=0.6989457887967746, accuracy=81.76022002750344\nEpoch 1:\nBatch idx 0 running\nBatch idx 40 running\nBatch idx 80 running\nBatch idx 120 running\nvalidation: loss=0.5538216733932495, accuracy=84.75\ntraining: loss=0.5541230207280019, accuracy=84.1855231903988\nEpoch 2:\nBatch idx 0 running\nBatch idx 40 running\nBatch idx 80 running\nBatch idx 120 running\nvalidation: loss=0.5159271960258484, accuracy=85.25\ntraining: loss=0.49595530647265196, accuracy=85.34816852106513\nEpoch 3:\nBatch idx 0 running\nBatch idx 40 running\nBatch idx 80 running\nBatch idx 120 running\nvalidation: loss=0.48647997617721556, accuracy=86.25\ntraining: loss=0.46086648019019744, accuracy=86.2482810351294\nEpoch 4:\nBatch idx 0 running\nBatch idx 40 running\nBatch idx 80 running\nBatch idx 120 running\nvalidation: loss=0.4677537024021149, accuracy=86.25\ntraining: loss=0.42792030447258744, accuracy=86.9608701087636\ntesting: loss=0.49276377439498903, top1_accuracy=84.7, top5_accuracy = 98.3, top2_accuracy = 93.15\n",
          "output_type": "stream"
        },
        {
          "output_type": "display_data",
          "data": {
            "text/plain": "<IPython.core.display.HTML object>",
            "text/html": ""
          },
          "metadata": {}
        },
        {
          "output_type": "display_data",
          "data": {
            "text/plain": "<IPython.core.display.HTML object>",
            "text/html": "<br>    <style><br>        .wandb-row {<br>            display: flex;<br>            flex-direction: row;<br>            flex-wrap: wrap;<br>            justify-content: flex-start;<br>            width: 100%;<br>        }<br>        .wandb-col {<br>            display: flex;<br>            flex-direction: column;<br>            flex-basis: 100%;<br>            flex: 1;<br>            padding: 10px;<br>        }<br>    </style><br><div class=\"wandb-row\"><div class=\"wandb-col\"><h3>Run history:</h3><br/><table class=\"wandb\"><tr><td>best_acc_epoch</td><td>▁</td></tr><tr><td>best_val_accuracy</td><td>▁</td></tr><tr><td>epoch</td><td>▁▃▅▆█</td></tr><tr><td>test_loss</td><td>▁</td></tr><tr><td>test_top1_accuracy</td><td>▁</td></tr><tr><td>test_top2_accuracy</td><td>▁</td></tr><tr><td>test_top5_accuracy</td><td>▁</td></tr><tr><td>train_accuracy</td><td>▁▄▆▇█</td></tr><tr><td>train_loss</td><td>█▄▃▂▁</td></tr><tr><td>val_accuracy</td><td>▁▅▆██</td></tr><tr><td>val_loss</td><td>█▄▃▂▁</td></tr></table><br/></div><div class=\"wandb-col\"><h3>Run summary:</h3><br/><table class=\"wandb\"><tr><td>best_acc_epoch</td><td>3</td></tr><tr><td>best_val_accuracy</td><td>86.25</td></tr><tr><td>epoch</td><td>5</td></tr><tr><td>test_loss</td><td>0.49276</td></tr><tr><td>test_top1_accuracy</td><td>84.7</td></tr><tr><td>test_top2_accuracy</td><td>93.15</td></tr><tr><td>test_top5_accuracy</td><td>98.3</td></tr><tr><td>train_accuracy</td><td>86.96087</td></tr><tr><td>train_loss</td><td>0.42792</td></tr><tr><td>val_accuracy</td><td>86.25</td></tr><tr><td>val_loss</td><td>0.46775</td></tr></table><br/></div></div>"
          },
          "metadata": {}
        },
        {
          "output_type": "display_data",
          "data": {
            "text/plain": "<IPython.core.display.HTML object>",
            "text/html": " View run <strong style=\"color:#cdcd00\">adam_64_5_0.001_DataAug-False</strong> at: <a href='https://wandb.ai/nikhithaa-iit-madras/DA6401_Assignment2/runs/svox8ltp' target=\"_blank\">https://wandb.ai/nikhithaa-iit-madras/DA6401_Assignment2/runs/svox8ltp</a><br> View project at: <a href='https://wandb.ai/nikhithaa-iit-madras/DA6401_Assignment2' target=\"_blank\">https://wandb.ai/nikhithaa-iit-madras/DA6401_Assignment2</a><br>Synced 5 W&B file(s), 0 media file(s), 0 artifact file(s) and 0 other file(s)"
          },
          "metadata": {}
        },
        {
          "output_type": "display_data",
          "data": {
            "text/plain": "<IPython.core.display.HTML object>",
            "text/html": "Find logs at: <code>./wandb/run-20250419_134059-svox8ltp/logs</code>"
          },
          "metadata": {}
        },
        {
          "name": "stderr",
          "text": "\u001b[34m\u001b[1mwandb\u001b[0m: Agent Starting Run: 1ixruf8p with config:\n\u001b[34m\u001b[1mwandb\u001b[0m: \tactivation: ReLU\n\u001b[34m\u001b[1mwandb\u001b[0m: \tbase_dir: /kaggle/input/inaturalist/inaturalist_12K\n\u001b[34m\u001b[1mwandb\u001b[0m: \tbatch_size: 64\n\u001b[34m\u001b[1mwandb\u001b[0m: \tbeta: 0.9\n\u001b[34m\u001b[1mwandb\u001b[0m: \tbeta1: 0.9\n\u001b[34m\u001b[1mwandb\u001b[0m: \tbeta2: 0.999\n\u001b[34m\u001b[1mwandb\u001b[0m: \tdropout: 0\n\u001b[34m\u001b[1mwandb\u001b[0m: \tepochs: 10\n\u001b[34m\u001b[1mwandb\u001b[0m: \tepsilon: 1e-08\n\u001b[34m\u001b[1mwandb\u001b[0m: \tfilter_sizes: [3, 3, 3, 3, 3]\n\u001b[34m\u001b[1mwandb\u001b[0m: \tisBatchNormalization: False\n\u001b[34m\u001b[1mwandb\u001b[0m: \tisDataAug: False\n\u001b[34m\u001b[1mwandb\u001b[0m: \tlearning_rate: 0.0001\n\u001b[34m\u001b[1mwandb\u001b[0m: \tmomentum: 0.9\n\u001b[34m\u001b[1mwandb\u001b[0m: \tn_neurons_denseLayer: 128\n\u001b[34m\u001b[1mwandb\u001b[0m: \tnum_filters: [32, 32, 32, 32, 32]\n\u001b[34m\u001b[1mwandb\u001b[0m: \toptimizer: rmsprop\n\u001b[34m\u001b[1mwandb\u001b[0m: \tweight_decay: 0.0005\n",
          "output_type": "stream"
        },
        {
          "output_type": "display_data",
          "data": {
            "text/plain": "<IPython.core.display.HTML object>",
            "text/html": "Tracking run with wandb version 0.19.6"
          },
          "metadata": {}
        },
        {
          "output_type": "display_data",
          "data": {
            "text/plain": "<IPython.core.display.HTML object>",
            "text/html": "Run data is saved locally in <code>/kaggle/working/wandb/run-20250419_135504-1ixruf8p</code>"
          },
          "metadata": {}
        },
        {
          "output_type": "display_data",
          "data": {
            "text/plain": "<IPython.core.display.HTML object>",
            "text/html": "Syncing run <strong><a href='https://wandb.ai/nikhithaa-iit-madras/DA6401_Assignment2/runs/1ixruf8p' target=\"_blank\">chocolate-sweep-6</a></strong> to <a href='https://wandb.ai/nikhithaa-iit-madras/DA6401_Assignment2' target=\"_blank\">Weights & Biases</a> (<a href='https://wandb.me/developer-guide' target=\"_blank\">docs</a>)<br>Sweep page: <a href='https://wandb.ai/nikhithaa-iit-madras/DA6401_Assignment2/sweeps/0kqsutes' target=\"_blank\">https://wandb.ai/nikhithaa-iit-madras/DA6401_Assignment2/sweeps/0kqsutes</a>"
          },
          "metadata": {}
        },
        {
          "output_type": "display_data",
          "data": {
            "text/plain": "<IPython.core.display.HTML object>",
            "text/html": " View project at <a href='https://wandb.ai/nikhithaa-iit-madras/DA6401_Assignment2' target=\"_blank\">https://wandb.ai/nikhithaa-iit-madras/DA6401_Assignment2</a>"
          },
          "metadata": {}
        },
        {
          "output_type": "display_data",
          "data": {
            "text/plain": "<IPython.core.display.HTML object>",
            "text/html": " View sweep at <a href='https://wandb.ai/nikhithaa-iit-madras/DA6401_Assignment2/sweeps/0kqsutes' target=\"_blank\">https://wandb.ai/nikhithaa-iit-madras/DA6401_Assignment2/sweeps/0kqsutes</a>"
          },
          "metadata": {}
        },
        {
          "output_type": "display_data",
          "data": {
            "text/plain": "<IPython.core.display.HTML object>",
            "text/html": " View run at <a href='https://wandb.ai/nikhithaa-iit-madras/DA6401_Assignment2/runs/1ixruf8p' target=\"_blank\">https://wandb.ai/nikhithaa-iit-madras/DA6401_Assignment2/runs/1ixruf8p</a>"
          },
          "metadata": {}
        },
        {
          "name": "stdout",
          "text": "Epoch 0:\nBatch idx 0 running\nBatch idx 40 running\nBatch idx 80 running\nBatch idx 120 running\nvalidation: loss=1.7918304290771485, accuracy=70.8\ntraining: loss=1.7955336810082312, accuracy=70.2712839104888\nEpoch 1:\nBatch idx 0 running\nBatch idx 40 running\nBatch idx 80 running\nBatch idx 120 running\nvalidation: loss=1.3972978687286377, accuracy=77.75\ntraining: loss=1.401219938111046, accuracy=76.75959494936868\nEpoch 2:\nBatch idx 0 running\nBatch idx 40 running\nBatch idx 80 running\nBatch idx 120 running\nvalidation: loss=1.127318899154663, accuracy=79.75\ntraining: loss=1.1333838402442535, accuracy=78.50981372671583\nEpoch 3:\nBatch idx 0 running\nBatch idx 40 running\nBatch idx 80 running\nBatch idx 120 running\nvalidation: loss=0.9456427307128906, accuracy=81.8\ntraining: loss=0.9577252175647298, accuracy=79.48493561695211\nEpoch 4:\nBatch idx 0 running\nBatch idx 40 running\nBatch idx 80 running\nBatch idx 120 running\nvalidation: loss=0.8322111139297486, accuracy=82.25\ntraining: loss=0.8461899336300309, accuracy=80.57257157144643\nEpoch 5:\nBatch idx 0 running\nBatch idx 40 running\nBatch idx 80 running\nBatch idx 120 running\nvalidation: loss=0.7601896014213562, accuracy=81.8\ntraining: loss=0.7696114152666181, accuracy=81.22265283160395\nEpoch 6:\nBatch idx 0 running\nBatch idx 40 running\nBatch idx 80 running\nBatch idx 120 running\nvalidation: loss=0.7029689955711365, accuracy=82.45\ntraining: loss=0.7126418099669848, accuracy=81.7852231528941\nEpoch 7:\nBatch idx 0 running\nBatch idx 40 running\nBatch idx 80 running\nBatch idx 120 running\nvalidation: loss=0.6650393695831299, accuracy=82.95\ntraining: loss=0.6778573101573414, accuracy=82.522815351919\nEpoch 8:\nBatch idx 0 running\nBatch idx 40 running\nBatch idx 80 running\nBatch idx 120 running\nvalidation: loss=0.6323961226940155, accuracy=84.15\ntraining: loss=0.6427964303311385, accuracy=82.97287160895112\nEpoch 9:\nBatch idx 0 running\nBatch idx 40 running\nBatch idx 80 running\nBatch idx 120 running\nvalidation: loss=0.619540310382843, accuracy=83.6\ntraining: loss=0.6214734032267645, accuracy=83.08538567320915\ntesting: loss=0.6211172113418579, top1_accuracy=83.35, top5_accuracy = 98.35, top2_accuracy = 92.95\n",
          "output_type": "stream"
        },
        {
          "output_type": "display_data",
          "data": {
            "text/plain": "<IPython.core.display.HTML object>",
            "text/html": ""
          },
          "metadata": {}
        },
        {
          "output_type": "display_data",
          "data": {
            "text/plain": "<IPython.core.display.HTML object>",
            "text/html": "<br>    <style><br>        .wandb-row {<br>            display: flex;<br>            flex-direction: row;<br>            flex-wrap: wrap;<br>            justify-content: flex-start;<br>            width: 100%;<br>        }<br>        .wandb-col {<br>            display: flex;<br>            flex-direction: column;<br>            flex-basis: 100%;<br>            flex: 1;<br>            padding: 10px;<br>        }<br>    </style><br><div class=\"wandb-row\"><div class=\"wandb-col\"><h3>Run history:</h3><br/><table class=\"wandb\"><tr><td>best_acc_epoch</td><td>▁</td></tr><tr><td>best_val_accuracy</td><td>▁</td></tr><tr><td>epoch</td><td>▁▂▃▃▄▅▆▆▇█</td></tr><tr><td>test_loss</td><td>▁</td></tr><tr><td>test_top1_accuracy</td><td>▁</td></tr><tr><td>test_top2_accuracy</td><td>▁</td></tr><tr><td>test_top5_accuracy</td><td>▁</td></tr><tr><td>train_accuracy</td><td>▁▅▆▆▇▇▇███</td></tr><tr><td>train_loss</td><td>█▆▄▃▂▂▂▁▁▁</td></tr><tr><td>val_accuracy</td><td>▁▅▆▇▇▇▇▇██</td></tr><tr><td>val_loss</td><td>█▆▄▃▂▂▁▁▁▁</td></tr></table><br/></div><div class=\"wandb-col\"><h3>Run summary:</h3><br/><table class=\"wandb\"><tr><td>best_acc_epoch</td><td>8</td></tr><tr><td>best_val_accuracy</td><td>84.15</td></tr><tr><td>epoch</td><td>10</td></tr><tr><td>test_loss</td><td>0.62112</td></tr><tr><td>test_top1_accuracy</td><td>83.35</td></tr><tr><td>test_top2_accuracy</td><td>92.95</td></tr><tr><td>test_top5_accuracy</td><td>98.35</td></tr><tr><td>train_accuracy</td><td>83.08539</td></tr><tr><td>train_loss</td><td>0.62147</td></tr><tr><td>val_accuracy</td><td>83.6</td></tr><tr><td>val_loss</td><td>0.61954</td></tr></table><br/></div></div>"
          },
          "metadata": {}
        },
        {
          "output_type": "display_data",
          "data": {
            "text/plain": "<IPython.core.display.HTML object>",
            "text/html": " View run <strong style=\"color:#cdcd00\">rmsprop_64_10_0.0001_DataAug-False</strong> at: <a href='https://wandb.ai/nikhithaa-iit-madras/DA6401_Assignment2/runs/1ixruf8p' target=\"_blank\">https://wandb.ai/nikhithaa-iit-madras/DA6401_Assignment2/runs/1ixruf8p</a><br> View project at: <a href='https://wandb.ai/nikhithaa-iit-madras/DA6401_Assignment2' target=\"_blank\">https://wandb.ai/nikhithaa-iit-madras/DA6401_Assignment2</a><br>Synced 5 W&B file(s), 0 media file(s), 0 artifact file(s) and 0 other file(s)"
          },
          "metadata": {}
        },
        {
          "output_type": "display_data",
          "data": {
            "text/plain": "<IPython.core.display.HTML object>",
            "text/html": "Find logs at: <code>./wandb/run-20250419_135504-1ixruf8p/logs</code>"
          },
          "metadata": {}
        },
        {
          "name": "stderr",
          "text": "\u001b[34m\u001b[1mwandb\u001b[0m: Agent Starting Run: 1nzahybw with config:\n\u001b[34m\u001b[1mwandb\u001b[0m: \tactivation: ReLU\n\u001b[34m\u001b[1mwandb\u001b[0m: \tbase_dir: /kaggle/input/inaturalist/inaturalist_12K\n\u001b[34m\u001b[1mwandb\u001b[0m: \tbatch_size: 32\n\u001b[34m\u001b[1mwandb\u001b[0m: \tbeta: 0.9\n\u001b[34m\u001b[1mwandb\u001b[0m: \tbeta1: 0.9\n\u001b[34m\u001b[1mwandb\u001b[0m: \tbeta2: 0.999\n\u001b[34m\u001b[1mwandb\u001b[0m: \tdropout: 0\n\u001b[34m\u001b[1mwandb\u001b[0m: \tepochs: 10\n\u001b[34m\u001b[1mwandb\u001b[0m: \tepsilon: 1e-08\n\u001b[34m\u001b[1mwandb\u001b[0m: \tfilter_sizes: [3, 3, 3, 3, 3]\n\u001b[34m\u001b[1mwandb\u001b[0m: \tisBatchNormalization: False\n\u001b[34m\u001b[1mwandb\u001b[0m: \tisDataAug: False\n\u001b[34m\u001b[1mwandb\u001b[0m: \tlearning_rate: 0.001\n\u001b[34m\u001b[1mwandb\u001b[0m: \tmomentum: 0.9\n\u001b[34m\u001b[1mwandb\u001b[0m: \tn_neurons_denseLayer: 128\n\u001b[34m\u001b[1mwandb\u001b[0m: \tnum_filters: [32, 32, 32, 32, 32]\n\u001b[34m\u001b[1mwandb\u001b[0m: \toptimizer: sgd\n\u001b[34m\u001b[1mwandb\u001b[0m: \tweight_decay: 0.0001\n",
          "output_type": "stream"
        },
        {
          "output_type": "display_data",
          "data": {
            "text/plain": "<IPython.core.display.HTML object>",
            "text/html": "Tracking run with wandb version 0.19.6"
          },
          "metadata": {}
        },
        {
          "output_type": "display_data",
          "data": {
            "text/plain": "<IPython.core.display.HTML object>",
            "text/html": "Run data is saved locally in <code>/kaggle/working/wandb/run-20250419_142341-1nzahybw</code>"
          },
          "metadata": {}
        },
        {
          "output_type": "display_data",
          "data": {
            "text/plain": "<IPython.core.display.HTML object>",
            "text/html": "Syncing run <strong><a href='https://wandb.ai/nikhithaa-iit-madras/DA6401_Assignment2/runs/1nzahybw' target=\"_blank\">vague-sweep-7</a></strong> to <a href='https://wandb.ai/nikhithaa-iit-madras/DA6401_Assignment2' target=\"_blank\">Weights & Biases</a> (<a href='https://wandb.me/developer-guide' target=\"_blank\">docs</a>)<br>Sweep page: <a href='https://wandb.ai/nikhithaa-iit-madras/DA6401_Assignment2/sweeps/0kqsutes' target=\"_blank\">https://wandb.ai/nikhithaa-iit-madras/DA6401_Assignment2/sweeps/0kqsutes</a>"
          },
          "metadata": {}
        },
        {
          "output_type": "display_data",
          "data": {
            "text/plain": "<IPython.core.display.HTML object>",
            "text/html": " View project at <a href='https://wandb.ai/nikhithaa-iit-madras/DA6401_Assignment2' target=\"_blank\">https://wandb.ai/nikhithaa-iit-madras/DA6401_Assignment2</a>"
          },
          "metadata": {}
        },
        {
          "output_type": "display_data",
          "data": {
            "text/plain": "<IPython.core.display.HTML object>",
            "text/html": " View sweep at <a href='https://wandb.ai/nikhithaa-iit-madras/DA6401_Assignment2/sweeps/0kqsutes' target=\"_blank\">https://wandb.ai/nikhithaa-iit-madras/DA6401_Assignment2/sweeps/0kqsutes</a>"
          },
          "metadata": {}
        },
        {
          "output_type": "display_data",
          "data": {
            "text/plain": "<IPython.core.display.HTML object>",
            "text/html": " View run at <a href='https://wandb.ai/nikhithaa-iit-madras/DA6401_Assignment2/runs/1nzahybw' target=\"_blank\">https://wandb.ai/nikhithaa-iit-madras/DA6401_Assignment2/runs/1nzahybw</a>"
          },
          "metadata": {}
        },
        {
          "name": "stdout",
          "text": "Epoch 0:\nBatch idx 0 running\nBatch idx 40 running\nBatch idx 80 running\nBatch idx 120 running\nBatch idx 160 running\nBatch idx 200 running\nBatch idx 240 running\nvalidation: loss=1.1628892812728882, accuracy=79.35\ntraining: loss=1.1754694458305397, accuracy=77.59719964995624\nEpoch 1:\nBatch idx 0 running\nBatch idx 40 running\nBatch idx 80 running\nBatch idx 120 running\nBatch idx 160 running\nBatch idx 200 running\nBatch idx 240 running\nvalidation: loss=0.858222978591919, accuracy=81.05\ntraining: loss=0.8646191138076043, accuracy=80.19752469058632\nEpoch 2:\nBatch idx 0 running\nBatch idx 40 running\nBatch idx 80 running\nBatch idx 120 running\nBatch idx 160 running\nBatch idx 200 running\nBatch idx 240 running\nvalidation: loss=0.7341872272491455, accuracy=82.9\ntraining: loss=0.7457505651288725, accuracy=81.11013876734592\nEpoch 3:\nBatch idx 0 running\nBatch idx 40 running\nBatch idx 80 running\nBatch idx 120 running\nBatch idx 160 running\nBatch idx 200 running\nBatch idx 240 running\nvalidation: loss=0.6694996480941773, accuracy=83.05\ntraining: loss=0.6799763692276286, accuracy=82.23527940992624\nEpoch 4:\nBatch idx 0 running\nBatch idx 40 running\nBatch idx 80 running\nBatch idx 120 running\nBatch idx 160 running\nBatch idx 200 running\nBatch idx 240 running\nvalidation: loss=0.6276935572624207, accuracy=83.5\ntraining: loss=0.6315756014234231, accuracy=82.6603325415677\nEpoch 5:\nBatch idx 0 running\nBatch idx 40 running\nBatch idx 80 running\nBatch idx 120 running\nBatch idx 160 running\nBatch idx 200 running\nBatch idx 240 running\nvalidation: loss=0.6066692910194397, accuracy=83.8\ntraining: loss=0.6112459486112667, accuracy=83.02287785973246\nEpoch 6:\nBatch idx 0 running\nBatch idx 40 running\nBatch idx 80 running\nBatch idx 120 running\nBatch idx 160 running\nBatch idx 200 running\nBatch idx 240 running\nvalidation: loss=0.571949194431305, accuracy=84.15\ntraining: loss=0.582782462308192, accuracy=83.56044505563196\nEpoch 7:\nBatch idx 0 running\nBatch idx 40 running\nBatch idx 80 running\nBatch idx 120 running\nBatch idx 160 running\nBatch idx 200 running\nBatch idx 240 running\nvalidation: loss=0.5691615138053894, accuracy=83.45\ntraining: loss=0.5649933035723312, accuracy=83.87298412301537\nEpoch 8:\nBatch idx 0 running\nBatch idx 40 running\nBatch idx 80 running\nBatch idx 120 running\nBatch idx 160 running\nBatch idx 200 running\nBatch idx 240 running\nvalidation: loss=0.5464063115119934, accuracy=85.1\ntraining: loss=0.552664025058775, accuracy=84.43555444430554\nEpoch 9:\nBatch idx 0 running\nBatch idx 40 running\nBatch idx 80 running\nBatch idx 120 running\nBatch idx 160 running\nBatch idx 200 running\nBatch idx 240 running\nvalidation: loss=0.5476217651367188, accuracy=84.75\ntraining: loss=0.5366786865237833, accuracy=84.47305913239155\ntesting: loss=0.5531444530487061, top1_accuracy=84.15, top5_accuracy = 98.4, top2_accuracy = 93.0\n",
          "output_type": "stream"
        },
        {
          "output_type": "display_data",
          "data": {
            "text/plain": "<IPython.core.display.HTML object>",
            "text/html": ""
          },
          "metadata": {}
        },
        {
          "output_type": "display_data",
          "data": {
            "text/plain": "<IPython.core.display.HTML object>",
            "text/html": "<br>    <style><br>        .wandb-row {<br>            display: flex;<br>            flex-direction: row;<br>            flex-wrap: wrap;<br>            justify-content: flex-start;<br>            width: 100%;<br>        }<br>        .wandb-col {<br>            display: flex;<br>            flex-direction: column;<br>            flex-basis: 100%;<br>            flex: 1;<br>            padding: 10px;<br>        }<br>    </style><br><div class=\"wandb-row\"><div class=\"wandb-col\"><h3>Run history:</h3><br/><table class=\"wandb\"><tr><td>best_acc_epoch</td><td>▁</td></tr><tr><td>best_val_accuracy</td><td>▁</td></tr><tr><td>epoch</td><td>▁▂▃▃▄▅▆▆▇█</td></tr><tr><td>test_loss</td><td>▁</td></tr><tr><td>test_top1_accuracy</td><td>▁</td></tr><tr><td>test_top2_accuracy</td><td>▁</td></tr><tr><td>test_top5_accuracy</td><td>▁</td></tr><tr><td>train_accuracy</td><td>▁▄▅▆▆▇▇▇██</td></tr><tr><td>train_loss</td><td>█▅▃▃▂▂▂▁▁▁</td></tr><tr><td>val_accuracy</td><td>▁▃▅▆▆▆▇▆██</td></tr><tr><td>val_loss</td><td>█▅▃▂▂▂▁▁▁▁</td></tr></table><br/></div><div class=\"wandb-col\"><h3>Run summary:</h3><br/><table class=\"wandb\"><tr><td>best_acc_epoch</td><td>8</td></tr><tr><td>best_val_accuracy</td><td>85.1</td></tr><tr><td>epoch</td><td>10</td></tr><tr><td>test_loss</td><td>0.55314</td></tr><tr><td>test_top1_accuracy</td><td>84.15</td></tr><tr><td>test_top2_accuracy</td><td>93</td></tr><tr><td>test_top5_accuracy</td><td>98.4</td></tr><tr><td>train_accuracy</td><td>84.47306</td></tr><tr><td>train_loss</td><td>0.53668</td></tr><tr><td>val_accuracy</td><td>84.75</td></tr><tr><td>val_loss</td><td>0.54762</td></tr></table><br/></div></div>"
          },
          "metadata": {}
        },
        {
          "output_type": "display_data",
          "data": {
            "text/plain": "<IPython.core.display.HTML object>",
            "text/html": " View run <strong style=\"color:#cdcd00\">sgd_32_10_0.001_DataAug-False</strong> at: <a href='https://wandb.ai/nikhithaa-iit-madras/DA6401_Assignment2/runs/1nzahybw' target=\"_blank\">https://wandb.ai/nikhithaa-iit-madras/DA6401_Assignment2/runs/1nzahybw</a><br> View project at: <a href='https://wandb.ai/nikhithaa-iit-madras/DA6401_Assignment2' target=\"_blank\">https://wandb.ai/nikhithaa-iit-madras/DA6401_Assignment2</a><br>Synced 5 W&B file(s), 0 media file(s), 0 artifact file(s) and 0 other file(s)"
          },
          "metadata": {}
        },
        {
          "output_type": "display_data",
          "data": {
            "text/plain": "<IPython.core.display.HTML object>",
            "text/html": "Find logs at: <code>./wandb/run-20250419_142341-1nzahybw/logs</code>"
          },
          "metadata": {}
        },
        {
          "name": "stderr",
          "text": "\u001b[34m\u001b[1mwandb\u001b[0m: Agent Starting Run: 43k2kgau with config:\n\u001b[34m\u001b[1mwandb\u001b[0m: \tactivation: ReLU\n\u001b[34m\u001b[1mwandb\u001b[0m: \tbase_dir: /kaggle/input/inaturalist/inaturalist_12K\n\u001b[34m\u001b[1mwandb\u001b[0m: \tbatch_size: 64\n\u001b[34m\u001b[1mwandb\u001b[0m: \tbeta: 0.9\n\u001b[34m\u001b[1mwandb\u001b[0m: \tbeta1: 0.9\n\u001b[34m\u001b[1mwandb\u001b[0m: \tbeta2: 0.999\n\u001b[34m\u001b[1mwandb\u001b[0m: \tdropout: 0\n\u001b[34m\u001b[1mwandb\u001b[0m: \tepochs: 10\n\u001b[34m\u001b[1mwandb\u001b[0m: \tepsilon: 1e-08\n\u001b[34m\u001b[1mwandb\u001b[0m: \tfilter_sizes: [3, 3, 3, 3, 3]\n\u001b[34m\u001b[1mwandb\u001b[0m: \tisBatchNormalization: False\n\u001b[34m\u001b[1mwandb\u001b[0m: \tisDataAug: False\n\u001b[34m\u001b[1mwandb\u001b[0m: \tlearning_rate: 0.0001\n\u001b[34m\u001b[1mwandb\u001b[0m: \tmomentum: 0.9\n\u001b[34m\u001b[1mwandb\u001b[0m: \tn_neurons_denseLayer: 128\n\u001b[34m\u001b[1mwandb\u001b[0m: \tnum_filters: [32, 32, 32, 32, 32]\n\u001b[34m\u001b[1mwandb\u001b[0m: \toptimizer: sgd\n\u001b[34m\u001b[1mwandb\u001b[0m: \tweight_decay: 0.0001\n",
          "output_type": "stream"
        },
        {
          "output_type": "display_data",
          "data": {
            "text/plain": "<IPython.core.display.HTML object>",
            "text/html": "Tracking run with wandb version 0.19.6"
          },
          "metadata": {}
        },
        {
          "output_type": "display_data",
          "data": {
            "text/plain": "<IPython.core.display.HTML object>",
            "text/html": "Run data is saved locally in <code>/kaggle/working/wandb/run-20250419_145132-43k2kgau</code>"
          },
          "metadata": {}
        },
        {
          "output_type": "display_data",
          "data": {
            "text/plain": "<IPython.core.display.HTML object>",
            "text/html": "Syncing run <strong><a href='https://wandb.ai/nikhithaa-iit-madras/DA6401_Assignment2/runs/43k2kgau' target=\"_blank\">youthful-sweep-8</a></strong> to <a href='https://wandb.ai/nikhithaa-iit-madras/DA6401_Assignment2' target=\"_blank\">Weights & Biases</a> (<a href='https://wandb.me/developer-guide' target=\"_blank\">docs</a>)<br>Sweep page: <a href='https://wandb.ai/nikhithaa-iit-madras/DA6401_Assignment2/sweeps/0kqsutes' target=\"_blank\">https://wandb.ai/nikhithaa-iit-madras/DA6401_Assignment2/sweeps/0kqsutes</a>"
          },
          "metadata": {}
        },
        {
          "output_type": "display_data",
          "data": {
            "text/plain": "<IPython.core.display.HTML object>",
            "text/html": " View project at <a href='https://wandb.ai/nikhithaa-iit-madras/DA6401_Assignment2' target=\"_blank\">https://wandb.ai/nikhithaa-iit-madras/DA6401_Assignment2</a>"
          },
          "metadata": {}
        },
        {
          "output_type": "display_data",
          "data": {
            "text/plain": "<IPython.core.display.HTML object>",
            "text/html": " View sweep at <a href='https://wandb.ai/nikhithaa-iit-madras/DA6401_Assignment2/sweeps/0kqsutes' target=\"_blank\">https://wandb.ai/nikhithaa-iit-madras/DA6401_Assignment2/sweeps/0kqsutes</a>"
          },
          "metadata": {}
        },
        {
          "output_type": "display_data",
          "data": {
            "text/plain": "<IPython.core.display.HTML object>",
            "text/html": " View run at <a href='https://wandb.ai/nikhithaa-iit-madras/DA6401_Assignment2/runs/43k2kgau' target=\"_blank\">https://wandb.ai/nikhithaa-iit-madras/DA6401_Assignment2/runs/43k2kgau</a>"
          },
          "metadata": {}
        },
        {
          "name": "stdout",
          "text": "Epoch 0:\nBatch idx 0 running\nBatch idx 40 running\nBatch idx 80 running\nBatch idx 120 running\nvalidation: loss=2.1867139625549314, accuracy=30.7\ntraining: loss=2.1935670194603203, accuracy=29.303662957869733\nEpoch 1:\nBatch idx 0 running\nBatch idx 40 running\nBatch idx 80 running\nBatch idx 120 running\nvalidation: loss=2.082211229324341, accuracy=47.05\ntraining: loss=2.087817752163087, accuracy=45.918239779972495\nEpoch 2:\nBatch idx 0 running\nBatch idx 40 running\nBatch idx 80 running\nBatch idx 120 running\nvalidation: loss=1.98499351978302, accuracy=58.45\ntraining: loss=1.9897647989080882, accuracy=56.669583697962246\nEpoch 3:\nBatch idx 0 running\nBatch idx 40 running\nBatch idx 80 running\nBatch idx 120 running\nvalidation: loss=1.8936956272125245, accuracy=66.85\ntraining: loss=1.8984963759316074, accuracy=64.2705338167271\nEpoch 4:\nBatch idx 0 running\nBatch idx 40 running\nBatch idx 80 running\nBatch idx 120 running\nvalidation: loss=1.8065580005645752, accuracy=71.1\ntraining: loss=1.8146193621977968, accuracy=68.19602450306289\nEpoch 5:\nBatch idx 0 running\nBatch idx 40 running\nBatch idx 80 running\nBatch idx 120 running\nvalidation: loss=1.7283595981597901, accuracy=72.7\ntraining: loss=1.7375715497523967, accuracy=71.07138392299038\nEpoch 6:\nBatch idx 0 running\nBatch idx 40 running\nBatch idx 80 running\nBatch idx 120 running\nvalidation: loss=1.65665092754364, accuracy=75.25\ntraining: loss=1.6669709301990394, accuracy=73.20915114389298\nEpoch 7:\nBatch idx 0 running\nBatch idx 40 running\nBatch idx 80 running\nBatch idx 120 running\nvalidation: loss=1.5946434707641601, accuracy=75.75\ntraining: loss=1.604390179325542, accuracy=74.37179647455932\nEpoch 8:\nBatch idx 0 running\nBatch idx 40 running\nBatch idx 80 running\nBatch idx 120 running\nvalidation: loss=1.5310163955688476, accuracy=77.1\ntraining: loss=1.5398220267649336, accuracy=76.22202775346918\nEpoch 9:\nBatch idx 0 running\nBatch idx 40 running\nBatch idx 80 running\nBatch idx 120 running\nvalidation: loss=1.4734696826934814, accuracy=77.65\ntraining: loss=1.4851478106052463, accuracy=76.29703712964121\ntesting: loss=1.4888598003387452, top1_accuracy=77.2, top5_accuracy = 97.1, top2_accuracy = 89.4\n",
          "output_type": "stream"
        },
        {
          "output_type": "display_data",
          "data": {
            "text/plain": "<IPython.core.display.HTML object>",
            "text/html": ""
          },
          "metadata": {}
        },
        {
          "output_type": "display_data",
          "data": {
            "text/plain": "<IPython.core.display.HTML object>",
            "text/html": "<br>    <style><br>        .wandb-row {<br>            display: flex;<br>            flex-direction: row;<br>            flex-wrap: wrap;<br>            justify-content: flex-start;<br>            width: 100%;<br>        }<br>        .wandb-col {<br>            display: flex;<br>            flex-direction: column;<br>            flex-basis: 100%;<br>            flex: 1;<br>            padding: 10px;<br>        }<br>    </style><br><div class=\"wandb-row\"><div class=\"wandb-col\"><h3>Run history:</h3><br/><table class=\"wandb\"><tr><td>best_acc_epoch</td><td>▁</td></tr><tr><td>best_val_accuracy</td><td>▁</td></tr><tr><td>epoch</td><td>▁▂▃▃▄▅▆▆▇█</td></tr><tr><td>test_loss</td><td>▁</td></tr><tr><td>test_top1_accuracy</td><td>▁</td></tr><tr><td>test_top2_accuracy</td><td>▁</td></tr><tr><td>test_top5_accuracy</td><td>▁</td></tr><tr><td>train_accuracy</td><td>▁▃▅▆▇▇████</td></tr><tr><td>train_loss</td><td>█▇▆▅▄▃▃▂▂▁</td></tr><tr><td>val_accuracy</td><td>▁▃▅▆▇▇████</td></tr><tr><td>val_loss</td><td>█▇▆▅▄▄▃▂▂▁</td></tr></table><br/></div><div class=\"wandb-col\"><h3>Run summary:</h3><br/><table class=\"wandb\"><tr><td>best_acc_epoch</td><td>9</td></tr><tr><td>best_val_accuracy</td><td>77.65</td></tr><tr><td>epoch</td><td>10</td></tr><tr><td>test_loss</td><td>1.48886</td></tr><tr><td>test_top1_accuracy</td><td>77.2</td></tr><tr><td>test_top2_accuracy</td><td>89.4</td></tr><tr><td>test_top5_accuracy</td><td>97.1</td></tr><tr><td>train_accuracy</td><td>76.29704</td></tr><tr><td>train_loss</td><td>1.48515</td></tr><tr><td>val_accuracy</td><td>77.65</td></tr><tr><td>val_loss</td><td>1.47347</td></tr></table><br/></div></div>"
          },
          "metadata": {}
        },
        {
          "output_type": "display_data",
          "data": {
            "text/plain": "<IPython.core.display.HTML object>",
            "text/html": " View run <strong style=\"color:#cdcd00\">sgd_64_10_0.0001_DataAug-False</strong> at: <a href='https://wandb.ai/nikhithaa-iit-madras/DA6401_Assignment2/runs/43k2kgau' target=\"_blank\">https://wandb.ai/nikhithaa-iit-madras/DA6401_Assignment2/runs/43k2kgau</a><br> View project at: <a href='https://wandb.ai/nikhithaa-iit-madras/DA6401_Assignment2' target=\"_blank\">https://wandb.ai/nikhithaa-iit-madras/DA6401_Assignment2</a><br>Synced 5 W&B file(s), 0 media file(s), 0 artifact file(s) and 0 other file(s)"
          },
          "metadata": {}
        },
        {
          "output_type": "display_data",
          "data": {
            "text/plain": "<IPython.core.display.HTML object>",
            "text/html": "Find logs at: <code>./wandb/run-20250419_145132-43k2kgau/logs</code>"
          },
          "metadata": {}
        },
        {
          "name": "stderr",
          "text": "\u001b[34m\u001b[1mwandb\u001b[0m: Agent Starting Run: w4t1eww7 with config:\n\u001b[34m\u001b[1mwandb\u001b[0m: \tactivation: ReLU\n\u001b[34m\u001b[1mwandb\u001b[0m: \tbase_dir: /kaggle/input/inaturalist/inaturalist_12K\n\u001b[34m\u001b[1mwandb\u001b[0m: \tbatch_size: 32\n\u001b[34m\u001b[1mwandb\u001b[0m: \tbeta: 0.9\n\u001b[34m\u001b[1mwandb\u001b[0m: \tbeta1: 0.9\n\u001b[34m\u001b[1mwandb\u001b[0m: \tbeta2: 0.999\n\u001b[34m\u001b[1mwandb\u001b[0m: \tdropout: 0\n\u001b[34m\u001b[1mwandb\u001b[0m: \tepochs: 10\n\u001b[34m\u001b[1mwandb\u001b[0m: \tepsilon: 1e-08\n\u001b[34m\u001b[1mwandb\u001b[0m: \tfilter_sizes: [3, 3, 3, 3, 3]\n\u001b[34m\u001b[1mwandb\u001b[0m: \tisBatchNormalization: False\n\u001b[34m\u001b[1mwandb\u001b[0m: \tisDataAug: False\n\u001b[34m\u001b[1mwandb\u001b[0m: \tlearning_rate: 0.0001\n\u001b[34m\u001b[1mwandb\u001b[0m: \tmomentum: 0.9\n\u001b[34m\u001b[1mwandb\u001b[0m: \tn_neurons_denseLayer: 128\n\u001b[34m\u001b[1mwandb\u001b[0m: \tnum_filters: [32, 32, 32, 32, 32]\n\u001b[34m\u001b[1mwandb\u001b[0m: \toptimizer: rmsprop\n\u001b[34m\u001b[1mwandb\u001b[0m: \tweight_decay: 0.0001\n",
          "output_type": "stream"
        },
        {
          "output_type": "display_data",
          "data": {
            "text/plain": "<IPython.core.display.HTML object>",
            "text/html": "Tracking run with wandb version 0.19.6"
          },
          "metadata": {}
        },
        {
          "output_type": "display_data",
          "data": {
            "text/plain": "<IPython.core.display.HTML object>",
            "text/html": "Run data is saved locally in <code>/kaggle/working/wandb/run-20250419_151933-w4t1eww7</code>"
          },
          "metadata": {}
        },
        {
          "output_type": "display_data",
          "data": {
            "text/plain": "<IPython.core.display.HTML object>",
            "text/html": "Syncing run <strong><a href='https://wandb.ai/nikhithaa-iit-madras/DA6401_Assignment2/runs/w4t1eww7' target=\"_blank\">breezy-sweep-9</a></strong> to <a href='https://wandb.ai/nikhithaa-iit-madras/DA6401_Assignment2' target=\"_blank\">Weights & Biases</a> (<a href='https://wandb.me/developer-guide' target=\"_blank\">docs</a>)<br>Sweep page: <a href='https://wandb.ai/nikhithaa-iit-madras/DA6401_Assignment2/sweeps/0kqsutes' target=\"_blank\">https://wandb.ai/nikhithaa-iit-madras/DA6401_Assignment2/sweeps/0kqsutes</a>"
          },
          "metadata": {}
        },
        {
          "output_type": "display_data",
          "data": {
            "text/plain": "<IPython.core.display.HTML object>",
            "text/html": " View project at <a href='https://wandb.ai/nikhithaa-iit-madras/DA6401_Assignment2' target=\"_blank\">https://wandb.ai/nikhithaa-iit-madras/DA6401_Assignment2</a>"
          },
          "metadata": {}
        },
        {
          "output_type": "display_data",
          "data": {
            "text/plain": "<IPython.core.display.HTML object>",
            "text/html": " View sweep at <a href='https://wandb.ai/nikhithaa-iit-madras/DA6401_Assignment2/sweeps/0kqsutes' target=\"_blank\">https://wandb.ai/nikhithaa-iit-madras/DA6401_Assignment2/sweeps/0kqsutes</a>"
          },
          "metadata": {}
        },
        {
          "output_type": "display_data",
          "data": {
            "text/plain": "<IPython.core.display.HTML object>",
            "text/html": " View run at <a href='https://wandb.ai/nikhithaa-iit-madras/DA6401_Assignment2/runs/w4t1eww7' target=\"_blank\">https://wandb.ai/nikhithaa-iit-madras/DA6401_Assignment2/runs/w4t1eww7</a>"
          },
          "metadata": {}
        },
        {
          "name": "stdout",
          "text": "Epoch 0:\nBatch idx 0 running\nBatch idx 40 running\nBatch idx 80 running\nBatch idx 120 running\nBatch idx 160 running\nBatch idx 200 running\nBatch idx 240 running\nvalidation: loss=1.5575687618255616, accuracy=76.65\ntraining: loss=1.570316854216543, accuracy=74.65933241655208\nEpoch 1:\nBatch idx 0 running\nBatch idx 40 running\nBatch idx 80 running\nBatch idx 120 running\nBatch idx 160 running\nBatch idx 200 running\nBatch idx 240 running\nvalidation: loss=1.0963958377838134, accuracy=80.4\ntraining: loss=1.1103041277839059, accuracy=78.68483560445056\nEpoch 2:\nBatch idx 0 running\nBatch idx 40 running\nBatch idx 80 running\nBatch idx 120 running\nBatch idx 160 running\nBatch idx 200 running\nBatch idx 240 running\nvalidation: loss=0.8596054072380066, accuracy=82.55\ntraining: loss=0.8796773183895716, accuracy=80.41005125640704\nEpoch 3:\nBatch idx 0 running\nBatch idx 40 running\nBatch idx 80 running\nBatch idx 120 running\nBatch idx 160 running\nBatch idx 200 running\nBatch idx 240 running\nvalidation: loss=0.7370864248275757, accuracy=81.95\ntraining: loss=0.7588354427451744, accuracy=81.49768721090136\nEpoch 4:\nBatch idx 0 running\nBatch idx 40 running\nBatch idx 80 running\nBatch idx 120 running\nBatch idx 160 running\nBatch idx 200 running\nBatch idx 240 running\nvalidation: loss=0.6838589818477631, accuracy=82.2\ntraining: loss=0.6860978209029021, accuracy=81.89773721715214\nEpoch 5:\nBatch idx 0 running\nBatch idx 40 running\nBatch idx 80 running\nBatch idx 120 running\nBatch idx 160 running\nBatch idx 200 running\nBatch idx 240 running\nvalidation: loss=0.6146068515777587, accuracy=84.0\ntraining: loss=0.6378974416119141, accuracy=82.57282160270034\nEpoch 6:\nBatch idx 0 running\nBatch idx 40 running\nBatch idx 80 running\nBatch idx 120 running\nBatch idx 160 running\nBatch idx 200 running\nBatch idx 240 running\nvalidation: loss=0.5865677001476288, accuracy=84.75\ntraining: loss=0.6015922515924937, accuracy=83.3729216152019\nEpoch 7:\nBatch idx 0 running\nBatch idx 40 running\nBatch idx 80 running\nBatch idx 120 running\nBatch idx 160 running\nBatch idx 200 running\nBatch idx 240 running\nvalidation: loss=0.5663599424362182, accuracy=83.95\ntraining: loss=0.5751415948030844, accuracy=83.91048881110139\nEpoch 8:\nBatch idx 0 running\nBatch idx 40 running\nBatch idx 80 running\nBatch idx 120 running\nBatch idx 160 running\nBatch idx 200 running\nBatch idx 240 running\nvalidation: loss=0.5508136148452759, accuracy=84.65\ntraining: loss=0.5527461528338437, accuracy=84.59807475934493\nEpoch 9:\nBatch idx 0 running\nBatch idx 40 running\nBatch idx 80 running\nBatch idx 120 running\nBatch idx 160 running\nBatch idx 200 running\nBatch idx 240 running\nvalidation: loss=0.5254209003448487, accuracy=85.3\ntraining: loss=0.538086863845896, accuracy=83.97299662457807\ntesting: loss=0.5501322722434998, top1_accuracy=84.3, top5_accuracy = 98.4, top2_accuracy = 93.0\n",
          "output_type": "stream"
        },
        {
          "output_type": "display_data",
          "data": {
            "text/plain": "<IPython.core.display.HTML object>",
            "text/html": ""
          },
          "metadata": {}
        },
        {
          "output_type": "display_data",
          "data": {
            "text/plain": "<IPython.core.display.HTML object>",
            "text/html": "<br>    <style><br>        .wandb-row {<br>            display: flex;<br>            flex-direction: row;<br>            flex-wrap: wrap;<br>            justify-content: flex-start;<br>            width: 100%;<br>        }<br>        .wandb-col {<br>            display: flex;<br>            flex-direction: column;<br>            flex-basis: 100%;<br>            flex: 1;<br>            padding: 10px;<br>        }<br>    </style><br><div class=\"wandb-row\"><div class=\"wandb-col\"><h3>Run history:</h3><br/><table class=\"wandb\"><tr><td>best_acc_epoch</td><td>▁</td></tr><tr><td>best_val_accuracy</td><td>▁</td></tr><tr><td>epoch</td><td>▁▂▃▃▄▅▆▆▇█</td></tr><tr><td>test_loss</td><td>▁</td></tr><tr><td>test_top1_accuracy</td><td>▁</td></tr><tr><td>test_top2_accuracy</td><td>▁</td></tr><tr><td>test_top5_accuracy</td><td>▁</td></tr><tr><td>train_accuracy</td><td>▁▄▅▆▆▇▇███</td></tr><tr><td>train_loss</td><td>█▅▃▂▂▂▁▁▁▁</td></tr><tr><td>val_accuracy</td><td>▁▄▆▅▅▇█▇▇█</td></tr><tr><td>val_loss</td><td>█▅▃▂▂▂▁▁▁▁</td></tr></table><br/></div><div class=\"wandb-col\"><h3>Run summary:</h3><br/><table class=\"wandb\"><tr><td>best_acc_epoch</td><td>9</td></tr><tr><td>best_val_accuracy</td><td>85.3</td></tr><tr><td>epoch</td><td>10</td></tr><tr><td>test_loss</td><td>0.55013</td></tr><tr><td>test_top1_accuracy</td><td>84.3</td></tr><tr><td>test_top2_accuracy</td><td>93</td></tr><tr><td>test_top5_accuracy</td><td>98.4</td></tr><tr><td>train_accuracy</td><td>83.973</td></tr><tr><td>train_loss</td><td>0.53809</td></tr><tr><td>val_accuracy</td><td>85.3</td></tr><tr><td>val_loss</td><td>0.52542</td></tr></table><br/></div></div>"
          },
          "metadata": {}
        },
        {
          "output_type": "display_data",
          "data": {
            "text/plain": "<IPython.core.display.HTML object>",
            "text/html": " View run <strong style=\"color:#cdcd00\">rmsprop_32_10_0.0001_DataAug-False</strong> at: <a href='https://wandb.ai/nikhithaa-iit-madras/DA6401_Assignment2/runs/w4t1eww7' target=\"_blank\">https://wandb.ai/nikhithaa-iit-madras/DA6401_Assignment2/runs/w4t1eww7</a><br> View project at: <a href='https://wandb.ai/nikhithaa-iit-madras/DA6401_Assignment2' target=\"_blank\">https://wandb.ai/nikhithaa-iit-madras/DA6401_Assignment2</a><br>Synced 5 W&B file(s), 0 media file(s), 0 artifact file(s) and 0 other file(s)"
          },
          "metadata": {}
        },
        {
          "output_type": "display_data",
          "data": {
            "text/plain": "<IPython.core.display.HTML object>",
            "text/html": "Find logs at: <code>./wandb/run-20250419_151933-w4t1eww7/logs</code>"
          },
          "metadata": {}
        },
        {
          "name": "stderr",
          "text": "\u001b[34m\u001b[1mwandb\u001b[0m: Agent Starting Run: olzzviw9 with config:\n\u001b[34m\u001b[1mwandb\u001b[0m: \tactivation: ReLU\n\u001b[34m\u001b[1mwandb\u001b[0m: \tbase_dir: /kaggle/input/inaturalist/inaturalist_12K\n\u001b[34m\u001b[1mwandb\u001b[0m: \tbatch_size: 32\n\u001b[34m\u001b[1mwandb\u001b[0m: \tbeta: 0.9\n\u001b[34m\u001b[1mwandb\u001b[0m: \tbeta1: 0.9\n\u001b[34m\u001b[1mwandb\u001b[0m: \tbeta2: 0.999\n\u001b[34m\u001b[1mwandb\u001b[0m: \tdropout: 0\n\u001b[34m\u001b[1mwandb\u001b[0m: \tepochs: 10\n\u001b[34m\u001b[1mwandb\u001b[0m: \tepsilon: 1e-08\n\u001b[34m\u001b[1mwandb\u001b[0m: \tfilter_sizes: [3, 3, 3, 3, 3]\n\u001b[34m\u001b[1mwandb\u001b[0m: \tisBatchNormalization: False\n\u001b[34m\u001b[1mwandb\u001b[0m: \tisDataAug: False\n\u001b[34m\u001b[1mwandb\u001b[0m: \tlearning_rate: 0.001\n\u001b[34m\u001b[1mwandb\u001b[0m: \tmomentum: 0.9\n\u001b[34m\u001b[1mwandb\u001b[0m: \tn_neurons_denseLayer: 128\n\u001b[34m\u001b[1mwandb\u001b[0m: \tnum_filters: [32, 32, 32, 32, 32]\n\u001b[34m\u001b[1mwandb\u001b[0m: \toptimizer: rmsprop\n\u001b[34m\u001b[1mwandb\u001b[0m: \tweight_decay: 0.0001\n",
          "output_type": "stream"
        },
        {
          "output_type": "display_data",
          "data": {
            "text/plain": "<IPython.core.display.HTML object>",
            "text/html": "Tracking run with wandb version 0.19.6"
          },
          "metadata": {}
        },
        {
          "output_type": "display_data",
          "data": {
            "text/plain": "<IPython.core.display.HTML object>",
            "text/html": "Run data is saved locally in <code>/kaggle/working/wandb/run-20250419_154728-olzzviw9</code>"
          },
          "metadata": {}
        },
        {
          "output_type": "display_data",
          "data": {
            "text/plain": "<IPython.core.display.HTML object>",
            "text/html": "Syncing run <strong><a href='https://wandb.ai/nikhithaa-iit-madras/DA6401_Assignment2/runs/olzzviw9' target=\"_blank\">dark-sweep-10</a></strong> to <a href='https://wandb.ai/nikhithaa-iit-madras/DA6401_Assignment2' target=\"_blank\">Weights & Biases</a> (<a href='https://wandb.me/developer-guide' target=\"_blank\">docs</a>)<br>Sweep page: <a href='https://wandb.ai/nikhithaa-iit-madras/DA6401_Assignment2/sweeps/0kqsutes' target=\"_blank\">https://wandb.ai/nikhithaa-iit-madras/DA6401_Assignment2/sweeps/0kqsutes</a>"
          },
          "metadata": {}
        },
        {
          "output_type": "display_data",
          "data": {
            "text/plain": "<IPython.core.display.HTML object>",
            "text/html": " View project at <a href='https://wandb.ai/nikhithaa-iit-madras/DA6401_Assignment2' target=\"_blank\">https://wandb.ai/nikhithaa-iit-madras/DA6401_Assignment2</a>"
          },
          "metadata": {}
        },
        {
          "output_type": "display_data",
          "data": {
            "text/plain": "<IPython.core.display.HTML object>",
            "text/html": " View sweep at <a href='https://wandb.ai/nikhithaa-iit-madras/DA6401_Assignment2/sweeps/0kqsutes' target=\"_blank\">https://wandb.ai/nikhithaa-iit-madras/DA6401_Assignment2/sweeps/0kqsutes</a>"
          },
          "metadata": {}
        },
        {
          "output_type": "display_data",
          "data": {
            "text/plain": "<IPython.core.display.HTML object>",
            "text/html": " View run at <a href='https://wandb.ai/nikhithaa-iit-madras/DA6401_Assignment2/runs/olzzviw9' target=\"_blank\">https://wandb.ai/nikhithaa-iit-madras/DA6401_Assignment2/runs/olzzviw9</a>"
          },
          "metadata": {}
        },
        {
          "name": "stdout",
          "text": "Epoch 0:\nBatch idx 0 running\nBatch idx 40 running\nBatch idx 80 running\nBatch idx 120 running\nBatch idx 160 running\nBatch idx 200 running\nBatch idx 240 running\nvalidation: loss=0.6063073015213013, accuracy=83.9\ntraining: loss=0.5972729188931825, accuracy=82.96037004625578\nEpoch 1:\nBatch idx 0 running\nBatch idx 40 running\nBatch idx 80 running\nBatch idx 120 running\nBatch idx 160 running\nBatch idx 200 running\nBatch idx 240 running\nvalidation: loss=0.5047566039562226, accuracy=85.0\ntraining: loss=0.4794433739039582, accuracy=85.41067633454182\nEpoch 2:\nBatch idx 0 running\nBatch idx 40 running\nBatch idx 80 running\nBatch idx 120 running\nBatch idx 160 running\nBatch idx 200 running\nBatch idx 240 running\nvalidation: loss=0.4626409571170807, accuracy=86.2\ntraining: loss=0.435751321353321, accuracy=86.4233029128641\nEpoch 3:\nBatch idx 0 running\nBatch idx 40 running\nBatch idx 80 running\nBatch idx 120 running\nBatch idx 160 running\nBatch idx 200 running\nBatch idx 240 running\nvalidation: loss=0.4723674383163452, accuracy=85.35\ntraining: loss=0.41970923877176697, accuracy=86.12326540817602\nEpoch 4:\nBatch idx 0 running\nBatch idx 40 running\nBatch idx 80 running\nBatch idx 120 running\nBatch idx 160 running\nBatch idx 200 running\nBatch idx 240 running\nvalidation: loss=0.4604449005126953, accuracy=85.9\ntraining: loss=0.38460730075843635, accuracy=87.74846855856983\nEpoch 5:\nBatch idx 0 running\nBatch idx 40 running\nBatch idx 80 running\nBatch idx 120 running\nBatch idx 160 running\nBatch idx 200 running\nBatch idx 240 running\nvalidation: loss=0.4576480588912964, accuracy=86.3\ntraining: loss=0.3760313909006709, accuracy=88.32354044255531\nEpoch 6:\nBatch idx 0 running\nBatch idx 40 running\nBatch idx 80 running\nBatch idx 120 running\nBatch idx 160 running\nBatch idx 200 running\nBatch idx 240 running\nvalidation: loss=0.445466649889946, accuracy=86.8\ntraining: loss=0.36078137936167665, accuracy=88.8236029503688\nEpoch 7:\nBatch idx 0 running\nBatch idx 40 running\nBatch idx 80 running\nBatch idx 120 running\nBatch idx 160 running\nBatch idx 200 running\nBatch idx 240 running\nvalidation: loss=0.4438341794013977, accuracy=86.3\ntraining: loss=0.3489061410553173, accuracy=89.21115139392424\nEpoch 8:\nBatch idx 0 running\nBatch idx 40 running\nBatch idx 80 running\nBatch idx 120 running\nBatch idx 160 running\nBatch idx 200 running\nBatch idx 240 running\nvalidation: loss=0.45055098009109495, accuracy=86.35\ntraining: loss=0.3372224807247458, accuracy=89.37367170896363\nEpoch 9:\nBatch idx 0 running\nBatch idx 40 running\nBatch idx 80 running\nBatch idx 120 running\nBatch idx 160 running\nBatch idx 200 running\nBatch idx 240 running\nvalidation: loss=0.4477859971523285, accuracy=86.4\ntraining: loss=0.324109429246948, accuracy=89.79872484060508\ntesting: loss=0.4696426908969879, top1_accuracy=85.35, top5_accuracy = 98.5, top2_accuracy = 93.05\n",
          "output_type": "stream"
        },
        {
          "output_type": "display_data",
          "data": {
            "text/plain": "<IPython.core.display.HTML object>",
            "text/html": ""
          },
          "metadata": {}
        },
        {
          "output_type": "display_data",
          "data": {
            "text/plain": "<IPython.core.display.HTML object>",
            "text/html": "<br>    <style><br>        .wandb-row {<br>            display: flex;<br>            flex-direction: row;<br>            flex-wrap: wrap;<br>            justify-content: flex-start;<br>            width: 100%;<br>        }<br>        .wandb-col {<br>            display: flex;<br>            flex-direction: column;<br>            flex-basis: 100%;<br>            flex: 1;<br>            padding: 10px;<br>        }<br>    </style><br><div class=\"wandb-row\"><div class=\"wandb-col\"><h3>Run history:</h3><br/><table class=\"wandb\"><tr><td>best_acc_epoch</td><td>▁</td></tr><tr><td>best_val_accuracy</td><td>▁</td></tr><tr><td>epoch</td><td>▁▂▃▃▄▅▆▆▇█</td></tr><tr><td>test_loss</td><td>▁</td></tr><tr><td>test_top1_accuracy</td><td>▁</td></tr><tr><td>test_top2_accuracy</td><td>▁</td></tr><tr><td>test_top5_accuracy</td><td>▁</td></tr><tr><td>train_accuracy</td><td>▁▄▅▄▆▆▇▇██</td></tr><tr><td>train_loss</td><td>█▅▄▃▃▂▂▂▁▁</td></tr><tr><td>val_accuracy</td><td>▁▄▇▄▆▇█▇▇▇</td></tr><tr><td>val_loss</td><td>█▄▂▂▂▂▁▁▁▁</td></tr></table><br/></div><div class=\"wandb-col\"><h3>Run summary:</h3><br/><table class=\"wandb\"><tr><td>best_acc_epoch</td><td>6</td></tr><tr><td>best_val_accuracy</td><td>86.8</td></tr><tr><td>epoch</td><td>10</td></tr><tr><td>test_loss</td><td>0.46964</td></tr><tr><td>test_top1_accuracy</td><td>85.35</td></tr><tr><td>test_top2_accuracy</td><td>93.05</td></tr><tr><td>test_top5_accuracy</td><td>98.5</td></tr><tr><td>train_accuracy</td><td>89.79872</td></tr><tr><td>train_loss</td><td>0.32411</td></tr><tr><td>val_accuracy</td><td>86.4</td></tr><tr><td>val_loss</td><td>0.44779</td></tr></table><br/></div></div>"
          },
          "metadata": {}
        },
        {
          "output_type": "display_data",
          "data": {
            "text/plain": "<IPython.core.display.HTML object>",
            "text/html": " View run <strong style=\"color:#cdcd00\">rmsprop_32_10_0.001_DataAug-False</strong> at: <a href='https://wandb.ai/nikhithaa-iit-madras/DA6401_Assignment2/runs/olzzviw9' target=\"_blank\">https://wandb.ai/nikhithaa-iit-madras/DA6401_Assignment2/runs/olzzviw9</a><br> View project at: <a href='https://wandb.ai/nikhithaa-iit-madras/DA6401_Assignment2' target=\"_blank\">https://wandb.ai/nikhithaa-iit-madras/DA6401_Assignment2</a><br>Synced 5 W&B file(s), 0 media file(s), 0 artifact file(s) and 0 other file(s)"
          },
          "metadata": {}
        },
        {
          "output_type": "display_data",
          "data": {
            "text/plain": "<IPython.core.display.HTML object>",
            "text/html": "Find logs at: <code>./wandb/run-20250419_154728-olzzviw9/logs</code>"
          },
          "metadata": {}
        },
        {
          "name": "stderr",
          "text": "\u001b[34m\u001b[1mwandb\u001b[0m: Agent Starting Run: 9sjpntza with config:\n\u001b[34m\u001b[1mwandb\u001b[0m: \tactivation: ReLU\n\u001b[34m\u001b[1mwandb\u001b[0m: \tbase_dir: /kaggle/input/inaturalist/inaturalist_12K\n\u001b[34m\u001b[1mwandb\u001b[0m: \tbatch_size: 64\n\u001b[34m\u001b[1mwandb\u001b[0m: \tbeta: 0.9\n\u001b[34m\u001b[1mwandb\u001b[0m: \tbeta1: 0.9\n\u001b[34m\u001b[1mwandb\u001b[0m: \tbeta2: 0.999\n\u001b[34m\u001b[1mwandb\u001b[0m: \tdropout: 0\n\u001b[34m\u001b[1mwandb\u001b[0m: \tepochs: 10\n\u001b[34m\u001b[1mwandb\u001b[0m: \tepsilon: 1e-08\n\u001b[34m\u001b[1mwandb\u001b[0m: \tfilter_sizes: [3, 3, 3, 3, 3]\n\u001b[34m\u001b[1mwandb\u001b[0m: \tisBatchNormalization: False\n\u001b[34m\u001b[1mwandb\u001b[0m: \tisDataAug: True\n\u001b[34m\u001b[1mwandb\u001b[0m: \tlearning_rate: 0.0001\n\u001b[34m\u001b[1mwandb\u001b[0m: \tmomentum: 0.9\n\u001b[34m\u001b[1mwandb\u001b[0m: \tn_neurons_denseLayer: 128\n\u001b[34m\u001b[1mwandb\u001b[0m: \tnum_filters: [32, 32, 32, 32, 32]\n\u001b[34m\u001b[1mwandb\u001b[0m: \toptimizer: adam\n\u001b[34m\u001b[1mwandb\u001b[0m: \tweight_decay: 0.0001\n",
          "output_type": "stream"
        },
        {
          "output_type": "display_data",
          "data": {
            "text/plain": "<IPython.core.display.HTML object>",
            "text/html": "Tracking run with wandb version 0.19.6"
          },
          "metadata": {}
        },
        {
          "output_type": "display_data",
          "data": {
            "text/plain": "<IPython.core.display.HTML object>",
            "text/html": "Run data is saved locally in <code>/kaggle/working/wandb/run-20250419_161502-9sjpntza</code>"
          },
          "metadata": {}
        },
        {
          "output_type": "display_data",
          "data": {
            "text/plain": "<IPython.core.display.HTML object>",
            "text/html": "Syncing run <strong><a href='https://wandb.ai/nikhithaa-iit-madras/DA6401_Assignment2/runs/9sjpntza' target=\"_blank\">visionary-sweep-11</a></strong> to <a href='https://wandb.ai/nikhithaa-iit-madras/DA6401_Assignment2' target=\"_blank\">Weights & Biases</a> (<a href='https://wandb.me/developer-guide' target=\"_blank\">docs</a>)<br>Sweep page: <a href='https://wandb.ai/nikhithaa-iit-madras/DA6401_Assignment2/sweeps/0kqsutes' target=\"_blank\">https://wandb.ai/nikhithaa-iit-madras/DA6401_Assignment2/sweeps/0kqsutes</a>"
          },
          "metadata": {}
        },
        {
          "output_type": "display_data",
          "data": {
            "text/plain": "<IPython.core.display.HTML object>",
            "text/html": " View project at <a href='https://wandb.ai/nikhithaa-iit-madras/DA6401_Assignment2' target=\"_blank\">https://wandb.ai/nikhithaa-iit-madras/DA6401_Assignment2</a>"
          },
          "metadata": {}
        },
        {
          "output_type": "display_data",
          "data": {
            "text/plain": "<IPython.core.display.HTML object>",
            "text/html": " View sweep at <a href='https://wandb.ai/nikhithaa-iit-madras/DA6401_Assignment2/sweeps/0kqsutes' target=\"_blank\">https://wandb.ai/nikhithaa-iit-madras/DA6401_Assignment2/sweeps/0kqsutes</a>"
          },
          "metadata": {}
        },
        {
          "output_type": "display_data",
          "data": {
            "text/plain": "<IPython.core.display.HTML object>",
            "text/html": " View run at <a href='https://wandb.ai/nikhithaa-iit-madras/DA6401_Assignment2/runs/9sjpntza' target=\"_blank\">https://wandb.ai/nikhithaa-iit-madras/DA6401_Assignment2/runs/9sjpntza</a>"
          },
          "metadata": {}
        },
        {
          "name": "stdout",
          "text": "Epoch 0:\nBatch idx 0 running\nBatch idx 40 running\nBatch idx 80 running\nBatch idx 120 running\nvalidation: loss=1.7805431356430055, accuracy=72.05\ntraining: loss=1.786133164107047, accuracy=70.45880735091886\nEpoch 1:\nBatch idx 0 running\nBatch idx 40 running\nBatch idx 80 running\nBatch idx 120 running\nvalidation: loss=1.418567190170288, accuracy=78.5\ntraining: loss=1.4326292221241257, accuracy=76.17202150268784\nEpoch 2:\nBatch idx 0 running\nBatch idx 40 running\nBatch idx 80 running\nBatch idx 120 running\nvalidation: loss=1.1863887128829955, accuracy=78.75\ntraining: loss=1.1930637884056559, accuracy=78.23477934741842\nEpoch 3:\nBatch idx 0 running\nBatch idx 40 running\nBatch idx 80 running\nBatch idx 120 running\nvalidation: loss=1.0271607236862184, accuracy=80.15\ntraining: loss=1.0278674842626068, accuracy=79.34741842730341\nEpoch 4:\nBatch idx 0 running\nBatch idx 40 running\nBatch idx 80 running\nBatch idx 120 running\nvalidation: loss=0.903118100643158, accuracy=81.9\ntraining: loss=0.9201235058516588, accuracy=80.18502312789099\nEpoch 5:\nBatch idx 0 running\nBatch idx 40 running\nBatch idx 80 running\nBatch idx 120 running\nvalidation: loss=0.8280574288368225, accuracy=81.35\ntraining: loss=0.8416335189814924, accuracy=80.81010126265784\nEpoch 6:\nBatch idx 0 running\nBatch idx 40 running\nBatch idx 80 running\nBatch idx 120 running\nvalidation: loss=0.7714751000404358, accuracy=82.3\ntraining: loss=0.7824639235754165, accuracy=81.38517314664333\nEpoch 7:\nBatch idx 0 running\nBatch idx 40 running\nBatch idx 80 running\nBatch idx 120 running\nvalidation: loss=0.7316665391921997, accuracy=83.45\ntraining: loss=0.7326023542503965, accuracy=82.02275284410551\nEpoch 8:\nBatch idx 0 running\nBatch idx 40 running\nBatch idx 80 running\nBatch idx 120 running\nvalidation: loss=0.6970135688781738, accuracy=83.35\ntraining: loss=0.7020311495902792, accuracy=82.09776222027753\nEpoch 9:\nBatch idx 0 running\nBatch idx 40 running\nBatch idx 80 running\nBatch idx 120 running\nvalidation: loss=0.6661699733734131, accuracy=82.75\ntraining: loss=0.6708321222395789, accuracy=82.78534816852107\ntesting: loss=0.6685880393981933, top1_accuracy=83.05, top5_accuracy = 98.35, top2_accuracy = 92.75\n",
          "output_type": "stream"
        },
        {
          "output_type": "display_data",
          "data": {
            "text/plain": "<IPython.core.display.HTML object>",
            "text/html": ""
          },
          "metadata": {}
        },
        {
          "output_type": "display_data",
          "data": {
            "text/plain": "<IPython.core.display.HTML object>",
            "text/html": "<br>    <style><br>        .wandb-row {<br>            display: flex;<br>            flex-direction: row;<br>            flex-wrap: wrap;<br>            justify-content: flex-start;<br>            width: 100%;<br>        }<br>        .wandb-col {<br>            display: flex;<br>            flex-direction: column;<br>            flex-basis: 100%;<br>            flex: 1;<br>            padding: 10px;<br>        }<br>    </style><br><div class=\"wandb-row\"><div class=\"wandb-col\"><h3>Run history:</h3><br/><table class=\"wandb\"><tr><td>best_acc_epoch</td><td>▁</td></tr><tr><td>best_val_accuracy</td><td>▁</td></tr><tr><td>epoch</td><td>▁▂▃▃▄▅▆▆▇█</td></tr><tr><td>test_loss</td><td>▁</td></tr><tr><td>test_top1_accuracy</td><td>▁</td></tr><tr><td>test_top2_accuracy</td><td>▁</td></tr><tr><td>test_top5_accuracy</td><td>▁</td></tr><tr><td>train_accuracy</td><td>▁▄▅▆▇▇▇███</td></tr><tr><td>train_loss</td><td>█▆▄▃▃▂▂▁▁▁</td></tr><tr><td>val_accuracy</td><td>▁▅▅▆▇▇▇███</td></tr><tr><td>val_loss</td><td>█▆▄▃▂▂▂▁▁▁</td></tr></table><br/></div><div class=\"wandb-col\"><h3>Run summary:</h3><br/><table class=\"wandb\"><tr><td>best_acc_epoch</td><td>7</td></tr><tr><td>best_val_accuracy</td><td>83.45</td></tr><tr><td>epoch</td><td>10</td></tr><tr><td>test_loss</td><td>0.66859</td></tr><tr><td>test_top1_accuracy</td><td>83.05</td></tr><tr><td>test_top2_accuracy</td><td>92.75</td></tr><tr><td>test_top5_accuracy</td><td>98.35</td></tr><tr><td>train_accuracy</td><td>82.78535</td></tr><tr><td>train_loss</td><td>0.67083</td></tr><tr><td>val_accuracy</td><td>82.75</td></tr><tr><td>val_loss</td><td>0.66617</td></tr></table><br/></div></div>"
          },
          "metadata": {}
        },
        {
          "output_type": "display_data",
          "data": {
            "text/plain": "<IPython.core.display.HTML object>",
            "text/html": " View run <strong style=\"color:#cdcd00\">adam_64_10_0.0001_DataAug-True</strong> at: <a href='https://wandb.ai/nikhithaa-iit-madras/DA6401_Assignment2/runs/9sjpntza' target=\"_blank\">https://wandb.ai/nikhithaa-iit-madras/DA6401_Assignment2/runs/9sjpntza</a><br> View project at: <a href='https://wandb.ai/nikhithaa-iit-madras/DA6401_Assignment2' target=\"_blank\">https://wandb.ai/nikhithaa-iit-madras/DA6401_Assignment2</a><br>Synced 5 W&B file(s), 0 media file(s), 0 artifact file(s) and 0 other file(s)"
          },
          "metadata": {}
        },
        {
          "output_type": "display_data",
          "data": {
            "text/plain": "<IPython.core.display.HTML object>",
            "text/html": "Find logs at: <code>./wandb/run-20250419_161502-9sjpntza/logs</code>"
          },
          "metadata": {}
        },
        {
          "name": "stderr",
          "text": "\u001b[34m\u001b[1mwandb\u001b[0m: Agent Starting Run: maxlhjkb with config:\n\u001b[34m\u001b[1mwandb\u001b[0m: \tactivation: ReLU\n\u001b[34m\u001b[1mwandb\u001b[0m: \tbase_dir: /kaggle/input/inaturalist/inaturalist_12K\n\u001b[34m\u001b[1mwandb\u001b[0m: \tbatch_size: 64\n\u001b[34m\u001b[1mwandb\u001b[0m: \tbeta: 0.9\n\u001b[34m\u001b[1mwandb\u001b[0m: \tbeta1: 0.9\n\u001b[34m\u001b[1mwandb\u001b[0m: \tbeta2: 0.999\n\u001b[34m\u001b[1mwandb\u001b[0m: \tdropout: 0\n\u001b[34m\u001b[1mwandb\u001b[0m: \tepochs: 10\n\u001b[34m\u001b[1mwandb\u001b[0m: \tepsilon: 1e-08\n\u001b[34m\u001b[1mwandb\u001b[0m: \tfilter_sizes: [3, 3, 3, 3, 3]\n\u001b[34m\u001b[1mwandb\u001b[0m: \tisBatchNormalization: False\n\u001b[34m\u001b[1mwandb\u001b[0m: \tisDataAug: True\n\u001b[34m\u001b[1mwandb\u001b[0m: \tlearning_rate: 0.0001\n\u001b[34m\u001b[1mwandb\u001b[0m: \tmomentum: 0.9\n\u001b[34m\u001b[1mwandb\u001b[0m: \tn_neurons_denseLayer: 128\n\u001b[34m\u001b[1mwandb\u001b[0m: \tnum_filters: [32, 32, 32, 32, 32]\n\u001b[34m\u001b[1mwandb\u001b[0m: \toptimizer: sgd\n\u001b[34m\u001b[1mwandb\u001b[0m: \tweight_decay: 0.0001\n",
          "output_type": "stream"
        },
        {
          "output_type": "display_data",
          "data": {
            "text/plain": "<IPython.core.display.HTML object>",
            "text/html": "Tracking run with wandb version 0.19.6"
          },
          "metadata": {}
        },
        {
          "output_type": "display_data",
          "data": {
            "text/plain": "<IPython.core.display.HTML object>",
            "text/html": "Run data is saved locally in <code>/kaggle/working/wandb/run-20250419_164242-maxlhjkb</code>"
          },
          "metadata": {}
        },
        {
          "output_type": "display_data",
          "data": {
            "text/plain": "<IPython.core.display.HTML object>",
            "text/html": "Syncing run <strong><a href='https://wandb.ai/nikhithaa-iit-madras/DA6401_Assignment2/runs/maxlhjkb' target=\"_blank\">valiant-sweep-12</a></strong> to <a href='https://wandb.ai/nikhithaa-iit-madras/DA6401_Assignment2' target=\"_blank\">Weights & Biases</a> (<a href='https://wandb.me/developer-guide' target=\"_blank\">docs</a>)<br>Sweep page: <a href='https://wandb.ai/nikhithaa-iit-madras/DA6401_Assignment2/sweeps/0kqsutes' target=\"_blank\">https://wandb.ai/nikhithaa-iit-madras/DA6401_Assignment2/sweeps/0kqsutes</a>"
          },
          "metadata": {}
        },
        {
          "output_type": "display_data",
          "data": {
            "text/plain": "<IPython.core.display.HTML object>",
            "text/html": " View project at <a href='https://wandb.ai/nikhithaa-iit-madras/DA6401_Assignment2' target=\"_blank\">https://wandb.ai/nikhithaa-iit-madras/DA6401_Assignment2</a>"
          },
          "metadata": {}
        },
        {
          "output_type": "display_data",
          "data": {
            "text/plain": "<IPython.core.display.HTML object>",
            "text/html": " View sweep at <a href='https://wandb.ai/nikhithaa-iit-madras/DA6401_Assignment2/sweeps/0kqsutes' target=\"_blank\">https://wandb.ai/nikhithaa-iit-madras/DA6401_Assignment2/sweeps/0kqsutes</a>"
          },
          "metadata": {}
        },
        {
          "output_type": "display_data",
          "data": {
            "text/plain": "<IPython.core.display.HTML object>",
            "text/html": " View run at <a href='https://wandb.ai/nikhithaa-iit-madras/DA6401_Assignment2/runs/maxlhjkb' target=\"_blank\">https://wandb.ai/nikhithaa-iit-madras/DA6401_Assignment2/runs/maxlhjkb</a>"
          },
          "metadata": {}
        },
        {
          "name": "stdout",
          "text": "Epoch 0:\nBatch idx 0 running\nBatch idx 40 running\nBatch idx 80 running\nBatch idx 120 running\nvalidation: loss=2.23658447265625, accuracy=22.8\ntraining: loss=2.237559325159423, accuracy=22.17777222152769\nEpoch 1:\nBatch idx 0 running\nBatch idx 40 running\nBatch idx 80 running\nBatch idx 120 running\nvalidation: loss=2.126359230041504, accuracy=43.15\ntraining: loss=2.13009736260439, accuracy=41.20515064383048\nEpoch 2:\nBatch idx 0 running\nBatch idx 40 running\nBatch idx 80 running\nBatch idx 120 running\nvalidation: loss=2.027772048950195, accuracy=54.7\ntraining: loss=2.030857823076569, accuracy=53.844230528816105\nEpoch 3:\nBatch idx 0 running\nBatch idx 40 running\nBatch idx 80 running\nBatch idx 120 running\nvalidation: loss=1.934976143836975, accuracy=63.15\ntraining: loss=1.938133339506937, accuracy=62.17027128391049\nEpoch 4:\nBatch idx 0 running\nBatch idx 40 running\nBatch idx 80 running\nBatch idx 120 running\nvalidation: loss=1.8507474308013916, accuracy=67.8\ntraining: loss=1.8515397835439527, accuracy=66.7458432304038\nEpoch 5:\nBatch idx 0 running\nBatch idx 40 running\nBatch idx 80 running\nBatch idx 120 running\nvalidation: loss=1.7681083993911744, accuracy=70.75\ntraining: loss=1.7728019815964287, accuracy=70.34629328666084\nEpoch 6:\nBatch idx 0 running\nBatch idx 40 running\nBatch idx 80 running\nBatch idx 120 running\nvalidation: loss=1.6939234075546266, accuracy=73.5\ntraining: loss=1.6992341970142566, accuracy=72.07150893861733\nEpoch 7:\nBatch idx 0 running\nBatch idx 40 running\nBatch idx 80 running\nBatch idx 120 running\nvalidation: loss=1.6285424213409423, accuracy=75.35\ntraining: loss=1.6336604634856176, accuracy=73.54669333666709\nEpoch 8:\nBatch idx 0 running\nBatch idx 40 running\nBatch idx 80 running\nBatch idx 120 running\nvalidation: loss=1.5622719764709472, accuracy=75.95\ntraining: loss=1.5701832167579763, accuracy=74.8718589823728\nEpoch 9:\nBatch idx 0 running\nBatch idx 40 running\nBatch idx 80 running\nBatch idx 120 running\nvalidation: loss=1.507441764831543, accuracy=76.2\ntraining: loss=1.511488398621568, accuracy=75.9594949368671\ntesting: loss=1.5157415504455567, top1_accuracy=76.65, top5_accuracy = 97.15, top2_accuracy = 88.9\n",
          "output_type": "stream"
        },
        {
          "output_type": "display_data",
          "data": {
            "text/plain": "<IPython.core.display.HTML object>",
            "text/html": ""
          },
          "metadata": {}
        },
        {
          "output_type": "display_data",
          "data": {
            "text/plain": "<IPython.core.display.HTML object>",
            "text/html": "<br>    <style><br>        .wandb-row {<br>            display: flex;<br>            flex-direction: row;<br>            flex-wrap: wrap;<br>            justify-content: flex-start;<br>            width: 100%;<br>        }<br>        .wandb-col {<br>            display: flex;<br>            flex-direction: column;<br>            flex-basis: 100%;<br>            flex: 1;<br>            padding: 10px;<br>        }<br>    </style><br><div class=\"wandb-row\"><div class=\"wandb-col\"><h3>Run history:</h3><br/><table class=\"wandb\"><tr><td>best_acc_epoch</td><td>▁</td></tr><tr><td>best_val_accuracy</td><td>▁</td></tr><tr><td>epoch</td><td>▁▂▃▃▄▅▆▆▇█</td></tr><tr><td>test_loss</td><td>▁</td></tr><tr><td>test_top1_accuracy</td><td>▁</td></tr><tr><td>test_top2_accuracy</td><td>▁</td></tr><tr><td>test_top5_accuracy</td><td>▁</td></tr><tr><td>train_accuracy</td><td>▁▃▅▆▇▇▇███</td></tr><tr><td>train_loss</td><td>█▇▆▅▄▄▃▂▂▁</td></tr><tr><td>val_accuracy</td><td>▁▄▅▆▇▇████</td></tr><tr><td>val_loss</td><td>█▇▆▅▄▄▃▂▂▁</td></tr></table><br/></div><div class=\"wandb-col\"><h3>Run summary:</h3><br/><table class=\"wandb\"><tr><td>best_acc_epoch</td><td>9</td></tr><tr><td>best_val_accuracy</td><td>76.2</td></tr><tr><td>epoch</td><td>10</td></tr><tr><td>test_loss</td><td>1.51574</td></tr><tr><td>test_top1_accuracy</td><td>76.65</td></tr><tr><td>test_top2_accuracy</td><td>88.9</td></tr><tr><td>test_top5_accuracy</td><td>97.15</td></tr><tr><td>train_accuracy</td><td>75.95949</td></tr><tr><td>train_loss</td><td>1.51149</td></tr><tr><td>val_accuracy</td><td>76.2</td></tr><tr><td>val_loss</td><td>1.50744</td></tr></table><br/></div></div>"
          },
          "metadata": {}
        },
        {
          "output_type": "display_data",
          "data": {
            "text/plain": "<IPython.core.display.HTML object>",
            "text/html": " View run <strong style=\"color:#cdcd00\">sgd_64_10_0.0001_DataAug-True</strong> at: <a href='https://wandb.ai/nikhithaa-iit-madras/DA6401_Assignment2/runs/maxlhjkb' target=\"_blank\">https://wandb.ai/nikhithaa-iit-madras/DA6401_Assignment2/runs/maxlhjkb</a><br> View project at: <a href='https://wandb.ai/nikhithaa-iit-madras/DA6401_Assignment2' target=\"_blank\">https://wandb.ai/nikhithaa-iit-madras/DA6401_Assignment2</a><br>Synced 5 W&B file(s), 0 media file(s), 0 artifact file(s) and 0 other file(s)"
          },
          "metadata": {}
        },
        {
          "output_type": "display_data",
          "data": {
            "text/plain": "<IPython.core.display.HTML object>",
            "text/html": "Find logs at: <code>./wandb/run-20250419_164242-maxlhjkb/logs</code>"
          },
          "metadata": {}
        },
        {
          "name": "stderr",
          "text": "\u001b[34m\u001b[1mwandb\u001b[0m: Sweep Agent: Waiting for job.\n\u001b[34m\u001b[1mwandb\u001b[0m: Job received.\n\u001b[34m\u001b[1mwandb\u001b[0m: Agent Starting Run: w2nyr42k with config:\n\u001b[34m\u001b[1mwandb\u001b[0m: \tactivation: ReLU\n\u001b[34m\u001b[1mwandb\u001b[0m: \tbase_dir: /kaggle/input/inaturalist/inaturalist_12K\n\u001b[34m\u001b[1mwandb\u001b[0m: \tbatch_size: 64\n\u001b[34m\u001b[1mwandb\u001b[0m: \tbeta: 0.9\n\u001b[34m\u001b[1mwandb\u001b[0m: \tbeta1: 0.9\n\u001b[34m\u001b[1mwandb\u001b[0m: \tbeta2: 0.999\n\u001b[34m\u001b[1mwandb\u001b[0m: \tdropout: 0\n\u001b[34m\u001b[1mwandb\u001b[0m: \tepochs: 10\n\u001b[34m\u001b[1mwandb\u001b[0m: \tepsilon: 1e-08\n\u001b[34m\u001b[1mwandb\u001b[0m: \tfilter_sizes: [3, 3, 3, 3, 3]\n\u001b[34m\u001b[1mwandb\u001b[0m: \tisBatchNormalization: False\n\u001b[34m\u001b[1mwandb\u001b[0m: \tisDataAug: False\n\u001b[34m\u001b[1mwandb\u001b[0m: \tlearning_rate: 0.001\n\u001b[34m\u001b[1mwandb\u001b[0m: \tmomentum: 0.9\n\u001b[34m\u001b[1mwandb\u001b[0m: \tn_neurons_denseLayer: 128\n\u001b[34m\u001b[1mwandb\u001b[0m: \tnum_filters: [32, 32, 32, 32, 32]\n\u001b[34m\u001b[1mwandb\u001b[0m: \toptimizer: rmsprop\n\u001b[34m\u001b[1mwandb\u001b[0m: \tweight_decay: 0.0005\n",
          "output_type": "stream"
        },
        {
          "output_type": "display_data",
          "data": {
            "text/plain": "<IPython.core.display.HTML object>",
            "text/html": "Tracking run with wandb version 0.19.6"
          },
          "metadata": {}
        },
        {
          "output_type": "display_data",
          "data": {
            "text/plain": "<IPython.core.display.HTML object>",
            "text/html": "Run data is saved locally in <code>/kaggle/working/wandb/run-20250419_171014-w2nyr42k</code>"
          },
          "metadata": {}
        },
        {
          "output_type": "display_data",
          "data": {
            "text/plain": "<IPython.core.display.HTML object>",
            "text/html": "Syncing run <strong><a href='https://wandb.ai/nikhithaa-iit-madras/DA6401_Assignment2/runs/w2nyr42k' target=\"_blank\">tough-sweep-13</a></strong> to <a href='https://wandb.ai/nikhithaa-iit-madras/DA6401_Assignment2' target=\"_blank\">Weights & Biases</a> (<a href='https://wandb.me/developer-guide' target=\"_blank\">docs</a>)<br>Sweep page: <a href='https://wandb.ai/nikhithaa-iit-madras/DA6401_Assignment2/sweeps/0kqsutes' target=\"_blank\">https://wandb.ai/nikhithaa-iit-madras/DA6401_Assignment2/sweeps/0kqsutes</a>"
          },
          "metadata": {}
        },
        {
          "output_type": "display_data",
          "data": {
            "text/plain": "<IPython.core.display.HTML object>",
            "text/html": " View project at <a href='https://wandb.ai/nikhithaa-iit-madras/DA6401_Assignment2' target=\"_blank\">https://wandb.ai/nikhithaa-iit-madras/DA6401_Assignment2</a>"
          },
          "metadata": {}
        },
        {
          "output_type": "display_data",
          "data": {
            "text/plain": "<IPython.core.display.HTML object>",
            "text/html": " View sweep at <a href='https://wandb.ai/nikhithaa-iit-madras/DA6401_Assignment2/sweeps/0kqsutes' target=\"_blank\">https://wandb.ai/nikhithaa-iit-madras/DA6401_Assignment2/sweeps/0kqsutes</a>"
          },
          "metadata": {}
        },
        {
          "output_type": "display_data",
          "data": {
            "text/plain": "<IPython.core.display.HTML object>",
            "text/html": " View run at <a href='https://wandb.ai/nikhithaa-iit-madras/DA6401_Assignment2/runs/w2nyr42k' target=\"_blank\">https://wandb.ai/nikhithaa-iit-madras/DA6401_Assignment2/runs/w2nyr42k</a>"
          },
          "metadata": {}
        },
        {
          "name": "stdout",
          "text": "Epoch 0:\nBatch idx 0 running\nBatch idx 40 running\nBatch idx 80 running\nBatch idx 120 running\nvalidation: loss=0.649111221075058, accuracy=83.1\ntraining: loss=0.6688293928816283, accuracy=81.87273409176147\nEpoch 1:\nBatch idx 0 running\nBatch idx 40 running\nBatch idx 80 running\nBatch idx 120 running\nvalidation: loss=0.5347934131622314, accuracy=84.15\ntraining: loss=0.5190105975262894, accuracy=84.88561070133767\nEpoch 2:\nBatch idx 0 running\nBatch idx 40 running\nBatch idx 80 running\nBatch idx 120 running\nvalidation: loss=0.4914177017211914, accuracy=85.6\ntraining: loss=0.4666926846427908, accuracy=86.01075134391799\nEpoch 3:\nBatch idx 0 running\nBatch idx 40 running\nBatch idx 80 running\nBatch idx 120 running\nvalidation: loss=0.47491951966285706, accuracy=85.0\ntraining: loss=0.4393780206997613, accuracy=86.74834354294286\nEpoch 4:\nBatch idx 0 running\nBatch idx 40 running\nBatch idx 80 running\nBatch idx 120 running\nvalidation: loss=0.45956112098693847, accuracy=86.05\ntraining: loss=0.41918535903701637, accuracy=87.11088886110764\nEpoch 5:\nBatch idx 0 running\nBatch idx 40 running\nBatch idx 80 running\nBatch idx 120 running\nvalidation: loss=0.4502799850702286, accuracy=86.4\ntraining: loss=0.39436226816442044, accuracy=87.68596074509314\nEpoch 6:\nBatch idx 0 running\nBatch idx 40 running\nBatch idx 80 running\nBatch idx 120 running\nvalidation: loss=0.44192469930648803, accuracy=86.2\ntraining: loss=0.37864469807883294, accuracy=87.93599199899988\nEpoch 7:\nBatch idx 0 running\nBatch idx 40 running\nBatch idx 80 running\nBatch idx 120 running\nvalidation: loss=0.46169545245170596, accuracy=85.7\ntraining: loss=0.37537438800698864, accuracy=88.53606700837605\nEpoch 8:\nBatch idx 0 running\nBatch idx 40 running\nBatch idx 80 running\nBatch idx 120 running\nvalidation: loss=0.4663289666175842, accuracy=86.3\ntraining: loss=0.35902818117920854, accuracy=88.78609826228279\nEpoch 9:\nBatch idx 0 running\nBatch idx 40 running\nBatch idx 80 running\nBatch idx 120 running\nvalidation: loss=0.4474604916572571, accuracy=86.0\ntraining: loss=0.3493602348239828, accuracy=89.04863107888487\ntesting: loss=0.46610366344451903, top1_accuracy=84.9, top5_accuracy = 98.6, top2_accuracy = 93.25\n",
          "output_type": "stream"
        },
        {
          "output_type": "display_data",
          "data": {
            "text/plain": "<IPython.core.display.HTML object>",
            "text/html": ""
          },
          "metadata": {}
        },
        {
          "output_type": "display_data",
          "data": {
            "text/plain": "<IPython.core.display.HTML object>",
            "text/html": "<br>    <style><br>        .wandb-row {<br>            display: flex;<br>            flex-direction: row;<br>            flex-wrap: wrap;<br>            justify-content: flex-start;<br>            width: 100%;<br>        }<br>        .wandb-col {<br>            display: flex;<br>            flex-direction: column;<br>            flex-basis: 100%;<br>            flex: 1;<br>            padding: 10px;<br>        }<br>    </style><br><div class=\"wandb-row\"><div class=\"wandb-col\"><h3>Run history:</h3><br/><table class=\"wandb\"><tr><td>best_acc_epoch</td><td>▁</td></tr><tr><td>best_val_accuracy</td><td>▁</td></tr><tr><td>epoch</td><td>▁▂▃▃▄▅▆▆▇█</td></tr><tr><td>test_loss</td><td>▁</td></tr><tr><td>test_top1_accuracy</td><td>▁</td></tr><tr><td>test_top2_accuracy</td><td>▁</td></tr><tr><td>test_top5_accuracy</td><td>▁</td></tr><tr><td>train_accuracy</td><td>▁▄▅▆▆▇▇▇██</td></tr><tr><td>train_loss</td><td>█▅▄▃▃▂▂▂▁▁</td></tr><tr><td>val_accuracy</td><td>▁▃▆▅▇██▇█▇</td></tr><tr><td>val_loss</td><td>█▄▃▂▂▁▁▂▂▁</td></tr></table><br/></div><div class=\"wandb-col\"><h3>Run summary:</h3><br/><table class=\"wandb\"><tr><td>best_acc_epoch</td><td>5</td></tr><tr><td>best_val_accuracy</td><td>86.4</td></tr><tr><td>epoch</td><td>10</td></tr><tr><td>test_loss</td><td>0.4661</td></tr><tr><td>test_top1_accuracy</td><td>84.9</td></tr><tr><td>test_top2_accuracy</td><td>93.25</td></tr><tr><td>test_top5_accuracy</td><td>98.6</td></tr><tr><td>train_accuracy</td><td>89.04863</td></tr><tr><td>train_loss</td><td>0.34936</td></tr><tr><td>val_accuracy</td><td>86</td></tr><tr><td>val_loss</td><td>0.44746</td></tr></table><br/></div></div>"
          },
          "metadata": {}
        },
        {
          "output_type": "display_data",
          "data": {
            "text/plain": "<IPython.core.display.HTML object>",
            "text/html": " View run <strong style=\"color:#cdcd00\">rmsprop_64_10_0.001_DataAug-False</strong> at: <a href='https://wandb.ai/nikhithaa-iit-madras/DA6401_Assignment2/runs/w2nyr42k' target=\"_blank\">https://wandb.ai/nikhithaa-iit-madras/DA6401_Assignment2/runs/w2nyr42k</a><br> View project at: <a href='https://wandb.ai/nikhithaa-iit-madras/DA6401_Assignment2' target=\"_blank\">https://wandb.ai/nikhithaa-iit-madras/DA6401_Assignment2</a><br>Synced 5 W&B file(s), 0 media file(s), 0 artifact file(s) and 0 other file(s)"
          },
          "metadata": {}
        },
        {
          "output_type": "display_data",
          "data": {
            "text/plain": "<IPython.core.display.HTML object>",
            "text/html": "Find logs at: <code>./wandb/run-20250419_171014-w2nyr42k/logs</code>"
          },
          "metadata": {}
        },
        {
          "name": "stderr",
          "text": "\u001b[34m\u001b[1mwandb\u001b[0m: Agent Starting Run: 4zcz4mnf with config:\n\u001b[34m\u001b[1mwandb\u001b[0m: \tactivation: ReLU\n\u001b[34m\u001b[1mwandb\u001b[0m: \tbase_dir: /kaggle/input/inaturalist/inaturalist_12K\n\u001b[34m\u001b[1mwandb\u001b[0m: \tbatch_size: 32\n\u001b[34m\u001b[1mwandb\u001b[0m: \tbeta: 0.9\n\u001b[34m\u001b[1mwandb\u001b[0m: \tbeta1: 0.9\n\u001b[34m\u001b[1mwandb\u001b[0m: \tbeta2: 0.999\n\u001b[34m\u001b[1mwandb\u001b[0m: \tdropout: 0\n\u001b[34m\u001b[1mwandb\u001b[0m: \tepochs: 10\n\u001b[34m\u001b[1mwandb\u001b[0m: \tepsilon: 1e-08\n\u001b[34m\u001b[1mwandb\u001b[0m: \tfilter_sizes: [3, 3, 3, 3, 3]\n\u001b[34m\u001b[1mwandb\u001b[0m: \tisBatchNormalization: False\n\u001b[34m\u001b[1mwandb\u001b[0m: \tisDataAug: True\n\u001b[34m\u001b[1mwandb\u001b[0m: \tlearning_rate: 0.0001\n\u001b[34m\u001b[1mwandb\u001b[0m: \tmomentum: 0.9\n\u001b[34m\u001b[1mwandb\u001b[0m: \tn_neurons_denseLayer: 128\n\u001b[34m\u001b[1mwandb\u001b[0m: \tnum_filters: [32, 32, 32, 32, 32]\n\u001b[34m\u001b[1mwandb\u001b[0m: \toptimizer: rmsprop\n\u001b[34m\u001b[1mwandb\u001b[0m: \tweight_decay: 0.0005\n",
          "output_type": "stream"
        },
        {
          "output_type": "display_data",
          "data": {
            "text/plain": "<IPython.core.display.HTML object>",
            "text/html": "Tracking run with wandb version 0.19.6"
          },
          "metadata": {}
        },
        {
          "output_type": "display_data",
          "data": {
            "text/plain": "<IPython.core.display.HTML object>",
            "text/html": "Run data is saved locally in <code>/kaggle/working/wandb/run-20250419_173743-4zcz4mnf</code>"
          },
          "metadata": {}
        },
        {
          "output_type": "display_data",
          "data": {
            "text/plain": "<IPython.core.display.HTML object>",
            "text/html": "Syncing run <strong><a href='https://wandb.ai/nikhithaa-iit-madras/DA6401_Assignment2/runs/4zcz4mnf' target=\"_blank\">zany-sweep-14</a></strong> to <a href='https://wandb.ai/nikhithaa-iit-madras/DA6401_Assignment2' target=\"_blank\">Weights & Biases</a> (<a href='https://wandb.me/developer-guide' target=\"_blank\">docs</a>)<br>Sweep page: <a href='https://wandb.ai/nikhithaa-iit-madras/DA6401_Assignment2/sweeps/0kqsutes' target=\"_blank\">https://wandb.ai/nikhithaa-iit-madras/DA6401_Assignment2/sweeps/0kqsutes</a>"
          },
          "metadata": {}
        },
        {
          "output_type": "display_data",
          "data": {
            "text/plain": "<IPython.core.display.HTML object>",
            "text/html": " View project at <a href='https://wandb.ai/nikhithaa-iit-madras/DA6401_Assignment2' target=\"_blank\">https://wandb.ai/nikhithaa-iit-madras/DA6401_Assignment2</a>"
          },
          "metadata": {}
        },
        {
          "output_type": "display_data",
          "data": {
            "text/plain": "<IPython.core.display.HTML object>",
            "text/html": " View sweep at <a href='https://wandb.ai/nikhithaa-iit-madras/DA6401_Assignment2/sweeps/0kqsutes' target=\"_blank\">https://wandb.ai/nikhithaa-iit-madras/DA6401_Assignment2/sweeps/0kqsutes</a>"
          },
          "metadata": {}
        },
        {
          "output_type": "display_data",
          "data": {
            "text/plain": "<IPython.core.display.HTML object>",
            "text/html": " View run at <a href='https://wandb.ai/nikhithaa-iit-madras/DA6401_Assignment2/runs/4zcz4mnf' target=\"_blank\">https://wandb.ai/nikhithaa-iit-madras/DA6401_Assignment2/runs/4zcz4mnf</a>"
          },
          "metadata": {}
        },
        {
          "name": "stdout",
          "text": "Epoch 0:\nBatch idx 0 running\nBatch idx 40 running\nBatch idx 80 running\nBatch idx 120 running\nBatch idx 160 running\nBatch idx 200 running\nBatch idx 240 running\nvalidation: loss=1.5699910345077515, accuracy=76.7\ntraining: loss=1.5749780674519607, accuracy=75.02187773471684\nEpoch 1:\nBatch idx 0 running\nBatch idx 40 running\nBatch idx 80 running\nBatch idx 120 running\nBatch idx 160 running\nBatch idx 200 running\nBatch idx 240 running\nvalidation: loss=1.1065853071212768, accuracy=81.8\ntraining: loss=1.1222796984830041, accuracy=78.37229653706713\nEpoch 2:\nBatch idx 0 running\nBatch idx 40 running\nBatch idx 80 running\nBatch idx 120 running\nBatch idx 160 running\nBatch idx 200 running\nBatch idx 240 running\nvalidation: loss=0.8775346856117249, accuracy=81.3\ntraining: loss=0.8903732970887861, accuracy=80.16002000250032\nEpoch 3:\nBatch idx 0 running\nBatch idx 40 running\nBatch idx 80 running\nBatch idx 120 running\nBatch idx 160 running\nBatch idx 200 running\nBatch idx 240 running\nvalidation: loss=0.7651665577888489, accuracy=81.4\ntraining: loss=0.7676323029097505, accuracy=80.99762470308788\nEpoch 4:\nBatch idx 0 running\nBatch idx 40 running\nBatch idx 80 running\nBatch idx 120 running\nBatch idx 160 running\nBatch idx 200 running\nBatch idx 240 running\nvalidation: loss=0.6820857746601104, accuracy=82.05\ntraining: loss=0.6954825519397715, accuracy=81.71021377672209\nEpoch 5:\nBatch idx 0 running\nBatch idx 40 running\nBatch idx 80 running\nBatch idx 120 running\nBatch idx 160 running\nBatch idx 200 running\nBatch idx 240 running\nvalidation: loss=0.6339279828071595, accuracy=83.95\ntraining: loss=0.6514852531761925, accuracy=82.23527940992624\nEpoch 6:\nBatch idx 0 running\nBatch idx 40 running\nBatch idx 80 running\nBatch idx 120 running\nBatch idx 160 running\nBatch idx 200 running\nBatch idx 240 running\nvalidation: loss=0.5971571917533874, accuracy=84.25\ntraining: loss=0.6123497815769394, accuracy=83.07288411051381\nEpoch 7:\nBatch idx 0 running\nBatch idx 40 running\nBatch idx 80 running\nBatch idx 120 running\nBatch idx 160 running\nBatch idx 200 running\nBatch idx 240 running\nvalidation: loss=0.5813808350563049, accuracy=84.3\ntraining: loss=0.5932621595590976, accuracy=83.06038254781848\nEpoch 8:\nBatch idx 0 running\nBatch idx 40 running\nBatch idx 80 running\nBatch idx 120 running\nBatch idx 160 running\nBatch idx 200 running\nBatch idx 240 running\nvalidation: loss=0.5559209241867066, accuracy=85.2\ntraining: loss=0.5627789794690818, accuracy=84.12301537692211\nEpoch 9:\nBatch idx 0 running\nBatch idx 40 running\nBatch idx 80 running\nBatch idx 120 running\nBatch idx 160 running\nBatch idx 200 running\nBatch idx 240 running\nvalidation: loss=0.5450559341907502, accuracy=84.5\ntraining: loss=0.5502889988153842, accuracy=83.72296537067133\ntesting: loss=0.5634597043991089, top1_accuracy=83.25, top5_accuracy = 98.45, top2_accuracy = 93.3\n",
          "output_type": "stream"
        },
        {
          "output_type": "display_data",
          "data": {
            "text/plain": "<IPython.core.display.HTML object>",
            "text/html": ""
          },
          "metadata": {}
        },
        {
          "output_type": "display_data",
          "data": {
            "text/plain": "<IPython.core.display.HTML object>",
            "text/html": "<br>    <style><br>        .wandb-row {<br>            display: flex;<br>            flex-direction: row;<br>            flex-wrap: wrap;<br>            justify-content: flex-start;<br>            width: 100%;<br>        }<br>        .wandb-col {<br>            display: flex;<br>            flex-direction: column;<br>            flex-basis: 100%;<br>            flex: 1;<br>            padding: 10px;<br>        }<br>    </style><br><div class=\"wandb-row\"><div class=\"wandb-col\"><h3>Run history:</h3><br/><table class=\"wandb\"><tr><td>best_acc_epoch</td><td>▁</td></tr><tr><td>best_val_accuracy</td><td>▁</td></tr><tr><td>epoch</td><td>▁▂▃▃▄▅▆▆▇█</td></tr><tr><td>test_loss</td><td>▁</td></tr><tr><td>test_top1_accuracy</td><td>▁</td></tr><tr><td>test_top2_accuracy</td><td>▁</td></tr><tr><td>test_top5_accuracy</td><td>▁</td></tr><tr><td>train_accuracy</td><td>▁▄▅▆▆▇▇▇██</td></tr><tr><td>train_loss</td><td>█▅▃▂▂▂▁▁▁▁</td></tr><tr><td>val_accuracy</td><td>▁▅▅▅▅▇▇▇█▇</td></tr><tr><td>val_loss</td><td>█▅▃▃▂▂▁▁▁▁</td></tr></table><br/></div><div class=\"wandb-col\"><h3>Run summary:</h3><br/><table class=\"wandb\"><tr><td>best_acc_epoch</td><td>8</td></tr><tr><td>best_val_accuracy</td><td>85.2</td></tr><tr><td>epoch</td><td>10</td></tr><tr><td>test_loss</td><td>0.56346</td></tr><tr><td>test_top1_accuracy</td><td>83.25</td></tr><tr><td>test_top2_accuracy</td><td>93.3</td></tr><tr><td>test_top5_accuracy</td><td>98.45</td></tr><tr><td>train_accuracy</td><td>83.72297</td></tr><tr><td>train_loss</td><td>0.55029</td></tr><tr><td>val_accuracy</td><td>84.5</td></tr><tr><td>val_loss</td><td>0.54506</td></tr></table><br/></div></div>"
          },
          "metadata": {}
        },
        {
          "output_type": "display_data",
          "data": {
            "text/plain": "<IPython.core.display.HTML object>",
            "text/html": " View run <strong style=\"color:#cdcd00\">rmsprop_32_10_0.0001_DataAug-True</strong> at: <a href='https://wandb.ai/nikhithaa-iit-madras/DA6401_Assignment2/runs/4zcz4mnf' target=\"_blank\">https://wandb.ai/nikhithaa-iit-madras/DA6401_Assignment2/runs/4zcz4mnf</a><br> View project at: <a href='https://wandb.ai/nikhithaa-iit-madras/DA6401_Assignment2' target=\"_blank\">https://wandb.ai/nikhithaa-iit-madras/DA6401_Assignment2</a><br>Synced 5 W&B file(s), 0 media file(s), 0 artifact file(s) and 0 other file(s)"
          },
          "metadata": {}
        },
        {
          "output_type": "display_data",
          "data": {
            "text/plain": "<IPython.core.display.HTML object>",
            "text/html": "Find logs at: <code>./wandb/run-20250419_173743-4zcz4mnf/logs</code>"
          },
          "metadata": {}
        },
        {
          "name": "stderr",
          "text": "\u001b[34m\u001b[1mwandb\u001b[0m: Agent Starting Run: itv9yabf with config:\n\u001b[34m\u001b[1mwandb\u001b[0m: \tactivation: ReLU\n\u001b[34m\u001b[1mwandb\u001b[0m: \tbase_dir: /kaggle/input/inaturalist/inaturalist_12K\n\u001b[34m\u001b[1mwandb\u001b[0m: \tbatch_size: 64\n\u001b[34m\u001b[1mwandb\u001b[0m: \tbeta: 0.9\n\u001b[34m\u001b[1mwandb\u001b[0m: \tbeta1: 0.9\n\u001b[34m\u001b[1mwandb\u001b[0m: \tbeta2: 0.999\n\u001b[34m\u001b[1mwandb\u001b[0m: \tdropout: 0\n\u001b[34m\u001b[1mwandb\u001b[0m: \tepochs: 5\n\u001b[34m\u001b[1mwandb\u001b[0m: \tepsilon: 1e-08\n\u001b[34m\u001b[1mwandb\u001b[0m: \tfilter_sizes: [3, 3, 3, 3, 3]\n\u001b[34m\u001b[1mwandb\u001b[0m: \tisBatchNormalization: False\n\u001b[34m\u001b[1mwandb\u001b[0m: \tisDataAug: False\n\u001b[34m\u001b[1mwandb\u001b[0m: \tlearning_rate: 0.001\n\u001b[34m\u001b[1mwandb\u001b[0m: \tmomentum: 0.9\n\u001b[34m\u001b[1mwandb\u001b[0m: \tn_neurons_denseLayer: 128\n\u001b[34m\u001b[1mwandb\u001b[0m: \tnum_filters: [32, 32, 32, 32, 32]\n\u001b[34m\u001b[1mwandb\u001b[0m: \toptimizer: rmsprop\n\u001b[34m\u001b[1mwandb\u001b[0m: \tweight_decay: 0.0005\n",
          "output_type": "stream"
        },
        {
          "output_type": "display_data",
          "data": {
            "text/plain": "<IPython.core.display.HTML object>",
            "text/html": "Tracking run with wandb version 0.19.6"
          },
          "metadata": {}
        },
        {
          "output_type": "display_data",
          "data": {
            "text/plain": "<IPython.core.display.HTML object>",
            "text/html": "Run data is saved locally in <code>/kaggle/working/wandb/run-20250419_180502-itv9yabf</code>"
          },
          "metadata": {}
        },
        {
          "output_type": "display_data",
          "data": {
            "text/plain": "<IPython.core.display.HTML object>",
            "text/html": "Syncing run <strong><a href='https://wandb.ai/nikhithaa-iit-madras/DA6401_Assignment2/runs/itv9yabf' target=\"_blank\">hearty-sweep-15</a></strong> to <a href='https://wandb.ai/nikhithaa-iit-madras/DA6401_Assignment2' target=\"_blank\">Weights & Biases</a> (<a href='https://wandb.me/developer-guide' target=\"_blank\">docs</a>)<br>Sweep page: <a href='https://wandb.ai/nikhithaa-iit-madras/DA6401_Assignment2/sweeps/0kqsutes' target=\"_blank\">https://wandb.ai/nikhithaa-iit-madras/DA6401_Assignment2/sweeps/0kqsutes</a>"
          },
          "metadata": {}
        },
        {
          "output_type": "display_data",
          "data": {
            "text/plain": "<IPython.core.display.HTML object>",
            "text/html": " View project at <a href='https://wandb.ai/nikhithaa-iit-madras/DA6401_Assignment2' target=\"_blank\">https://wandb.ai/nikhithaa-iit-madras/DA6401_Assignment2</a>"
          },
          "metadata": {}
        },
        {
          "output_type": "display_data",
          "data": {
            "text/plain": "<IPython.core.display.HTML object>",
            "text/html": " View sweep at <a href='https://wandb.ai/nikhithaa-iit-madras/DA6401_Assignment2/sweeps/0kqsutes' target=\"_blank\">https://wandb.ai/nikhithaa-iit-madras/DA6401_Assignment2/sweeps/0kqsutes</a>"
          },
          "metadata": {}
        },
        {
          "output_type": "display_data",
          "data": {
            "text/plain": "<IPython.core.display.HTML object>",
            "text/html": " View run at <a href='https://wandb.ai/nikhithaa-iit-madras/DA6401_Assignment2/runs/itv9yabf' target=\"_blank\">https://wandb.ai/nikhithaa-iit-madras/DA6401_Assignment2/runs/itv9yabf</a>"
          },
          "metadata": {}
        },
        {
          "name": "stdout",
          "text": "Epoch 0:\nBatch idx 0 running\nBatch idx 40 running\nBatch idx 80 running\nBatch idx 120 running\nvalidation: loss=0.6649145965576172, accuracy=82.7\ntraining: loss=0.6685900366415097, accuracy=81.72271533941743\nEpoch 1:\nBatch idx 0 running\nBatch idx 40 running\nBatch idx 80 running\nBatch idx 120 running\nvalidation: loss=0.5296001238822937, accuracy=84.75\ntraining: loss=0.5252533480292157, accuracy=84.33554194274284\nEpoch 2:\nBatch idx 0 running\nBatch idx 40 running\nBatch idx 80 running\nBatch idx 120 running\nvalidation: loss=0.4754569523334503, accuracy=85.55\ntraining: loss=0.4628331530785647, accuracy=86.12326540817602\nEpoch 3:\nBatch idx 0 running\nBatch idx 40 running\nBatch idx 80 running\nBatch idx 120 running\nvalidation: loss=0.4882413737773895, accuracy=84.8\ntraining: loss=0.44004768121241034, accuracy=86.59832479059882\nEpoch 4:\nBatch idx 0 running\nBatch idx 40 running\nBatch idx 80 running\nBatch idx 120 running\nvalidation: loss=0.45395001327991485, accuracy=85.6\ntraining: loss=0.41287158179810707, accuracy=87.4734341792724\ntesting: loss=0.4742666435241699, top1_accuracy=85.25, top5_accuracy = 98.4, top2_accuracy = 93.15\n",
          "output_type": "stream"
        },
        {
          "output_type": "display_data",
          "data": {
            "text/plain": "<IPython.core.display.HTML object>",
            "text/html": ""
          },
          "metadata": {}
        },
        {
          "output_type": "display_data",
          "data": {
            "text/plain": "<IPython.core.display.HTML object>",
            "text/html": "<br>    <style><br>        .wandb-row {<br>            display: flex;<br>            flex-direction: row;<br>            flex-wrap: wrap;<br>            justify-content: flex-start;<br>            width: 100%;<br>        }<br>        .wandb-col {<br>            display: flex;<br>            flex-direction: column;<br>            flex-basis: 100%;<br>            flex: 1;<br>            padding: 10px;<br>        }<br>    </style><br><div class=\"wandb-row\"><div class=\"wandb-col\"><h3>Run history:</h3><br/><table class=\"wandb\"><tr><td>best_acc_epoch</td><td>▁</td></tr><tr><td>best_val_accuracy</td><td>▁</td></tr><tr><td>epoch</td><td>▁▃▅▆█</td></tr><tr><td>test_loss</td><td>▁</td></tr><tr><td>test_top1_accuracy</td><td>▁</td></tr><tr><td>test_top2_accuracy</td><td>▁</td></tr><tr><td>test_top5_accuracy</td><td>▁</td></tr><tr><td>train_accuracy</td><td>▁▄▆▇█</td></tr><tr><td>train_loss</td><td>█▄▂▂▁</td></tr><tr><td>val_accuracy</td><td>▁▆█▆█</td></tr><tr><td>val_loss</td><td>█▄▂▂▁</td></tr></table><br/></div><div class=\"wandb-col\"><h3>Run summary:</h3><br/><table class=\"wandb\"><tr><td>best_acc_epoch</td><td>4</td></tr><tr><td>best_val_accuracy</td><td>85.6</td></tr><tr><td>epoch</td><td>5</td></tr><tr><td>test_loss</td><td>0.47427</td></tr><tr><td>test_top1_accuracy</td><td>85.25</td></tr><tr><td>test_top2_accuracy</td><td>93.15</td></tr><tr><td>test_top5_accuracy</td><td>98.4</td></tr><tr><td>train_accuracy</td><td>87.47343</td></tr><tr><td>train_loss</td><td>0.41287</td></tr><tr><td>val_accuracy</td><td>85.6</td></tr><tr><td>val_loss</td><td>0.45395</td></tr></table><br/></div></div>"
          },
          "metadata": {}
        },
        {
          "output_type": "display_data",
          "data": {
            "text/plain": "<IPython.core.display.HTML object>",
            "text/html": " View run <strong style=\"color:#cdcd00\">rmsprop_64_5_0.001_DataAug-False</strong> at: <a href='https://wandb.ai/nikhithaa-iit-madras/DA6401_Assignment2/runs/itv9yabf' target=\"_blank\">https://wandb.ai/nikhithaa-iit-madras/DA6401_Assignment2/runs/itv9yabf</a><br> View project at: <a href='https://wandb.ai/nikhithaa-iit-madras/DA6401_Assignment2' target=\"_blank\">https://wandb.ai/nikhithaa-iit-madras/DA6401_Assignment2</a><br>Synced 5 W&B file(s), 0 media file(s), 0 artifact file(s) and 0 other file(s)"
          },
          "metadata": {}
        },
        {
          "output_type": "display_data",
          "data": {
            "text/plain": "<IPython.core.display.HTML object>",
            "text/html": "Find logs at: <code>./wandb/run-20250419_180502-itv9yabf/logs</code>"
          },
          "metadata": {}
        },
        {
          "name": "stderr",
          "text": "\u001b[34m\u001b[1mwandb\u001b[0m: Agent Starting Run: qzj6pcia with config:\n\u001b[34m\u001b[1mwandb\u001b[0m: \tactivation: ReLU\n\u001b[34m\u001b[1mwandb\u001b[0m: \tbase_dir: /kaggle/input/inaturalist/inaturalist_12K\n\u001b[34m\u001b[1mwandb\u001b[0m: \tbatch_size: 64\n\u001b[34m\u001b[1mwandb\u001b[0m: \tbeta: 0.9\n\u001b[34m\u001b[1mwandb\u001b[0m: \tbeta1: 0.9\n\u001b[34m\u001b[1mwandb\u001b[0m: \tbeta2: 0.999\n\u001b[34m\u001b[1mwandb\u001b[0m: \tdropout: 0\n\u001b[34m\u001b[1mwandb\u001b[0m: \tepochs: 10\n\u001b[34m\u001b[1mwandb\u001b[0m: \tepsilon: 1e-08\n\u001b[34m\u001b[1mwandb\u001b[0m: \tfilter_sizes: [3, 3, 3, 3, 3]\n\u001b[34m\u001b[1mwandb\u001b[0m: \tisBatchNormalization: False\n\u001b[34m\u001b[1mwandb\u001b[0m: \tisDataAug: False\n\u001b[34m\u001b[1mwandb\u001b[0m: \tlearning_rate: 0.0001\n\u001b[34m\u001b[1mwandb\u001b[0m: \tmomentum: 0.9\n\u001b[34m\u001b[1mwandb\u001b[0m: \tn_neurons_denseLayer: 128\n\u001b[34m\u001b[1mwandb\u001b[0m: \tnum_filters: [32, 32, 32, 32, 32]\n\u001b[34m\u001b[1mwandb\u001b[0m: \toptimizer: sgd\n\u001b[34m\u001b[1mwandb\u001b[0m: \tweight_decay: 0.0001\n",
          "output_type": "stream"
        },
        {
          "output_type": "display_data",
          "data": {
            "text/plain": "<IPython.core.display.HTML object>",
            "text/html": "Tracking run with wandb version 0.19.6"
          },
          "metadata": {}
        },
        {
          "output_type": "display_data",
          "data": {
            "text/plain": "<IPython.core.display.HTML object>",
            "text/html": "Run data is saved locally in <code>/kaggle/working/wandb/run-20250419_181902-qzj6pcia</code>"
          },
          "metadata": {}
        },
        {
          "output_type": "display_data",
          "data": {
            "text/plain": "<IPython.core.display.HTML object>",
            "text/html": "Syncing run <strong><a href='https://wandb.ai/nikhithaa-iit-madras/DA6401_Assignment2/runs/qzj6pcia' target=\"_blank\">fiery-sweep-16</a></strong> to <a href='https://wandb.ai/nikhithaa-iit-madras/DA6401_Assignment2' target=\"_blank\">Weights & Biases</a> (<a href='https://wandb.me/developer-guide' target=\"_blank\">docs</a>)<br>Sweep page: <a href='https://wandb.ai/nikhithaa-iit-madras/DA6401_Assignment2/sweeps/0kqsutes' target=\"_blank\">https://wandb.ai/nikhithaa-iit-madras/DA6401_Assignment2/sweeps/0kqsutes</a>"
          },
          "metadata": {}
        },
        {
          "output_type": "display_data",
          "data": {
            "text/plain": "<IPython.core.display.HTML object>",
            "text/html": " View project at <a href='https://wandb.ai/nikhithaa-iit-madras/DA6401_Assignment2' target=\"_blank\">https://wandb.ai/nikhithaa-iit-madras/DA6401_Assignment2</a>"
          },
          "metadata": {}
        },
        {
          "output_type": "display_data",
          "data": {
            "text/plain": "<IPython.core.display.HTML object>",
            "text/html": " View sweep at <a href='https://wandb.ai/nikhithaa-iit-madras/DA6401_Assignment2/sweeps/0kqsutes' target=\"_blank\">https://wandb.ai/nikhithaa-iit-madras/DA6401_Assignment2/sweeps/0kqsutes</a>"
          },
          "metadata": {}
        },
        {
          "output_type": "display_data",
          "data": {
            "text/plain": "<IPython.core.display.HTML object>",
            "text/html": " View run at <a href='https://wandb.ai/nikhithaa-iit-madras/DA6401_Assignment2/runs/qzj6pcia' target=\"_blank\">https://wandb.ai/nikhithaa-iit-madras/DA6401_Assignment2/runs/qzj6pcia</a>"
          },
          "metadata": {}
        },
        {
          "name": "stdout",
          "text": "Epoch 0:\nBatch idx 0 running\nBatch idx 40 running\nBatch idx 80 running\nBatch idx 120 running\nvalidation: loss=2.216280937194824, accuracy=24.3\ntraining: loss=2.2157239029893043, accuracy=23.577947243405426\nEpoch 1:\nBatch idx 0 running\nBatch idx 40 running\nBatch idx 80 running\nBatch idx 120 running\nvalidation: loss=2.1112672119140625, accuracy=41.6\ntraining: loss=2.1050654601299668, accuracy=42.367795974496815\nEpoch 2:\nBatch idx 0 running\nBatch idx 40 running\nBatch idx 80 running\nBatch idx 120 running\nvalidation: loss=2.003027765274048, accuracy=55.8\ntraining: loss=2.002930264008583, accuracy=55.081885235654454\nEpoch 3:\nBatch idx 0 running\nBatch idx 40 running\nBatch idx 80 running\nBatch idx 120 running\nvalidation: loss=1.9110452480316162, accuracy=63.85\ntraining: loss=1.9093199649413297, accuracy=62.40780097512189\nEpoch 4:\nBatch idx 0 running\nBatch idx 40 running\nBatch idx 80 running\nBatch idx 120 running\nvalidation: loss=1.8234469785690308, accuracy=68.0\ntraining: loss=1.825346739698401, accuracy=67.17089636204526\nEpoch 5:\nBatch idx 0 running\nBatch idx 40 running\nBatch idx 80 running\nBatch idx 120 running\nvalidation: loss=1.7432775545120238, accuracy=71.45\ntraining: loss=1.7466949967089735, accuracy=69.87123390423803\nEpoch 6:\nBatch idx 0 running\nBatch idx 40 running\nBatch idx 80 running\nBatch idx 120 running\n",
          "output_type": "stream"
        },
        {
          "name": "stderr",
          "text": "\u001b[34m\u001b[1mwandb\u001b[0m: Ctrl + C detected. Stopping sweep.\n",
          "output_type": "stream"
        },
        {
          "output_type": "display_data",
          "data": {
            "text/plain": "<IPython.core.display.HTML object>",
            "text/html": ""
          },
          "metadata": {}
        },
        {
          "output_type": "display_data",
          "data": {
            "text/plain": "<IPython.core.display.HTML object>",
            "text/html": "<br>    <style><br>        .wandb-row {<br>            display: flex;<br>            flex-direction: row;<br>            flex-wrap: wrap;<br>            justify-content: flex-start;<br>            width: 100%;<br>        }<br>        .wandb-col {<br>            display: flex;<br>            flex-direction: column;<br>            flex-basis: 100%;<br>            flex: 1;<br>            padding: 10px;<br>        }<br>    </style><br><div class=\"wandb-row\"><div class=\"wandb-col\"><h3>Run history:</h3><br/><table class=\"wandb\"><tr><td>epoch</td><td>▁▂▄▅▇█</td></tr><tr><td>train_accuracy</td><td>▁▄▆▇██</td></tr><tr><td>train_loss</td><td>█▆▅▃▂▁</td></tr><tr><td>val_accuracy</td><td>▁▄▆▇▇█</td></tr><tr><td>val_loss</td><td>█▆▅▃▂▁</td></tr></table><br/></div><div class=\"wandb-col\"><h3>Run summary:</h3><br/><table class=\"wandb\"><tr><td>epoch</td><td>6</td></tr><tr><td>train_accuracy</td><td>69.87123</td></tr><tr><td>train_loss</td><td>1.74669</td></tr><tr><td>val_accuracy</td><td>71.45</td></tr><tr><td>val_loss</td><td>1.74328</td></tr></table><br/></div></div>"
          },
          "metadata": {}
        },
        {
          "output_type": "display_data",
          "data": {
            "text/plain": "<IPython.core.display.HTML object>",
            "text/html": " View run <strong style=\"color:#cdcd00\">sgd_64_10_0.0001_DataAug-False</strong> at: <a href='https://wandb.ai/nikhithaa-iit-madras/DA6401_Assignment2/runs/qzj6pcia' target=\"_blank\">https://wandb.ai/nikhithaa-iit-madras/DA6401_Assignment2/runs/qzj6pcia</a><br> View project at: <a href='https://wandb.ai/nikhithaa-iit-madras/DA6401_Assignment2' target=\"_blank\">https://wandb.ai/nikhithaa-iit-madras/DA6401_Assignment2</a><br>Synced 5 W&B file(s), 0 media file(s), 0 artifact file(s) and 0 other file(s)"
          },
          "metadata": {}
        },
        {
          "output_type": "display_data",
          "data": {
            "text/plain": "<IPython.core.display.HTML object>",
            "text/html": "Find logs at: <code>./wandb/run-20250419_181902-qzj6pcia/logs</code>"
          },
          "metadata": {}
        }
      ],
      "execution_count": null
    }
  ]
}